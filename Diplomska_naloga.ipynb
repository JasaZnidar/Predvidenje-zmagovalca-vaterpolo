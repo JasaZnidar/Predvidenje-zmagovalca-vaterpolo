{
  "cells": [
    {
      "cell_type": "markdown",
      "metadata": {
        "id": "view-in-github",
        "colab_type": "text"
      },
      "source": [
        "<a href=\"https://colab.research.google.com/github/JasaZnidar/Predvidenje-zmagovalca-vaterpolo/blob/mathematics-all3/Diplomska_naloga.ipynb\" target=\"_parent\"><img src=\"https://colab.research.google.com/assets/colab-badge.svg\" alt=\"Open In Colab\"/></a>"
      ]
    },
    {
      "cell_type": "markdown",
      "metadata": {
        "id": "VBFEUPjNChfb"
      },
      "source": [
        "# Setup"
      ]
    },
    {
      "cell_type": "code",
      "execution_count": 1,
      "metadata": {
        "id": "pQMPL8B7EWKB",
        "cellView": "form"
      },
      "outputs": [],
      "source": [
        "# @title Imports\n",
        "import json\n",
        "import requests\n",
        "from zipfile import ZipFile\n",
        "from io import BytesIO\n",
        "import numpy as np\n",
        "import random\n",
        "\n",
        "import warnings"
      ]
    },
    {
      "cell_type": "markdown",
      "source": [
        "# Support functions"
      ],
      "metadata": {
        "id": "1ePQ7qQm9Nj4"
      }
    },
    {
      "cell_type": "code",
      "source": [
        "# @title Event data to vector data\n",
        "def eventToVector(event: dict) -> tuple[list[float], list[float]]:\n",
        "  player1Statistic = [0.0]*11\n",
        "  player2Statistic = [0.0]*11\n",
        "\n",
        "  if \"goal scored\" in event['action']:\n",
        "    # goals\n",
        "    player1Statistic[0] += 1\n",
        "    # shots\n",
        "    player1Statistic[1] += 1\n",
        "    # assists\n",
        "    player2Statistic[2] += 1\n",
        "\n",
        "  elif \"exclusion\" in event['action']:\n",
        "    # exclusion\n",
        "    player1Statistic[5] += 1\n",
        "\n",
        "  elif \"penalty foul\" in event['action']:\n",
        "    # penalty\n",
        "    player1Statistic[6] += 1\n",
        "\n",
        "  elif \"shot missed\" in event['action']:\n",
        "    # shots\n",
        "    player1Statistic[1] += 1\n",
        "\n",
        "  elif \"shot saved\" in event['action']:\n",
        "    # shots\n",
        "    player1Statistic[1] += 1\n",
        "\n",
        "  elif \"shot blocked\" in event['action']:\n",
        "    # shots\n",
        "    player1Statistic[1] += 1\n",
        "    # blocks\n",
        "    player2Statistic[3] += 1\n",
        "\n",
        "  elif \"suspention\" in event['action']:\n",
        "    # suspensions\n",
        "    player1Statistic[7] += 1\n",
        "\n",
        "  elif \"brutality\" in event['action']:\n",
        "    # brutalities\n",
        "    player1Statistic[8] += 1\n",
        "\n",
        "  elif \"sprint won\" in event['action']:\n",
        "    # sprint won\n",
        "    player1Statistic[9] += 1\n",
        "    # sprint\n",
        "    player1Statistic[10] += 1\n",
        "    # sprint\n",
        "    player2Statistic[10] += 1\n",
        "\n",
        "  return (player1Statistic, player2Statistic);"
      ],
      "metadata": {
        "cellView": "form",
        "id": "7096-S8H9QDv"
      },
      "execution_count": 2,
      "outputs": []
    },
    {
      "cell_type": "code",
      "source": [
        "# @title Is second player ally\n",
        "def isAlly(event: dict) -> bool:\n",
        "  if 'goal scored' in event['action']:\n",
        "    return True\n",
        "  return False"
      ],
      "metadata": {
        "cellView": "form",
        "id": "kisIBpzq9W9A"
      },
      "execution_count": 3,
      "outputs": []
    },
    {
      "cell_type": "code",
      "source": [
        "# @title Update list\n",
        "def Update(original: list, update: list) -> list:\n",
        "  assert len(original) == len(update)\n",
        "\n",
        "  return[original[x] + update[x] for x in range(len(original))]"
      ],
      "metadata": {
        "cellView": "form",
        "id": "gYvS_0SG9fU5"
      },
      "execution_count": 4,
      "outputs": []
    },
    {
      "cell_type": "markdown",
      "source": [
        "# Data Setup"
      ],
      "metadata": {
        "id": "1kopdDEI_uq9"
      }
    },
    {
      "cell_type": "code",
      "execution_count": 5,
      "metadata": {
        "id": "k7WoWjMJFGVT",
        "cellView": "form"
      },
      "outputs": [],
      "source": [
        "# @title Data settings\n",
        "data_file = \"test\"\n",
        "train_rate = 0.7\n",
        "val_rate = 1.0 - train_rate\n",
        "\n",
        "# goals, shots, assists, blocks, saves, exclusion, penalty foul, suspention, brutality, sprint won, sprints\n",
        "used_features = [1, 1, 0, 0, 0, 1, 1, 0, 1, 0, 0]\n",
        "num_playerInMatch_features = sum(used_features)\n",
        "# birth, hand height, position, weight\n",
        "used_player_stats = [1, 1, 1, 1, 1]\n",
        "num_player_features = sum(used_player_stats)"
      ]
    },
    {
      "cell_type": "code",
      "execution_count": 6,
      "metadata": {
        "id": "yAffGkJiJLXe",
        "cellView": "form"
      },
      "outputs": [],
      "source": [
        "# @title Get JSON data from github\n",
        "with requests.get(f\"https://github.com/JasaZnidar/totalwaterpolo-web-scraper/raw/master/{data_file}.zip\", ) as r:\n",
        "  ZipFile(BytesIO(r.content), \"r\").extractall()"
      ]
    },
    {
      "cell_type": "code",
      "execution_count": 7,
      "metadata": {
        "id": "IVWhen3IJrf7",
        "cellView": "form"
      },
      "outputs": [],
      "source": [
        "# @title Extract data to json object\n",
        "with open(f\"/content/{data_file}.json\") as f:\n",
        "    scraped_data = json.load(f)"
      ]
    },
    {
      "cell_type": "code",
      "source": [
        "# @title Team and Match data\n",
        "def getData(matches: dict[str, dict], stop: int = None, skipTie: bool = False):\n",
        "  match_list = [match_id for match_id in matches]\n",
        "  if stop is not None:\n",
        "    match_list = match_list[:stop]\n",
        "\n",
        "  match_data = {}\n",
        "  team_data = {}\n",
        "\n",
        "  for match_id in match_list:\n",
        "    #=============================================================================\n",
        "    # Collect match data\n",
        "    #=============================================================================\n",
        "    match_data[match_id] = [\n",
        "        matches[match_id]['result']['away'] - matches[match_id]['result']['home'],\n",
        "        matches[match_id]['name']['home'],\n",
        "        matches[match_id]['name']['away'],\n",
        "        [],\n",
        "        []\n",
        "    ]\n",
        "\n",
        "    #=============================================================================\n",
        "    # Check if ties are skipped\n",
        "    #=============================================================================\n",
        "    if skipTie and match_data[match_id][0] == 0:\n",
        "      del match_data[match_id]\n",
        "      continue\n",
        "\n",
        "    #=============================================================================\n",
        "    # Prepare statistics dictionary for a teams players\n",
        "    #=============================================================================\n",
        "    statistics = {\n",
        "        'home': {int(x): [0.0]*11 for x in matches[match_id]['lineup']['home']},\n",
        "        'away': {int(x): [0.0]*11 for x in matches[match_id]['lineup']['away']}\n",
        "    }\n",
        "\n",
        "    if len(statistics['home']) < 7 or len(statistics['away']) < 7:\n",
        "      del match_data[match_id]\n",
        "      continue\n",
        "\n",
        "    #=============================================================================\n",
        "    # Add missing teams in team_data\n",
        "    #=============================================================================\n",
        "    for team in ['home', 'away']:\n",
        "      if not matches[match_id]['name'][team] in team_data:\n",
        "        team_data[matches[match_id]['name'][team]] = [[0.0]*11, 0]\n",
        "\n",
        "    #=============================================================================\n",
        "    # Loop through all events and update player statistics\n",
        "    #=============================================================================\n",
        "    for event in matches[match_id]['plays']:\n",
        "      num_1 = event['player_1']\n",
        "      num_2 = event['player_2']\n",
        "      primary_team = event['team']\n",
        "      secondary_team = primary_team if isAlly(event) else 'away' if primary_team == 'home' else 'home'\n",
        "\n",
        "      # no player was recorded for this event\n",
        "      if num_1 == 0:\n",
        "        continue\n",
        "\n",
        "      # no secondary player was recorded for this event\n",
        "      elif num_2 == 0:\n",
        "        data_1, _ = eventToVector(event)\n",
        "        statistics[primary_team][num_1] = Update(statistics[primary_team][num_1], data_1)\n",
        "\n",
        "      # there are 2 players recorded for this event\n",
        "      else:\n",
        "        data_1, data_2 = eventToVector(event)\n",
        "        statistics[primary_team][num_1] = Update(statistics[primary_team][num_1], data_1)\n",
        "        statistics[secondary_team][num_2] = Update(statistics[secondary_team][num_2], data_2)\n",
        "\n",
        "    #=============================================================================\n",
        "    # Update match data\n",
        "    #=============================================================================\n",
        "    match_data[match_id][3] = team_data[matches[match_id]['name']['home']]\n",
        "    match_data[match_id][4] = team_data[matches[match_id]['name']['away']]\n",
        "\n",
        "    #=============================================================================\n",
        "    # Update team overall data\n",
        "    #=============================================================================\n",
        "    for team in ['home', 'away']:\n",
        "      team_name = matches[match_id]['name'][team]\n",
        "\n",
        "      for player in statistics[team]:\n",
        "        team_data[team_name][0] = Update(team_data[team_name][0], statistics[team][player])\n",
        "        team_data[team_name][1] += 1\n",
        "\n",
        "  return (match_data, team_data)\n",
        "\n",
        "match_data, team_data = getData(scraped_data['matches'])\n",
        "noTieMatch_data, noTieTeam_data = getData(scraped_data['matches'], skipTie=True)"
      ],
      "metadata": {
        "cellView": "form",
        "id": "rGuwcj6c81V4"
      },
      "execution_count": 8,
      "outputs": []
    },
    {
      "cell_type": "markdown",
      "source": [
        "# Models"
      ],
      "metadata": {
        "id": "08F2CIEs8GGN"
      }
    },
    {
      "cell_type": "code",
      "source": [
        "# @title Statistics\n",
        "class Statistics:\n",
        "  def __init__(self, match_data: dict[str, list[int, str, str, list[float], list[float]]]):\n",
        "    self.match_data = match_data\n",
        "    self.resultStats = [0, 0, 0] # from home perspective: [win, tie, loss]\n",
        "\n",
        "    for match_id in scraped_data['matches']:\n",
        "      lineup = scraped_data['matches'][match_id]['lineup']\n",
        "      if len(lineup['home']) < 7 or len(lineup['away']) < 7:\n",
        "        continue\n",
        "\n",
        "      diff = scraped_data['matches'][match_id]['result']['home'] - scraped_data['matches'][match_id]['result']['away']\n",
        "      if diff > 0:\n",
        "        self.resultStats[0] += 1\n",
        "      elif diff < 0:\n",
        "        self.resultStats[2] += 1\n",
        "      else:\n",
        "        self.resultStats[1] += 1\n",
        "\n",
        "  def Predict(self):\n",
        "    stats = [\n",
        "        self.resultStats[0] / sum(self.resultStats),\n",
        "        self.resultStats[1] / sum(self.resultStats),\n",
        "        self.resultStats[2] / sum(self.resultStats)\n",
        "    ]\n",
        "    values = [1, 0, -1]\n",
        "\n",
        "    return values[np.argmax(stats)]\n",
        "\n"
      ],
      "metadata": {
        "cellView": "form",
        "id": "nGuv8Yhq2Vam"
      },
      "execution_count": 9,
      "outputs": []
    },
    {
      "cell_type": "code",
      "source": [
        "# @title KNN\n",
        "class KNN:\n",
        "  def __init__(self, k: int, team_data: dict[str, list[list[float], int]], match_history: dict[str, list[int, str, str, list[float], list[float]]]):\n",
        "    self.k = k\n",
        "\n",
        "    teams = list(team_data.keys())\n",
        "    self.team_data = {\n",
        "        team: np.array(team_data[team][0])/team_data[team][1]\n",
        "        for team in team_data\n",
        "    }\n",
        "    self.match_history = match_history\n",
        "\n",
        "  def Predict(self, friendly_team: str, enemy_team: str, friendly_home: bool = None) -> float:\n",
        "    if friendly_team not in self.team_data and enemy_team not in self.team_data:\n",
        "      # both teams are unknown, return tie\n",
        "      return 0\n",
        "\n",
        "    if enemy_team not in self.team_data:\n",
        "      # enemy team has no history, reverse the question and then the answer\n",
        "      return -self.Predict(enemy_team, friendly_team, not friendly_home)\n",
        "\n",
        "    # collect all teams who played against the enemy team\n",
        "    neighbors = set([])\n",
        "    neighbor_results = {}\n",
        "    for match_id in self.match_history:\n",
        "      history_match = self.match_history[match_id]\n",
        "\n",
        "      # friendly team is not home team => enemy team is home\n",
        "      if friendly_home != True and history_match[1] == enemy_team and history_match[2] != friendly_team:\n",
        "        neighbors.add(history_match[2])\n",
        "        if history_match[2] not in neighbor_results:\n",
        "          neighbor_results[history_match[2]] = []\n",
        "        neighbor_results[history_match[2]].append(history_match[0])\n",
        "\n",
        "      # friendly team is not away team => enemy team is away\n",
        "      if friendly_home != False and history_match[2] == enemy_team and history_match[1] != friendly_team:\n",
        "        neighbors.add(history_match[1])\n",
        "        if history_match[1] not in neighbor_results:\n",
        "          neighbor_results[history_match[1]] = []\n",
        "        neighbor_results[history_match[1]].append(history_match[0])\n",
        "\n",
        "    # form a neighbor matrix for distnce\n",
        "    neighbor_matrix = np.zeros((len(neighbors), 11))\n",
        "    neighbor_index = []\n",
        "    for neighbor in neighbors:\n",
        "      neighbor_matrix[len(neighbor_index), :] = self.team_data[neighbor]\n",
        "      neighbor_index.append(neighbor)\n",
        "\n",
        "    # calculate distance\n",
        "    if friendly_team not in self.team_data:\n",
        "      neighbor_distance = (neighbor_matrix)**2\n",
        "    else:\n",
        "      neighbor_distance = (neighbor_matrix - self.team_data[friendly_team])**2\n",
        "    neighbor_distance = np.sum(neighbor_distance, axis=1)\n",
        "\n",
        "    # select k nearest neighbors, if possible\n",
        "    modifier = 1\n",
        "    if len(neighbor_distance) < self.k:\n",
        "      knn_index = [n for n in range(len(neighbor_distance))]\n",
        "      modifier = len(neighbor_distance)/self.k  # normalize data to match uncertanty\n",
        "      if len(neighbor_distance) == 0:\n",
        "        # enemy team has no history, reverse the question and then the answer\n",
        "        return -self.Predict(enemy_team, friendly_team, not friendly_home)\n",
        "      #warnings.warn(\"Not enough neighbors to make a full prediction. Prediction will be made with {} neighbors instead of {}.\".format(len(neighbor_distance), self.k))\n",
        "    elif len(neighbor_distance) == self.k:\n",
        "      knn_index = [n for n in range(len(neighbor_distance))]\n",
        "    else:\n",
        "      knn_index = np.argpartition(neighbor_distance, self.k)[:self.k]\n",
        "\n",
        "    # calculate prediction\n",
        "    pred = 0.0\n",
        "    weight = 0.0\n",
        "    for i in knn_index:\n",
        "      for result in neighbor_results[neighbor_index[i]]:\n",
        "        pred += result * (1/neighbor_distance[i])\n",
        "        weight += 1/neighbor_distance[i]\n",
        "    pred /= weight\n",
        "\n",
        "    return pred"
      ],
      "metadata": {
        "id": "WqzrRein8xdX",
        "cellView": "form"
      },
      "execution_count": 10,
      "outputs": []
    },
    {
      "cell_type": "code",
      "source": [
        "# @title Linear regresion\n",
        "def gradient(X: np.ndarray, y: np.ndarray, theta: np.ndarray, l2_lambda: float) -> np.array:\n",
        "    _, m = X.shape\n",
        "    L2 = np.ones((m,)) * l2_lambda\n",
        "    L2[0] = 0.0\n",
        "\n",
        "    return np.dot(np.dot(X, theta) - y, X) + L2*theta\n",
        "\n",
        "\n",
        "def gradient_descent(X: np.ndarray, y: np.ndarray, l2_lambda: float, lr=0.01, tol=1e-6, max_iter=100_000) -> np.array:\n",
        "    _, m = X.shape\n",
        "    theta = np.ones((m, ))\n",
        "\n",
        "    for _ in range(max_iter):\n",
        "        theta_next = theta - lr*gradient(X, y, theta, l2_lambda)\n",
        "\n",
        "        if np.isinf(theta_next).any() or np.isnan(theta_next).any():\n",
        "            return theta\n",
        "\n",
        "        diff = np.linalg.norm(gradient(X, y, theta_next, l2_lambda))\n",
        "        if np.isinf(diff):\n",
        "          raise Exception(\"Diff is inf.\")\n",
        "        if np.isnan(diff):\n",
        "          raise Exception(\"Diff is nan.\")\n",
        "\n",
        "        if diff < tol:\n",
        "            return theta_next\n",
        "\n",
        "        theta = theta_next\n",
        "\n",
        "    return theta\n",
        "\n",
        "class LinReg:\n",
        "  def __init__(self, match_history: dict[str, list[int, str, str, list[float], list[float]]]):\n",
        "    # prepare learning data\n",
        "    X = np.zeros((len(match_history), 22))\n",
        "    y = np.zeros((len(match_history)))\n",
        "\n",
        "    # fill out learning data\n",
        "    match_list = list(match_history.keys())\n",
        "    for i in range(len(match_list)):\n",
        "      match_id = match_list[i]\n",
        "      home_data = np.array(match_history[match_id][3][0])/match_history[match_id][3][1]\n",
        "      away_data = np.array(match_history[match_id][4][0])/match_history[match_id][4][1]\n",
        "\n",
        "      X[i, :] = np.concatenate((home_data, away_data))\n",
        "      y[i] = match_history[match_id][0] # result\n",
        "\n",
        "    # add coeficient to X\n",
        "    X_ = np.concatenate((np.ones((len(match_history), 1)), X), axis=1)\n",
        "\n",
        "    # gradient descent\n",
        "    theta = gradient_descent(X_, y, 0.0, 1e-5, 1e-8, 1_000_000)\n",
        "\n",
        "    self.coefs = theta[1:]\n",
        "    self.intercept = theta[0]\n",
        "\n",
        "  def Predict(self, home_team: str, away_team: str, team_data: dict[str, list[float]]):\n",
        "    if home_team not in team_data or away_team not in team_data:\n",
        "      home = np.zeros((11,))\n",
        "    else:\n",
        "      home = np.array(team_data[home_team][0])/team_data[home_team][1]\n",
        "\n",
        "    if away_team not in team_data:\n",
        "      away = np.zeros((11,))\n",
        "    else:\n",
        "      away = np.array(team_data[away_team][0])/team_data[away_team][1]\n",
        "\n",
        "    home = np.reshape(home, (1, -1))\n",
        "    away = np.reshape(away, (1, -1))\n",
        "\n",
        "    X_ = np.concatenate((np.ones((1, 1)), home, away), axis=1)\n",
        "    theta = np.insert(self.coefs, 0, self.intercept)\n",
        "\n",
        "    return np.dot(X_, theta)[0]"
      ],
      "metadata": {
        "id": "XgYlaTdOUbME",
        "cellView": "form"
      },
      "execution_count": 11,
      "outputs": []
    },
    {
      "cell_type": "markdown",
      "source": [
        "# Train and test"
      ],
      "metadata": {
        "id": "iwgN2rf2zyhB"
      }
    },
    {
      "cell_type": "code",
      "source": [
        "N = 100"
      ],
      "metadata": {
        "id": "swqkGXL29N5r"
      },
      "execution_count": 12,
      "outputs": []
    },
    {
      "cell_type": "code",
      "source": [
        "# @title Classification\n",
        "def classify(val: float, allowTie: bool = True):\n",
        "  if allowTie:\n",
        "    if val >= 0.5:\n",
        "      return 1\n",
        "    elif val <= -0.5:\n",
        "      return -1\n",
        "    return 0\n",
        "  else:\n",
        "    if val >= 0:\n",
        "      return 1\n",
        "    return -1"
      ],
      "metadata": {
        "cellView": "form",
        "id": "YZWPiF3V9sfb"
      },
      "execution_count": 13,
      "outputs": []
    },
    {
      "cell_type": "code",
      "source": [
        "# @title Prepare train and test data\n",
        "train_match_data, train_team_data = getData(scraped_data['matches'], -N)\n",
        "train_noTieMatch_data, train_noTieTeam_data = getData(scraped_data['matches'], -N, True)\n",
        "\n",
        "test_match_data = {}\n",
        "for match_id in match_data:\n",
        "  if match_id not in train_match_data:\n",
        "    test_match_data[match_id] = match_data[match_id]\n",
        "ground = [classify(test_match_data[match_id][0]) for match_id in test_match_data]\n",
        "\n",
        "test_noTieMatch_data = {}\n",
        "for match_id in noTieMatch_data:\n",
        "  if match_id not in train_noTieMatch_data:\n",
        "    test_noTieMatch_data[match_id] = noTieMatch_data[match_id]\n",
        "noTieGround = [classify(test_noTieMatch_data[match_id][0]) for match_id in test_noTieMatch_data]"
      ],
      "metadata": {
        "id": "SdHO3sfCz01L",
        "cellView": "form"
      },
      "execution_count": 14,
      "outputs": []
    },
    {
      "cell_type": "code",
      "source": [
        "# @title Statistics\n",
        "# with ties\n",
        "stats = Statistics(train_match_data)\n",
        "stats_pred = []\n",
        "\n",
        "for match_id in test_match_data:\n",
        "  stats_pred.append(classify(stats.Predict()))\n",
        "\n",
        "print(\"Ties included:\", np.average(np.array(stats_pred) == np.array(ground)))\n",
        "\n",
        "# without ties\n",
        "noTieStats = Statistics(train_noTieMatch_data)\n",
        "noTieStats_pred = []\n",
        "\n",
        "for match_id in test_noTieMatch_data:\n",
        "  noTieStats_pred.append(classify(noTieStats.Predict(), False))\n",
        "\n",
        "print(\"Ties not included:\", np.average(np.array(noTieStats_pred) == np.array(noTieGround)))"
      ],
      "metadata": {
        "colab": {
          "base_uri": "https://localhost:8080/"
        },
        "cellView": "form",
        "id": "1V1Y5HeSPsSr",
        "outputId": "47510b5c-887c-4e50-c2fc-a74c40590a76"
      },
      "execution_count": 15,
      "outputs": [
        {
          "output_type": "stream",
          "name": "stdout",
          "text": [
            "Ties included: 0.4897959183673469\n",
            "Ties not included: 0.5052631578947369\n"
          ]
        }
      ]
    },
    {
      "cell_type": "code",
      "source": [
        "# @title KNN - 3\n",
        "# with ties\n",
        "knn3 = KNN(3, train_team_data, train_match_data)\n",
        "knn3_pred = []\n",
        "\n",
        "for match_id in test_match_data:\n",
        "  knn3_pred.append(classify(knn3.Predict(test_match_data[match_id][1], test_match_data[match_id][2], True)))\n",
        "\n",
        "print(\"Ties included:\", np.average(np.array(knn3_pred) == np.array(ground)))\n",
        "\n",
        "# without ties\n",
        "noTieKnn3 = KNN(3, train_noTieTeam_data, train_noTieMatch_data)\n",
        "noTieKnn3_pred = []\n",
        "\n",
        "for match_id in test_noTieMatch_data:\n",
        "  noTieKnn3_pred.append(classify(noTieKnn3.Predict(test_noTieMatch_data[match_id][1], test_noTieMatch_data[match_id][2], True), False))\n",
        "\n",
        "print(\"Ties not included:\", np.average(np.array(noTieKnn3_pred) == np.array(noTieGround)))"
      ],
      "metadata": {
        "colab": {
          "base_uri": "https://localhost:8080/"
        },
        "id": "Ejq9r8Kr08tB",
        "outputId": "e6d5f96c-8e77-48c6-86fd-bed8405b99a6",
        "cellView": "form"
      },
      "execution_count": 16,
      "outputs": [
        {
          "output_type": "stream",
          "name": "stdout",
          "text": [
            "Ties included: 0.5510204081632653\n",
            "Ties not included: 0.6210526315789474\n"
          ]
        }
      ]
    },
    {
      "cell_type": "code",
      "source": [
        "# @title Linear regression\n",
        "# with ties\n",
        "linreg = LinReg(train_match_data)\n",
        "linreg_pred = []\n",
        "\n",
        "for match_id in test_match_data:\n",
        "  linreg_pred.append(classify(linreg.Predict(test_match_data[match_id][1], test_match_data[match_id][2], team_data)))\n",
        "\n",
        "print(\"Ties included:\", np.average(np.array(linreg_pred) == np.array(ground)))\n",
        "\n",
        "# without ties\n",
        "noTieLinreg = LinReg(train_match_data)\n",
        "noTieLinreg_pred = []\n",
        "\n",
        "for match_id in test_noTieMatch_data:\n",
        "  noTieLinreg_pred.append(classify(linreg.Predict(test_noTieMatch_data[match_id][1], test_noTieMatch_data[match_id][2], train_noTieTeam_data), False))\n",
        "\n",
        "print(\"Ties not included:\", np.average(np.array(noTieLinreg_pred) == np.array(noTieGround)))"
      ],
      "metadata": {
        "colab": {
          "base_uri": "https://localhost:8080/"
        },
        "id": "SlHTPeTY58S-",
        "outputId": "2cf83b1b-431a-4852-dd75-1166f908e63f",
        "cellView": "form"
      },
      "execution_count": 17,
      "outputs": [
        {
          "output_type": "stream",
          "name": "stdout",
          "text": [
            "Ties included: 0.6938775510204082\n",
            "Ties not included: 0.6947368421052632\n"
          ]
        }
      ]
    }
  ],
  "metadata": {
    "colab": {
      "provenance": [],
      "collapsed_sections": [
        "1ePQ7qQm9Nj4"
      ],
      "authorship_tag": "ABX9TyO2NhASXfNUaYqygXqrfMlz",
      "include_colab_link": true
    },
    "kernelspec": {
      "display_name": "Python 3",
      "name": "python3"
    },
    "language_info": {
      "name": "python"
    }
  },
  "nbformat": 4,
  "nbformat_minor": 0
}