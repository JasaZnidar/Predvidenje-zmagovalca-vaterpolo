{
  "cells": [
    {
      "cell_type": "markdown",
      "metadata": {
        "id": "view-in-github",
        "colab_type": "text"
      },
      "source": [
        "<a href=\"https://colab.research.google.com/github/JasaZnidar/Predvidenje-zmagovalca-vaterpolo/blob/main/Diplomska_naloga.ipynb\" target=\"_parent\"><img src=\"https://colab.research.google.com/assets/colab-badge.svg\" alt=\"Open In Colab\"/></a>"
      ]
    },
    {
      "cell_type": "markdown",
      "metadata": {
        "id": "aVXdEg3IE6jY"
      },
      "source": [
        "# Setup enviroment and imports"
      ]
    },
    {
      "cell_type": "markdown",
      "metadata": {
        "id": "VBFEUPjNChfb"
      },
      "source": [
        "## Setup"
      ]
    },
    {
      "cell_type": "code",
      "execution_count": null,
      "metadata": {
        "colab": {
          "base_uri": "https://localhost:8080/"
        },
        "id": "3qckgRTSCkiJ",
        "outputId": "eb42f158-6644-42fe-cb6f-a8cdfeba6360"
      },
      "outputs": [
        {
          "output_type": "stream",
          "name": "stdout",
          "text": [
            "2.4.0+cu121\n"
          ]
        }
      ],
      "source": [
        "import os\n",
        "import torch\n",
        "\n",
        "os.environ['TORCH'] = torch.__version__\n",
        "os.environ['CUDA_LAUNCH_BLOCKING'] = \"1\"\n",
        "os.environ['TORCH_USE_CUDA_DSA'] = \"1\"\n",
        "print(torch.__version__)\n",
        "\n",
        "!pip install -q pyg_lib -f https://data.pyg.org/whl/torch-${TORCH}.html\n",
        "!pip install -q torch_geometric -f https://data.pyg.org/whl/torch-${TORCH}.html\n",
        "!pip install -q torch_scatter -f https://data.pyg.org/whl/torch-${TORCH}.html\n",
        "!pip install -q torch_sparse -f https://data.pyg.org/whl/torch-${TORCH}.html\n",
        "!pip install -q torch_cluster -f https://data.pyg.org/whl/torch-${TORCH}.html\n",
        "!pip install -q torch_spline_conv -f https://data.pyg.org/whl/torch-${TORCH}.html\n",
        "!pip install -q torcheval\n",
        "!pip install -q scikit-plot"
      ]
    },
    {
      "cell_type": "markdown",
      "metadata": {
        "id": "Z_bTeA4IClUF"
      },
      "source": [
        "## Imports"
      ]
    },
    {
      "cell_type": "code",
      "execution_count": null,
      "metadata": {
        "id": "pQMPL8B7EWKB"
      },
      "outputs": [],
      "source": [
        "import json\n",
        "import networkx as nx\n",
        "import torch\n",
        "import torch_geometric\n",
        "from torch_geometric.utils.convert import from_networkx\n",
        "from torch_geometric import nn, sampler\n",
        "from torch_geometric.data import HeteroData, Data\n",
        "from torch_geometric import transforms as T\n",
        "from torch_geometric import loader\n",
        "from torcheval import metrics\n",
        "from torcheval.metrics import R2Score, MeanSquaredError\n",
        "import tqdm\n",
        "from sklearn.metrics import roc_auc_score, roc_curve\n",
        "import matplotlib.pyplot as plt\n",
        "import requests\n",
        "from zipfile import ZipFile\n",
        "from io import BytesIO\n",
        "from typing import Callable\n",
        "%matplotlib inline"
      ]
    },
    {
      "cell_type": "markdown",
      "metadata": {
        "id": "zCsW9wIPMGhm"
      },
      "source": [
        "## Other"
      ]
    },
    {
      "cell_type": "code",
      "execution_count": null,
      "metadata": {
        "id": "ongtkmPAMJQs"
      },
      "outputs": [],
      "source": [
        "device = 'cuda' if torch.cuda.is_available() else 'cpu'"
      ]
    },
    {
      "cell_type": "markdown",
      "metadata": {
        "id": "utTRzV2s254U"
      },
      "source": [
        "# Analizing scraped data and create graph\n",
        "\n"
      ]
    },
    {
      "cell_type": "markdown",
      "metadata": {
        "id": "eN83x5Kyt_-s"
      },
      "source": [
        "## Get Zipped test.json file"
      ]
    },
    {
      "cell_type": "code",
      "execution_count": null,
      "metadata": {
        "id": "hdczE6M5uFQd"
      },
      "outputs": [],
      "source": [
        "with requests.get(\"https://github.com/JasaZnidar/totalwaterpolo-web-scraper/raw/master/test.zip\", ) as r:\n",
        "  ZipFile(BytesIO(r.content), \"r\").extractall()"
      ]
    },
    {
      "cell_type": "markdown",
      "metadata": {
        "id": "DIb_W7__9gwk"
      },
      "source": [
        "## Get scraped data from github repository"
      ]
    },
    {
      "cell_type": "code",
      "execution_count": null,
      "metadata": {
        "id": "cvzBR3WG3F7G"
      },
      "outputs": [],
      "source": [
        "# open raw data scraped from the website\n",
        "with open(\"/content/test.json\") as f:\n",
        "    scraped_data = json.load(f)"
      ]
    },
    {
      "cell_type": "markdown",
      "metadata": {
        "id": "oUCmRM4IpJBF"
      },
      "source": [
        "## Data generating function\n",
        "We will create a function that will create HeteroData from scraped data before a selected date. This will be used to create training data."
      ]
    },
    {
      "cell_type": "markdown",
      "metadata": {
        "id": "dfTaSYJuyRhW"
      },
      "source": [
        "### player_in_match functions"
      ]
    },
    {
      "cell_type": "code",
      "execution_count": null,
      "metadata": {
        "id": "S8ZhkBKFvtWZ"
      },
      "outputs": [],
      "source": [
        "def average(history: list[list[float]]) -> list[float]:\n",
        "  ret = [0]*len(history[0])\n",
        "\n",
        "  # sum up all values\n",
        "  for match in history:\n",
        "    for i in range(len(match)):\n",
        "      ret[i] += match[i]\n",
        "\n",
        "  # divide to get average\n",
        "  if len(history) > 0:\n",
        "    for i in range(len(ret)):\n",
        "      ret[i] /= len(history)\n",
        "\n",
        "  return ret\n",
        "\n",
        "def average_last_n(history: list[list[float]], n: int = 20) -> list[float]:\n",
        "  ret = [0]*len(history[0])\n",
        "  n = min(n, len(history))\n",
        "  history = history[-n:]\n",
        "\n",
        "  # sum up all values\n",
        "  for match in history:\n",
        "    for i in range(len(match)):\n",
        "      ret[i] += match[i]\n",
        "\n",
        "  # divide to get average\n",
        "  if n > 0:\n",
        "    for i in range(len(ret)):\n",
        "      ret[i] /= n\n",
        "\n",
        "  return ret\n",
        "\n",
        "def function_weight(history: list[list[float]], f: Callable = lambda x: 1/x) -> list[float]:\n",
        "  ret = [0]*len(history[0])\n",
        "\n",
        "\n",
        "  # sum up all values\n",
        "  n = len(history)\n",
        "  weight_sum = 0\n",
        "  for m in range(n):\n",
        "    weight = f(n-m)\n",
        "    weight_sum += weight\n",
        "    for i in range(len(history[m])):\n",
        "      ret[i] += history[m][i] * weight\n",
        "\n",
        "  # normalize with weight sum\n",
        "  if weight_sum > 0:\n",
        "    for i in range(len(ret)):\n",
        "      ret[i] /= weight_sum\n",
        "\n",
        "  return ret"
      ]
    },
    {
      "cell_type": "markdown",
      "metadata": {
        "id": "g0mMc5H924yA"
      },
      "source": [
        "### Graph creation function"
      ]
    },
    {
      "cell_type": "code",
      "execution_count": null,
      "metadata": {
        "id": "ADqYuU2r_0As"
      },
      "outputs": [],
      "source": [
        "def createData(\n",
        "    data: dict,\n",
        "    start: int=0,\n",
        "    stop: int=-1,\n",
        "    instanceCalculator: Callable=average,\n",
        "    combineCalculator: Callable=lambda x: torch.mean(torch.Tensor(x), dim=0)\n",
        "    ) -> tuple[HeteroData, Data]:\n",
        "  # data\n",
        "  ret_hetero_data = HeteroData()\n",
        "  ret_homogen_data = Data()\n",
        "\n",
        "\n",
        "  #=============================================================================\n",
        "  # Create player_matrix for player node\n",
        "  #=============================================================================\n",
        "  max_player_id = max([int(id) for id in data['players'].keys()])\n",
        "  player_dim=5\n",
        "  player_matrix = torch.zeros(max_player_id, player_dim, dtype=torch.float32)\n",
        "  all_player_data = {}\n",
        "\n",
        "  for id in data['players'].keys():\n",
        "    index = int(id) - 1\n",
        "    player_data = data['players'][id]\n",
        "    all_player_data[id] = {\n",
        "        \"history\": [],    # [[goals, shots, assists, blocks, saves, exclusions, penalties, suspensions, brutalities, sprints won, sprints],...]\n",
        "        \"last index\": -1    # last index, referencing this them in playerInMatch node\n",
        "    }\n",
        "\n",
        "    player_matrix[index, 0] = player_data['birth']\n",
        "    player_matrix[index, 1] = 1 if player_data['hand'] == 'R' else -1 if player_data['hand'] == \"L\" else 0\n",
        "    player_matrix[index, 2] = player_data['height'] if player_data['height'] else 0\n",
        "    match player_data['position']:\n",
        "      case '':\n",
        "        player_matrix[index, 3] = 0\n",
        "      case 'Goalkeeper':\n",
        "        player_matrix[index, 3] = 1\n",
        "      case 'Driver':\n",
        "        player_matrix[index, 3] = 2\n",
        "      case 'Left Driver':\n",
        "        player_matrix[index, 3] = 3\n",
        "      case 'Right Driver':\n",
        "        player_matrix[index, 3] = 4\n",
        "      case 'Central Defender':\n",
        "        player_matrix[index, 3] = 5\n",
        "      case 'Left Winger':\n",
        "        player_matrix[index, 3] = 6\n",
        "      case 'Right Winger':\n",
        "        player_matrix[index, 3] = 7\n",
        "      case 'Center Forward':\n",
        "        player_matrix[index, 3] = 8\n",
        "    player_matrix[index, 4] = player_data['weight'] if player_data['weight'] else 0\n",
        "\n",
        "  del player_data, index\n",
        "\n",
        "\n",
        "  #=============================================================================\n",
        "  # Matrices that will define the graph\n",
        "  #=============================================================================\n",
        "  # player in a match (played_in_match)\n",
        "  playerInMatch_dim = 11\n",
        "  playerInMatch_matrix = torch.empty(0, playerInMatch_dim, dtype=torch.float32)\n",
        "\n",
        "  # team (team)\n",
        "  numOfTeams = 0\n",
        "\n",
        "  # team in a match (team_in_match)\n",
        "  teamInMatch_dim = 3\n",
        "  teamInMatch_matrix = torch.empty(0, teamInMatch_dim, dtype=torch.float32)\n",
        "\n",
        "  # player instance relation (player, player_instance, played_in_match)\n",
        "  playerInstance_matrix = torch.empty(2, 0, dtype=torch.long)\n",
        "\n",
        "  # played relation (played_in_match, played, team_in_match)\n",
        "  played_matrix = torch.empty(2, 0, dtype=torch.long)\n",
        "  played_attr = torch.empty(1, 0, dtype=torch.float32)\n",
        "\n",
        "  # team participated in a match (team, team_instance, team_in_match)\n",
        "  teamInstance_matrix = torch.empty(2, 0, dtype=torch.long)\n",
        "\n",
        "  # match result (team_in_match, result, team_in_match)\n",
        "  result_matrix = torch.empty(2, 0, dtype=torch.long)\n",
        "  result_attr = torch.empty(1, 0, dtype=torch.float32)\n",
        "  # reversed relations\n",
        "  result_rev_attr = torch.empty(1, 0, dtype=torch.float32)\n",
        "\n",
        "  homogen_node_dim = playerInMatch_dim\n",
        "  homogen_node_matrix = torch.empty(0, homogen_node_dim, dtype=torch.float32)\n",
        "\n",
        "  homogen_edge_matrix = torch.empty(2, 0, dtype=torch.long)\n",
        "  homogen_edge_attr = torch.empty(1, 0, dtype=torch.float32)\n",
        "\n",
        "\n",
        "  #=============================================================================\n",
        "  # Other data\n",
        "  #=============================================================================\n",
        "  all_team_data = {}   # key => {data, last_index, index}\n",
        "\n",
        "\n",
        "  #=============================================================================\n",
        "  # Sort matches in order of date, and filter out the matches that happened\n",
        "  # after the specified date\n",
        "  #=============================================================================\n",
        "  # filter out matches\n",
        "  sorted_match_ids = []\n",
        "  breakpoint_match_id = (\"\", -1)\n",
        "  for match_id in data['matches']:\n",
        "    if 'date' in data['matches'][match_id]:\n",
        "      sorted_match_ids.append((match_id, data['matches'][match_id]['date']))\n",
        "\n",
        "  # sort matches\n",
        "  sorted_match_ids = sorted(sorted_match_ids, key=lambda t: t[1])\n",
        "\n",
        "\n",
        "  #=============================================================================\n",
        "  # Loop through the matches and fill out the matrices\n",
        "  #=============================================================================\n",
        "  for index in range(len(sorted_match_ids)):\n",
        "    # exit loop if enough matches have been added\n",
        "    if result_matrix.shape[1] == stop - start:\n",
        "      break\n",
        "    match_id, _ = sorted_match_ids[index]\n",
        "    match_data = data['matches'][match_id]\n",
        "\n",
        "    # check if match is relevant (at least 7 players in each team)\n",
        "    if len(match_data['lineup']['home']) < 7 or len(match_data['lineup']['away']) < 7:\n",
        "      continue\n",
        "\n",
        "\n",
        "    #===========================================================================\n",
        "    # result of match\n",
        "    #===========================================================================\n",
        "    if index >= start:\n",
        "      result_matrix = torch.cat((result_matrix, torch.empty((2, 1))), dim=1)\n",
        "      result_attr = torch.cat((result_attr, torch.empty((1, 1))), dim=1)\n",
        "      result_rev_attr = torch.cat((result_rev_attr, torch.empty((1, 1))), dim=1)\n",
        "      if match_data['result']['home'] > match_data['result']['away']:\n",
        "        result_attr[0, -1] = 1.0\n",
        "        result_rev_attr[0, -1] = 0.0\n",
        "      elif match_data['result']['home'] < match_data['result']['away']:\n",
        "        result_attr[0, -1] = 0.0\n",
        "        result_rev_attr[0, -1] = 1.0\n",
        "      else:\n",
        "        result_attr[0, -1] = 0.5\n",
        "        result_rev_attr[0, -1] = 0.5\n",
        "\n",
        "\n",
        "    #===========================================================================\n",
        "    # loop through the teams\n",
        "    #===========================================================================\n",
        "    for team in ['home', 'away']:\n",
        "      # create teamInMatch\n",
        "      team_key = match_data['name'][team]\n",
        "\n",
        "      #=========================================================================\n",
        "      # create/update all_team_data\n",
        "      #=========================================================================\n",
        "      # if there is no instance of the team, we need a new team\n",
        "      if not team_key in all_team_data:\n",
        "        all_team_data[team_key] = {\n",
        "            \"data\": [0]*teamInMatch_dim,    # [wins, matches, home/away]\n",
        "            \"last index\": -1,   # last index, referencing this them in teamInMatch node\n",
        "            \"index\": numOfTeams   # index for team node\n",
        "        }\n",
        "\n",
        "        # add new team\n",
        "        numOfTeams += 1\n",
        "\n",
        "      # update home/away status\n",
        "      all_team_data[team_key]['data'][-1] = 0 if team == \"home\" else 1\n",
        "\n",
        "\n",
        "      #=========================================================================\n",
        "      # create team_in_match data instance\n",
        "      #=========================================================================\n",
        "      if index >= start:\n",
        "        # add new teamInMatch\n",
        "        all_team_data[team_key]['last index'] = teamInMatch_matrix.size(dim=0)\n",
        "        teamInMatch_matrix = torch.cat((teamInMatch_matrix, torch.Tensor([all_team_data[team_key]['data']])), dim=0)\n",
        "\n",
        "        # connect teamInMatch to enemy teamInMatch\n",
        "        result_matrix[0 if team == \"home\" else 1, -1] = all_team_data[team_key]['last index']\n",
        "\n",
        "        # connect team to teamInMatch\n",
        "        teamInstance_matrix = torch.cat((teamInstance_matrix, torch.Tensor([[all_team_data[team_key]['index']], [all_team_data[team_key]['last index']]])), dim=1)\n",
        "\n",
        "\n",
        "      #=========================================================================\n",
        "      # update all_team_data\n",
        "      #=========================================================================\n",
        "      # if won, increase number of wins\n",
        "      if match_data['result'][team] > match_data['result']['away' if team == \"home\" else 'home']:\n",
        "        all_team_data[team_key]['data'][0] += 1\n",
        "\n",
        "      # increase number of matches\n",
        "      all_team_data[team_key]['data'][1] += 1\n",
        "\n",
        "\n",
        "      #=========================================================================\n",
        "      # loop through the lineup\n",
        "      #=========================================================================\n",
        "      for player_num in match_data['lineup'][team]:\n",
        "        player_id = match_data['lineup'][team][player_num]['id']\n",
        "\n",
        "\n",
        "        #=======================================================================\n",
        "        # add and connect new nodes together\n",
        "        #=======================================================================\n",
        "        if index >= start:\n",
        "          # add new playerInMatch\n",
        "          if not player_id in all_player_data:\n",
        "            all_player_data[player_id] = {\n",
        "                \"history\": [],\n",
        "                \"last index\": -1\n",
        "            }\n",
        "          if all_player_data[player_id]['history'] == []:\n",
        "            playerInMatch_tensor = torch.Tensor([[0]*playerInMatch_dim])\n",
        "          else:\n",
        "            playerInMatch_tensor = torch.Tensor([ instanceCalculator( all_player_data[player_id]['history'] ) ])\n",
        "          all_player_data[player_id]['last index'] = playerInMatch_matrix.size(dim=0)\n",
        "          playerInMatch_matrix = torch.cat((playerInMatch_matrix, playerInMatch_tensor), dim=0)\n",
        "          playerInMatch_index = playerInMatch_matrix.size(dim=0) - 1\n",
        "\n",
        "          # connect player to playerInMatch\n",
        "          playerInstance_matrix = torch.cat((playerInstance_matrix, torch.Tensor([[int(player_id)-1], [all_player_data[player_id]['last index']]])), dim=1)\n",
        "\n",
        "          # connect playerInMatch to teamInMatch\n",
        "          played_matrix = torch.cat((played_matrix, torch.Tensor([[all_player_data[player_id]['last index']], [all_team_data[team_key]['last index']]])), dim=1)\n",
        "          played_attr = torch.cat((played_attr, torch.Tensor([[0 if player_num == \"1\" or player_num == \"13\" else 1]])), dim=1)\n",
        "\n",
        "        # add all_player_data history for this match\n",
        "        all_player_data[player_id]['history'].append([0] * playerInMatch_dim)\n",
        "\n",
        "\n",
        "    #===========================================================================\n",
        "    # update data with this match\n",
        "    #===========================================================================\n",
        "    # go throught ALL plays and update cumulative_all_player_data and cumulative_all_team_data\n",
        "    for play in match_data['plays']:\n",
        "      # check if a player was marked\n",
        "      if play['player_1'] == 0:\n",
        "        continue\n",
        "\n",
        "      # find teams\n",
        "      team_1 = play['team']\n",
        "      team_2 = \"home\" if team_1 == \"away\" else \"away\"\n",
        "\n",
        "      # find players who participated in the play\n",
        "      try:\n",
        "        id_1 = match_data['lineup'][team_1][str(play['player_1'])]['id']\n",
        "      except Exception as ex:\n",
        "        print(match_id, team_1, match_data['name'][team_1])\n",
        "        #print(json.dumps(match_data['lineup'][team_1], sort_keys=True, indent=4))\n",
        "        print(json.dumps(play, sort_keys=True, indent=4))\n",
        "        raise ex\n",
        "      id_2 = [0, 0] # depending on the play, the second player could be from the same team (first value is the opposing team)\n",
        "      if not play['player_2'] == 0:\n",
        "        if str(play['player_2']) in match_data['lineup'][team_2]:\n",
        "          id_2[0] = match_data['lineup'][team_2][str(play['player_2'])]['id']\n",
        "        if str(play['player_2']) in match_data['lineup'][team_1]:\n",
        "          id_2[1] = match_data['lineup'][team_1][str(play['player_2'])]['id']\n",
        "\n",
        "      # detect play type\n",
        "      if \"goal scored\" in play['action']:\n",
        "        # goals\n",
        "        all_player_data[id_1]['history'][-1][0] += 1\n",
        "        # shots\n",
        "        all_player_data[id_1]['history'][-1][1] += 1\n",
        "        if not id_2[1] == 0:\n",
        "          # assists\n",
        "          all_player_data[id_1]['history'][-1][2] += 1\n",
        "      elif \"exclusion\" in play['action']:\n",
        "        # exclusion\n",
        "        all_player_data[id_1]['history'][-1][5] += 1\n",
        "      elif \"penalty foul\" in play['action']:\n",
        "        # penalty\n",
        "        all_player_data[id_1]['history'][-1][6] += 1\n",
        "      elif \"shot missed\" in play['action']:\n",
        "        # shots\n",
        "        all_player_data[id_1]['history'][-1][1] += 1\n",
        "      elif \"shot saved\" in play['action']:\n",
        "        # shots\n",
        "        all_player_data[id_1]['history'][-1][1] += 1\n",
        "      elif \"shot blocked\" in play['action']:\n",
        "        # shots\n",
        "        all_player_data[id_1]['history'][-1][1] += 1\n",
        "        if not id_2[0] == 0:\n",
        "          # blocks\n",
        "          all_player_data[id_2]['history'][-1][3] += 1\n",
        "      elif \"suspention\" in play['action']:\n",
        "        # suspensions\n",
        "        all_player_data[id_1]['history'][-1][7] += 1\n",
        "      elif \"brutality\" in play['action']:\n",
        "        # brutalities\n",
        "        all_player_data[id_1]['history'][-1][8] += 1\n",
        "      elif \"sprint won\" in play['action']:\n",
        "        # sprint won\n",
        "        all_player_data[id_1]['history'][-1][9] += 1\n",
        "        # sprint\n",
        "        all_player_data[id_1]['history'][-1][10] += 1\n",
        "        if not id_2[0] == 0:\n",
        "          # sprint\n",
        "          all_player_data[id_2]['history'][-1][10] += 1\n",
        "\n",
        "\n",
        "  #=============================================================================\n",
        "  # save heterogeneus data\n",
        "  #=============================================================================\n",
        "  ret_hetero_data['player'].x = player_matrix\n",
        "  ret_hetero_data['player_in_match'].x = playerInMatch_matrix\n",
        "  ret_hetero_data['team'].num_nodes = numOfTeams\n",
        "  ret_hetero_data['team_in_match'].x = teamInMatch_matrix\n",
        "\n",
        "  ret_hetero_data['player', 'player_instance', 'player_in_match'].edge_index = playerInstance_matrix.type(torch.long)\n",
        "  ret_hetero_data['player_in_match', 'player_instance_rev', 'player'].edge_index = playerInstance_matrix.flip([0]).type(torch.long)\n",
        "\n",
        "  ret_hetero_data['player_in_match', 'played', 'team_in_match'].edge_index = played_matrix.type(torch.long)\n",
        "  ret_hetero_data['player_in_match', 'played', 'team_in_match'].edge_attr = played_attr\n",
        "  ret_hetero_data['team_in_match', 'played_rev', 'player_in_match'].edge_index = played_matrix.flip([0]).type(torch.long)\n",
        "  ret_hetero_data['team_in_match', 'played_rev', 'player_in_match'].edge_attr = played_attr\n",
        "\n",
        "  ret_hetero_data['team', 'team_instance', 'team_in_match'].edge_index = teamInstance_matrix.type(torch.long)\n",
        "  ret_hetero_data['team_in_match', 'team_instance_rev', 'team'].edge_index = teamInstance_matrix.flip([0]).type(torch.long)\n",
        "\n",
        "  ret_hetero_data['team_in_match', 'result', 'team_in_match'].edge_index = result_matrix.type(torch.long)\n",
        "  ret_hetero_data['team_in_match', 'result', 'team_in_match'].edge_attr = result_attr\n",
        "  ret_hetero_data['team_in_match', 'result_rev', 'team_in_match'].edge_index = result_matrix.flip([0]).type(torch.long)\n",
        "  ret_hetero_data['team_in_match', 'result_rev', 'team_in_match'].edge_attr = result_rev_attr\n",
        "\n",
        "\n",
        "  #=============================================================================\n",
        "  # create homogeneus data from heterogeneus data\n",
        "  #=============================================================================\n",
        "  \"\"\"teams = [all_team_data[team] for team in all_team_data.keys()]\n",
        "  sorted_teams = sorted(teams, key=lambda x: x['index'])\n",
        "\n",
        "  # get playerInMatch data to combine using 'last index' in sorted_teams\n",
        "  for team in sorted_teams:\n",
        "    players = []\n",
        "\n",
        "    # get playerInMatch data index\n",
        "    for i in range(played_matrix.shape[1]):\n",
        "      if played_matrix[1, i] == team['last index']:\n",
        "        players.append(i)\n",
        "\n",
        "    # extract playerInMatch data\n",
        "    players_data = torch.zeros((len(players), playerInMatch_dim), dtype=torch.float32)\n",
        "    for i, id in enumerate(players):\n",
        "      players_data[i, :] = playerInMatch_matrix[id, :]\n",
        "\n",
        "    # calculate combination and add to matrix\n",
        "    combine = combineCalculator(players_data).reshape((1, playerInMatch_dim))\n",
        "    homogen_node_matrix = torch.cat((homogen_node_matrix, combine), dim=0)\n",
        "\n",
        "  # loop through the matches again to add match results\n",
        "  for index in range(len(sorted_match_ids)):\n",
        "    # exit loop if enough matches have been added\n",
        "    if homogen_edge_matrix.shape[1] == stop - start:\n",
        "      break\n",
        "    match_id, _ = sorted_match_ids[index]\n",
        "    match_data = data['matches'][match_id]\n",
        "    if not match_data['name']['home'] in all_team_data:\n",
        "      home_index = homogen_node_matrix.shape[0] - 1\n",
        "      homogen_node_matrix = torch.cat((homogen_node_matrix, torch.zeros((1, playerInMatch_dim))), dim=0)\n",
        "    else:\n",
        "      home_index = all_team_data[match_data['name']['home']]['index']\n",
        "    if not match_data['name']['away'] in all_team_data:\n",
        "      away_index = homogen_node_matrix.shape[0] - 1\n",
        "      homogen_node_matrix = torch.cat((homogen_node_matrix, torch.zeros((1, playerInMatch_dim))), dim=0)\n",
        "    else:\n",
        "      away_index = all_team_data[match_data['name']['away']]['index']\n",
        "    home_result = match_data['result']['home']\n",
        "    away_result = match_data['result']['away']\n",
        "\n",
        "    homogen_edge_matrix = torch.cat((homogen_edge_matrix, torch.Tensor([[home_index], [away_index]])), dim=1)\n",
        "    homogen_edge_attr = torch.cat((homogen_edge_attr, torch.Tensor([[home_result - away_result]])), dim=1)\n",
        "    homogen_edge_matrix = torch.cat((homogen_edge_matrix, torch.Tensor([[away_index], [home_index]])), dim=1)\n",
        "    homogen_edge_attr = torch.cat((homogen_edge_attr, torch.Tensor([[away_result - home_result]])), dim=1)\n",
        "\n",
        "  ret_homogen_data.x = homogen_node_matrix.to(torch.float32)\n",
        "  ret_homogen_data.edge_index = homogen_edge_matrix.to(torch.long)\n",
        "  ret_homogen_data.edge_attr = homogen_edge_attr.to(torch.float32)\"\"\"\n",
        "\n",
        "  return ret_hetero_data, ret_homogen_data\n",
        "\n",
        "def numberOfValidMatches(data: dict) -> int:\n",
        "  numOfMatches = 0\n",
        "  for match_id in data['matches']:\n",
        "    if len(data['matches'][match_id]['lineup']['home']) < 7 or len(data['matches'][match_id]['lineup']['away']) < 7:\n",
        "      continue\n",
        "    numOfMatches += 1\n",
        "\n",
        "  return numOfMatches"
      ]
    },
    {
      "cell_type": "markdown",
      "metadata": {
        "id": "tGflFDiyeT9P"
      },
      "source": [
        "### Split data into training and validation"
      ]
    },
    {
      "cell_type": "markdown",
      "metadata": {
        "id": "P-xP4QJPeobL"
      },
      "source": [
        "Values to define the scope of the training and validation."
      ]
    },
    {
      "cell_type": "code",
      "execution_count": null,
      "metadata": {
        "id": "cpVJm9J_eafv"
      },
      "outputs": [],
      "source": [
        "training = -1\n",
        "validate = 1000\n",
        "instance_function = average\n",
        "combination_function = lambda x: torch.mean(torch.Tensor(x), dim=0)"
      ]
    },
    {
      "cell_type": "markdown",
      "metadata": {
        "id": "f3fAZGh2evKU"
      },
      "source": [
        "If train or validate are not bigger then 0, their values are addapted acordingly to fully utilize the avaliable data."
      ]
    },
    {
      "cell_type": "code",
      "execution_count": null,
      "metadata": {
        "id": "G5uG5xxTe1C6",
        "colab": {
          "base_uri": "https://localhost:8080/"
        },
        "outputId": "1a2078f1-f93a-4ac0-b9ed-56c5f9f19e54"
      },
      "outputs": [
        {
          "output_type": "stream",
          "name": "stdout",
          "text": [
            "train: 0 - 3383\n",
            "validate: 3384 - 4384\n"
          ]
        }
      ],
      "source": [
        "numOfMatches = numberOfValidMatches(scraped_data)\n",
        "if training <= 0 and validate <= 0:\n",
        "  validate = 1\n",
        "  training = numOfMatches - 1\n",
        "elif training <= 0:\n",
        "  training = numOfMatches - validate\n",
        "elif validate <= 0:\n",
        "  validate = numOfMatches - training\n",
        "\n",
        "print(f\"train: 0 - {training-1}\")\n",
        "print(f\"validate: {training} - {training + validate}\")\n"
      ]
    },
    {
      "cell_type": "code",
      "execution_count": null,
      "metadata": {
        "id": "_q5a5KoX2rFp"
      },
      "outputs": [],
      "source": [
        "hetero_train_data, homo_train_data = createData(scraped_data, stop=training, instanceCalculator=instance_function, combineCalculator=combination_function)\n",
        "hetero_val_data, homo_val_data = createData(scraped_data, start=training, stop=(training + validate), instanceCalculator=instance_function, combineCalculator=combination_function)"
      ]
    },
    {
      "cell_type": "markdown",
      "metadata": {
        "id": "qd1yf4Tn0sKT"
      },
      "source": [
        "# Machine learning"
      ]
    },
    {
      "cell_type": "markdown",
      "metadata": {
        "id": "Ih99MYcSbjIu"
      },
      "source": [
        "## Setup"
      ]
    },
    {
      "cell_type": "code",
      "execution_count": null,
      "metadata": {
        "id": "stsEM2f69lFz"
      },
      "outputs": [],
      "source": [
        "epochs = 100\n",
        "size = 32\n",
        "iterations = 3\n",
        "embedding_size = 20\n",
        "lr = 0.001\n",
        "metapath = [('team_in_match', 'played_rev', 'player_in_match'), ('player_in_match', 'player_instance_rev', 'player'), ('player', 'player_instance', 'player_in_match')]"
      ]
    },
    {
      "cell_type": "markdown",
      "source": [
        "## Classifier"
      ],
      "metadata": {
        "id": "uY6Ui5v-Cy27"
      }
    },
    {
      "cell_type": "code",
      "source": [
        "class Classifier(torch.nn.Module):\n",
        "    def forward(self, x_match: torch.Tensor, edge_label_index: torch.Tensor) -> torch.Tensor:\n",
        "        # Convert node embeddings to edge-level representations:\n",
        "        edge_feat_winner = x_match[edge_label_index[0]]\n",
        "        edge_feat_loser = x_match[edge_label_index[1]]\n",
        "        # Apply dot-product to get a prediction per supervision edge:\n",
        "        return (edge_feat_winner * edge_feat_loser).sum(dim=-1)"
      ],
      "metadata": {
        "id": "ClDDm119C0l2"
      },
      "execution_count": null,
      "outputs": []
    },
    {
      "cell_type": "markdown",
      "source": [
        "## Embedding"
      ],
      "metadata": {
        "id": "XLhx7YnwvJ_4"
      }
    },
    {
      "cell_type": "code",
      "source": [
        "class Embedding(torch.nn.Module):\n",
        "    def __init__(self) -> None:\n",
        "        super().__init__()\n",
        "\n",
        "        self.vec = torch.nn.MetaPath2Vec(\n",
        "            edge_index_dict = {edge : hetero_train_data[edge].edge_index for edge in hetero_train_data.metadata()[1]},\n",
        "            embedding_dim = embedding_size,\n",
        "            metapath = metapath,\n",
        "            walk_length = 20,\n",
        "            context_size = 10,\n",
        "            walks_per_node = 20\n",
        "        )\n",
        "\n",
        "    def forward(self, x_match: torch.Tensor, edge_label_index: torch.Tensor) -> torch.Tensor:\n",
        "        # Convert node embeddings to edge-level representations:\n",
        "        edge_feat_winner = x_match[edge_label_index[0]]"
      ],
      "metadata": {
        "id": "4r0O3L_jvM4m"
      },
      "execution_count": null,
      "outputs": []
    },
    {
      "cell_type": "markdown",
      "source": [
        "## Metrics"
      ],
      "metadata": {
        "id": "FW0eaun_bRHk"
      }
    },
    {
      "cell_type": "code",
      "source": [
        "regresionMetrics = [metrics.R2Score, metrics.MeanSquaredError]\n",
        "classificationMetrics = []#[metrics.AUC]\n",
        "\n",
        "class Metrics:\n",
        "  def __init__(self, device: str = 'cpu', regresion: list[Callable] = regresionMetrics, classification: list[Callable] = classificationMetrics):\n",
        "    self.device = device\n",
        "    self.regresion = [r().to(device) for r in regresion]\n",
        "    self.classification = [c().to(device) for c in classification]\n",
        "\n",
        "  def regToClass(self, pred: torch.Tensor, ground_truth: torch.Tensor, values: torch.Tensor = torch.Tensor([0.0, 0.5, 1.0])) -> torch.Tensor:\n",
        "    pred = pred.to(self.device)\n",
        "    ground_truth = ground_truth.to(self.device)\n",
        "    values = values.to(self.device)\n",
        "\n",
        "    length = pred.shape[0]\n",
        "    ret = torch.empty(length, dtype=torch.long)\n",
        "\n",
        "    for i in range(length):\n",
        "      diff = values - pred[i]\n",
        "      ret[i] = 1.0 if values[torch.argmin(torch.abs(diff))] == ground_truth[i] else 0.0\n",
        "\n",
        "    return ret\n",
        "\n",
        "  def update(self, pred: torch.Tensor, ground_truth: torch.Tensor):\n",
        "    pred = pred.to(self.device)\n",
        "    ground_truth = ground_truth.to(self.device)\n",
        "\n",
        "    for metric in self.regresion:\n",
        "      metric.update(pred, ground_truth)\n",
        "\n",
        "    class_pred = self.regToClass(pred, ground_truth)\n",
        "    for metric in self.classification:\n",
        "      metric.update(class_pred, torch.ones(class_pred.shape, dtype=torch.long))\n",
        "\n",
        "  def compute(self):\n",
        "    ret = {}\n",
        "\n",
        "    for metric in self.regresion:\n",
        "      ret[metric.__class__.__name__] = metric.compute()\n",
        "\n",
        "    for metric in self.classification:\n",
        "      ret[metric.__class__.__name__] = metric.compute()\n",
        "\n",
        "    return ret\n"
      ],
      "metadata": {
        "id": "g6FAQW2-UdzZ"
      },
      "execution_count": null,
      "outputs": []
    },
    {
      "cell_type": "code",
      "source": [
        "def drawData(data: list[dict]) -> None:\n",
        "  keys = [key for key in data[0].keys()]\n",
        "  num = len(keys)\n",
        "\n",
        "  _, ax = plt.subplots(1, num, figsize=(num*3, 4))\n",
        "\n",
        "  for i in range(num):\n",
        "    ax[i].set_title(keys[i])\n",
        "\n",
        "    ax[i].plot(range(len(data)), [data[x][keys[i]].item() for x in range(len(data))])\n",
        "\n",
        "  plt.show()\n"
      ],
      "metadata": {
        "id": "6_B8ZZ_3tqfu"
      },
      "execution_count": null,
      "outputs": []
    },
    {
      "cell_type": "markdown",
      "metadata": {
        "id": "mC2fPbM1pRTw"
      },
      "source": [
        "## Encoder and Decoder"
      ]
    },
    {
      "cell_type": "code",
      "execution_count": null,
      "metadata": {
        "id": "WzKHYzGCpA7Y"
      },
      "outputs": [],
      "source": [
        "class Encoder(torch.nn.Module):\n",
        "  def __init__(self, in_channels, hidden_channels, out_channels, layers=2, layer=nn.GATConv, device='cpu'):\n",
        "    super().__init__()\n",
        "\n",
        "    self.convs = torch.nn.ModuleList()\n",
        "    self.convs.append(layer(in_channels, hidden_channels))\n",
        "    for _ in range(1, layers-1):\n",
        "      self.convs.append(layer(hidden_channels, hidden_channels))\n",
        "    self.convs.append(layer(hidden_channels, out_channels))\n",
        "\n",
        "  def forward(self, x, edge_index):\n",
        "    for conv in self.convs[:-1]:\n",
        "      x = conv(x, edge_index)\n",
        "      x = x.relu()\n",
        "    x = self.convs[-1](x, edge_index)\n",
        "\n",
        "    return x\n",
        "\n",
        "  def forward(self, x, edge_index):\n",
        "    for conv in self.convs[:-1]:\n",
        "      x = conv(x, edge_index)\n",
        "      x = x.relu()\n",
        "    x = self.convs[-1](x, edge_index)\n",
        "\n",
        "    return x\n",
        "\n",
        "class Decoder(torch.nn.Module):\n",
        "  def __init__(self, in_channels, hidden_channels, out_channels, layers=2):\n",
        "    super().__init__()\n",
        "\n",
        "    self.lins = torch.nn.ModuleList()\n",
        "    self.lins.append(nn.Linear(in_channels, hidden_channels))\n",
        "    for _ in range(1, layers-1):\n",
        "      self.lins.append(nn.Linear(hidden_channels, hidden_channels))\n",
        "    self.lins.append(nn.Linear(hidden_channels, out_channels))\n",
        "\n",
        "  def forward(self, x_dict, edge_label_index):\n",
        "    row, col = edge_label_index\n",
        "    x = torch.cat([x_dict['team'][row], x_dict['team'][col]], dim=-1)\n",
        "\n",
        "    for lin in self.lins[:-1]:\n",
        "      x = lin(x)\n",
        "      x = x.relu()\n",
        "    x = self.lins[-1](x)\n",
        "\n",
        "    return x"
      ]
    },
    {
      "cell_type": "markdown",
      "metadata": {
        "id": "ydDxJlvA53dw"
      },
      "source": [
        "## Basic module"
      ]
    },
    {
      "cell_type": "code",
      "execution_count": null,
      "metadata": {
        "id": "XFSBHwy559fq"
      },
      "outputs": [],
      "source": [
        "class basicModule(torch.nn.Module):\n",
        "  def __init__(self, device='cpu'):\n",
        "    super().__init__()\n",
        "    self.device = device\n",
        "\n",
        "    self.lin = torch.nn.Linear(2, 1).to(self.device)\n",
        "\n",
        "  def forward(self, edge, edge_index):\n",
        "    x = torch.zeros([edge_index.shape[1], 2])\n",
        "    x[:, 0] = edge[edge_index[0], 2]\n",
        "    x[:, 1] = edge[edge_index[1], 2]\n",
        "\n",
        "    x = self.lin(x.to(self.device))\n",
        "\n",
        "    return x"
      ]
    },
    {
      "cell_type": "markdown",
      "metadata": {
        "id": "E1UuxaWEbpbk"
      },
      "source": [
        "## Linear module"
      ]
    },
    {
      "cell_type": "code",
      "execution_count": null,
      "metadata": {
        "id": "ylzZsHCtbryQ"
      },
      "outputs": [],
      "source": [
        "class linearModule(torch.nn.Module):\n",
        "  def __init__(self, in_channels, device='cpu'):\n",
        "    super().__init__()\n",
        "    self.device = device\n",
        "\n",
        "    self.lin = torch.nn.Linear(in_channels, 1).to(self.device)\n",
        "\n",
        "  def forward(self, x):\n",
        "\n",
        "    x = self.lin(x.to(self.device))\n",
        "\n",
        "    return x\n",
        "\n",
        "# Average data for team based on players in the team\n",
        "def getTeamAverage(played_dict: dict[int, list[int]], player_data: torch.tensor, teamInMatch_index: int):\n",
        "  # get all playerInMatch indexes\n",
        "  playerInMatch_list = played_dict[teamInMatch_index]\n",
        "\n",
        "  # get all playerInMatch data\n",
        "  playerInMatch_data = torch.empty((0, player_data.shape[1]), dtype=player_data.dtype)\n",
        "  for i in playerInMatch_list:\n",
        "    playerInMatch_data = torch.cat((playerInMatch_data, torch.unsqueeze(player_data[i, :], dim=0)))\n",
        "  #torch.Tensor([player_data[i] for i in playerInMatch_list])\n",
        "\n",
        "  playerInMtach_avg = torch.mean(playerInMatch_data, dim=0)\n",
        "\n",
        "  return playerInMtach_avg\n",
        "\n",
        "# create input data\n",
        "def createLinInput(data: HeteroData):\n",
        "  data = data.to('cpu')\n",
        "\n",
        "  # create dict for players in a match\n",
        "  played_dict = {}\n",
        "  for i in range(data['player_in_match', 'played', 'team_in_match'].edge_index.shape[1]):\n",
        "    key = data['player_in_match', 'played', 'team_in_match'].edge_index[1, i].item()\n",
        "    value = data['player_in_match', 'played', 'team_in_match'].edge_index[0, i].item()\n",
        "    if key in played_dict:\n",
        "      played_dict[key].append(value)\n",
        "    else:\n",
        "      played_dict[key] = [value]\n",
        "\n",
        "  # prepare input\n",
        "  home_x = []\n",
        "  numOfMatches = data['team_in_match', 'result', 'team_in_match'].edge_index.shape[1]\n",
        "  home_x = torch.empty((numOfMatches, data['player_in_match'].x.shape[1]))\n",
        "  away_x = torch.empty((numOfMatches, data['player_in_match'].x.shape[1]))\n",
        "  for i in range(numOfMatches):\n",
        "    home_x[i, :] = getTeamAverage(played_dict, data['player_in_match'].x, data['team_in_match', 'result', 'team_in_match'].edge_index[0, i].item())\n",
        "    away_x[i, :] = getTeamAverage(played_dict, data['player_in_match'].x, data['team_in_match', 'result', 'team_in_match'].edge_index[1, i].item())\n",
        "\n",
        "  # finalize input\n",
        "  input = torch.cat((home_x, away_x), dim=1)\n",
        "\n",
        "  return input.to(device)"
      ]
    },
    {
      "cell_type": "markdown",
      "metadata": {
        "id": "t6mEs7cHcx51"
      },
      "source": [
        "## GCN module"
      ]
    },
    {
      "cell_type": "code",
      "execution_count": null,
      "metadata": {
        "id": "XewxSir-1aRy"
      },
      "outputs": [],
      "source": [
        "class GCN(torch.nn.Module):\n",
        "  def __init__(self, in_channels, hidden_channels, out_channels, layers=2, device='cpu'):\n",
        "    super().__init__()\n",
        "    self.device = device\n",
        "\n",
        "    if layers == 1:\n",
        "      self.gcn = nn.GCNConv(in_channels, out_channels, add_self_loops=False)\n",
        "    else:\n",
        "      self.gcn = torch.nn.ModuleList()\n",
        "      self.gcn.append(nn.GCNConv(in_channels, hidden_channels, add_self_loops=False))\n",
        "      for _ in range(1, layers-1):\n",
        "        self.gcn.append(nn.GCNConv(hidden_channels, hidden_channels, add_self_loops=False))\n",
        "      self.gcn.append(nn.GCNConv(hidden_channels, out_channels, add_self_loops=False))\n",
        "\n",
        "    self.gcn.to(self.device)\n",
        "\n",
        "  def forward(self, x, edge_index):\n",
        "    x.to(self.device)\n",
        "\n",
        "    for module in self.gcn:\n",
        "      x = module(x, edge_index)\n",
        "      x = x.relu()\n",
        "\n",
        "    return x\n",
        "\n",
        "class heteroGCN(torch.nn.Module):\n",
        "  def __init__(self, in_channels, hidden_channels, out_channels, layers=2, device='cpu'):\n",
        "    super().__init__()\n",
        "    self.device = device\n",
        "\n",
        "    self.gcn = GCN(in_channels, hidden_channels, out_channels, layers, device).to(self.device)\n",
        "\n",
        "    self.classifier = Classifier().to(self.device)\n",
        "\n",
        "  def forward(self, data: HeteroData):\n",
        "    data = data.to(self.device)\n",
        "\n",
        "    #x_dict = {\n",
        "    #    \"team_in_match\": data[\"team_in_match\"].x\n",
        "    #}\n",
        "    #edge_index_dict = {edge_label: data[edge_label].edge_index for edge_label in data.metadata()[1]}\n",
        "\n",
        "    x = self.gcn(data[\"team_in_match\"].x, data[\"team_in_match\", \"result\", \"team_in_match\"].edge_index)\n",
        "\n",
        "    x = self.classifier(x, data[\"team_in_match\", \"result\", \"team_in_match\"].edge_index)\n",
        "\n",
        "    return torch.reshape(x, (1, -1))"
      ]
    },
    {
      "cell_type": "markdown",
      "metadata": {
        "id": "VzviYSH_pGYW"
      },
      "source": [
        "## GAT Module"
      ]
    },
    {
      "cell_type": "code",
      "execution_count": null,
      "metadata": {
        "id": "Na4Yn23JpI_u"
      },
      "outputs": [],
      "source": [
        "class GAT(torch.nn.Module):\n",
        "  def __init__(self, in_channels, hidden_channels, out_channels, layers=2, device='cpu'):\n",
        "    super().__init__()\n",
        "    self.device = device\n",
        "\n",
        "    if layers == 1:\n",
        "      self.gat = nn.GATConv(in_channels, out_channels, add_self_loops=False)\n",
        "    else:\n",
        "      self.gat = torch.nn.ModuleList()\n",
        "      self.gat.append(nn.GATConv(in_channels, hidden_channels, add_self_loops=False))\n",
        "      for _ in range(1, layers-1):\n",
        "        self.gat.append(nn.GATConv(hidden_channels, hidden_channels, add_self_loops=False))\n",
        "      self.gat.append(nn.GATConv(hidden_channels, out_channels, add_self_loops=False))\n",
        "\n",
        "    self.gat.to(self.device)\n",
        "\n",
        "  def forward(self, x, edge_index, edge_attr):\n",
        "    x.to(self.device)\n",
        "\n",
        "    for module in self.gat:\n",
        "      x = module(x, edge_index, edge_attr)\n",
        "      x = x.relu()\n",
        "\n",
        "    return x\n",
        "\n",
        "class heteroGAT(torch.nn.Module):\n",
        "  def __init__(self, in_channels, hidden_channels, out_channels, layers=2, device='cpu'):\n",
        "    super().__init__()\n",
        "    self.device = device\n",
        "\n",
        "    self.gat = GAT(in_channels, hidden_channels, out_channels, layers, device).to(self.device)\n",
        "\n",
        "    self.classifier = Classifier().to(self.device)\n",
        "\n",
        "  def forward(self, data: HeteroData):\n",
        "    data = data.to(self.device)\n",
        "\n",
        "    #x_dict = {\n",
        "    #    \"team_in_match\": data[\"team_in_match\"].x\n",
        "    #}\n",
        "    #edge_index_dict = {edge_label: data[edge_label].edge_index for edge_label in data.metadata()[1]}\n",
        "\n",
        "    x = self.gat(data[\"team_in_match\"].x, data[\"team_in_match\", \"result\", \"team_in_match\"].edge_index, data[\"team_in_match\", \"result\", \"team_in_match\"].edge_attr)\n",
        "\n",
        "    x = self.classifier(x, data[\"team_in_match\", \"result\", \"team_in_match\"].edge_index)\n",
        "\n",
        "    return torch.reshape(x, (1, -1))"
      ]
    },
    {
      "cell_type": "markdown",
      "metadata": {
        "id": "IjGwyEOAnulm"
      },
      "source": [
        "## SAGE module"
      ]
    },
    {
      "cell_type": "code",
      "execution_count": null,
      "metadata": {
        "id": "49R8gfrJntf2"
      },
      "outputs": [],
      "source": [
        "class SAGE(torch.nn.Module):\n",
        "  def __init__(self, in_channels, hidden_channels, out_channels, layers=2, device='cpu'):\n",
        "    super().__init__()\n",
        "    self.device = device\n",
        "\n",
        "    if layers == 1:\n",
        "      self.gcn = nn.SAGEConv(in_channels, out_channels, add_self_loops=False)\n",
        "    else:\n",
        "      self.gcn = torch.nn.ModuleList()\n",
        "      self.gcn.append(nn.SAGEConv(in_channels, hidden_channels, add_self_loops=False))\n",
        "      for _ in range(1, layers-1):\n",
        "        self.gcn.append(nn.SAGEConv(hidden_channels, hidden_channels, add_self_loops=False))\n",
        "      self.gcn.append(nn.SAGEConv(hidden_channels, out_channels, add_self_loops=False))\n",
        "\n",
        "  def forward(self, x, edge_index):\n",
        "    for module in self.gcn:\n",
        "      x = module(x, edge_index)\n",
        "      x = x.relu()\n",
        "\n",
        "    return x"
      ]
    },
    {
      "cell_type": "markdown",
      "metadata": {
        "id": "k1nbDFItfvHP"
      },
      "source": [
        "## Training"
      ]
    },
    {
      "cell_type": "markdown",
      "metadata": {
        "id": "nXWygaeMj5Xu"
      },
      "source": [
        "### Basic Module"
      ]
    },
    {
      "cell_type": "code",
      "execution_count": null,
      "metadata": {
        "id": "m30eApwATQwV",
        "colab": {
          "base_uri": "https://localhost:8080/",
          "height": 426
        },
        "outputId": "ddc72501-6ff5-4edc-cbf0-ecc68cdf9454"
      },
      "outputs": [
        {
          "output_type": "stream",
          "name": "stdout",
          "text": [
            "R2Score: -3.1605000495910645\n",
            "MeanSquaredError: 1.007746934890747\n"
          ]
        },
        {
          "output_type": "display_data",
          "data": {
            "text/plain": [
              "<Figure size 600x400 with 2 Axes>"
            ],
            "image/png": "[encoded data removed]"
          },
          "metadata": {}
        }
      ],
      "source": [
        "basic = basicModule(device=device)\n",
        "basicData = []\n",
        "\n",
        "optimizer = torch.optim.Adam(basic.parameters(), lr=lr)\n",
        "\n",
        "for epoch in range(epochs):\n",
        "  total_loss = total_examples = 0\n",
        "  basic.train()\n",
        "  optimizer.zero_grad()\n",
        "  pred = basic(\n",
        "      hetero_train_data['team_in_match'].x,\n",
        "      hetero_train_data['team_in_match', 'result', 'team_in_match'].edge_index\n",
        "  ).T.to(device)\n",
        "  ground_truth = hetero_train_data['team_in_match', 'result', 'team_in_match'].edge_attr.to(device)\n",
        "  loss = torch.nn.functional.binary_cross_entropy_with_logits(pred, ground_truth)\n",
        "  loss.backward()\n",
        "  optimizer.step()\n",
        "\n",
        "  # validate\n",
        "  pred = basic(\n",
        "      hetero_val_data['team_in_match'].x,\n",
        "      hetero_val_data['team_in_match', 'result', 'team_in_match'].edge_index\n",
        "  ).T.to(device)\n",
        "  ground_truth = hetero_val_data['team_in_match', 'result', 'team_in_match'].edge_attr.to(device)\n",
        "\n",
        "  basicMetric = Metrics(device)\n",
        "  basicMetric.update(pred.T, ground_truth.T)\n",
        "  compute = basicMetric.compute()\n",
        "  basicData.append(compute)\n",
        "\n",
        "for key in compute:\n",
        "  print(f\"{key}: {compute[key]}\")\n",
        "\n",
        "drawData(basicData)"
      ]
    },
    {
      "cell_type": "markdown",
      "metadata": {
        "id": "lnII2YqMdQ9c"
      },
      "source": [
        "### Linear Module"
      ]
    },
    {
      "cell_type": "code",
      "execution_count": null,
      "metadata": {
        "id": "i-oDsxztdTZ7",
        "colab": {
          "base_uri": "https://localhost:8080/",
          "height": 426
        },
        "outputId": "b182e8d2-33c3-44ff-aa20-29f8091241a5"
      },
      "outputs": [
        {
          "output_type": "stream",
          "name": "stdout",
          "text": [
            "R2Score: -3.1605000495910645\n",
            "MeanSquaredError: 1.007746934890747\n"
          ]
        },
        {
          "output_type": "display_data",
          "data": {
            "text/plain": [
              "<Figure size 600x400 with 2 Axes>"
            ],
            "image/png": "[encoded data removed]"
          },
          "metadata": {}
        }
      ],
      "source": [
        "inputForLinear = createLinInput(hetero_train_data)\n",
        "linearData = []\n",
        "\n",
        "linear = linearModule(inputForLinear.shape[1], device=device) # 2*playerInMatch_dim\n",
        "\n",
        "optimizer = torch.optim.Adam(linear.parameters(), lr=lr)\n",
        "\n",
        "for epoch in range(epochs):\n",
        "  total_loss = total_examples = 0\n",
        "  linear.train()\n",
        "  optimizer.zero_grad()\n",
        "  pred = linear(\n",
        "      inputForLinear\n",
        "  ).T.to(device)\n",
        "  ground_truth = hetero_train_data['team_in_match', 'result', 'team_in_match'].edge_attr.to(device)\n",
        "  loss = torch.nn.functional.binary_cross_entropy_with_logits(pred, ground_truth)\n",
        "  loss.backward()\n",
        "  optimizer.step()\n",
        "\n",
        "  # validate\n",
        "  pred = basic(\n",
        "      hetero_val_data['team_in_match'].x,\n",
        "      hetero_val_data['team_in_match', 'result', 'team_in_match'].edge_index\n",
        "  ).T.to(device)\n",
        "  ground_truth = hetero_val_data['team_in_match', 'result', 'team_in_match'].edge_attr.to(device)\n",
        "\n",
        "  linearMetric = Metrics(device)\n",
        "  linearMetric.update(pred.T, ground_truth.T)\n",
        "  compute = linearMetric.compute()\n",
        "  linearData.append(compute)\n",
        "\n",
        "for key in compute:\n",
        "  print(f\"{key}: {compute[key]}\")\n",
        "\n",
        "drawData(linearData)"
      ]
    },
    {
      "cell_type": "markdown",
      "metadata": {
        "id": "sCjc3rNjj8V6"
      },
      "source": [
        "### GCN"
      ]
    },
    {
      "cell_type": "code",
      "execution_count": null,
      "metadata": {
        "id": "1ZlESIS3jceS",
        "colab": {
          "base_uri": "https://localhost:8080/",
          "height": 426
        },
        "outputId": "7cc97798-3ca0-4a99-e6ee-337ab3166872"
      },
      "outputs": [
        {
          "output_type": "stream",
          "name": "stdout",
          "text": [
            "R2Score: -1.3109371662139893\n",
            "MeanSquaredError: 0.5597500205039978\n"
          ]
        },
        {
          "output_type": "display_data",
          "data": {
            "text/plain": [
              "<Figure size 600x400 with 2 Axes>"
            ],
            "image/png": "[encoded data removed]"
          },
          "metadata": {}
        }
      ],
      "source": [
        "GCNModule = heteroGCN(hetero_train_data['team_in_match'].x.shape[1], 20, 10, layers=3, device=device)\n",
        "gcnData = []\n",
        "\n",
        "optimizer = torch.optim.Adam(GCNModule.parameters(), lr=lr)\n",
        "\n",
        "#gcnLoader = generateHeteroLoader(hetero_train_data)\n",
        "#batches = [batch for batch in gcnLoader]\n",
        "\n",
        "for epoch in range(epochs):\n",
        "  total_loss = total_examples = 0\n",
        "  optimizer.zero_grad()\n",
        "\n",
        "  pred = GCNModule(hetero_train_data).to(device)\n",
        "  ground_truth = hetero_train_data[\"team_in_match\", \"result\", \"team_in_match\"].edge_attr.to(device)\n",
        "  loss = torch.nn.functional.binary_cross_entropy_with_logits(pred, ground_truth)\n",
        "  loss.backward()\n",
        "  optimizer.step()\n",
        "\n",
        "  # validate\n",
        "  pred = GCNModule(hetero_val_data).to(device)\n",
        "  ground_truth = hetero_val_data[\"team_in_match\", \"result\", \"team_in_match\"].edge_attr.to(device)\n",
        "\n",
        "  gcnMetric = Metrics(device)\n",
        "  gcnMetric.update(pred.T, ground_truth.T)\n",
        "  compute = gcnMetric.compute()\n",
        "  gcnData.append(compute)\n",
        "\n",
        "for key in compute:\n",
        "  print(f\"{key}: {compute[key]}\")\n",
        "\n",
        "drawData(gcnData)"
      ]
    },
    {
      "cell_type": "markdown",
      "metadata": {
        "id": "xgkH34eHj-JQ"
      },
      "source": [
        "### GAT"
      ]
    },
    {
      "cell_type": "code",
      "execution_count": null,
      "metadata": {
        "id": "QS6s_4Vkjg5w",
        "colab": {
          "base_uri": "https://localhost:8080/"
        },
        "outputId": "3edd6109-330c-478f-e01a-d89d7fce5982"
      },
      "outputs": [
        {
          "output_type": "stream",
          "name": "stdout",
          "text": [
            "R2Score: -1.3109371662139893\n",
            "MeanSquaredError: 0.5597500205039978\n"
          ]
        },
        {
          "output_type": "display_data",
          "data": {
            "text/plain": [
              "<Figure size 600x400 with 2 Axes>"
            ],
            "image/png": "[encoded data removed]"
          },
          "metadata": {}
        }
      ],
      "source": [
        "GATModule = heteroGAT(hetero_train_data['team_in_match'].x.shape[1], 20, 10, layers=3, device=device)\n",
        "gatData = []\n",
        "\n",
        "optimizer = torch.optim.Adam(GATModule.parameters(), lr=lr)\n",
        "\n",
        "for epoch in range(epochs):\n",
        "  for i in range(training):\n",
        "    total_loss = total_examples = 0\n",
        "    optimizer.zero_grad()\n",
        "    pred = GATModule(hetero_train_data)\n",
        "    ground_truth = hetero_train_data['team_in_match', 'result', 'team_in_match'].edge_attr\n",
        "    loss = torch.nn.functional.binary_cross_entropy_with_logits(pred, ground_truth)\n",
        "    loss.backward()\n",
        "    optimizer.step()\n",
        "\n",
        "  # validate\n",
        "  pred = GCNModule(hetero_val_data).to(device)\n",
        "  ground_truth = hetero_val_data[\"team_in_match\", \"result\", \"team_in_match\"].edge_attr.to(device)\n",
        "\n",
        "  gatMetric = Metrics(device)\n",
        "  gatMetric.update(pred.T, ground_truth.T)\n",
        "  compute = gatMetric.compute()\n",
        "  gatData.append(compute)\n",
        "\n",
        "for key in compute:\n",
        "  print(f\"{key}: {compute[key]}\")\n",
        "\n",
        "drawData(gatData)"
      ]
    }
  ],
  "metadata": {
    "colab": {
      "collapsed_sections": [
        "VBFEUPjNChfb",
        "Z_bTeA4IClUF",
        "zCsW9wIPMGhm",
        "eN83x5Kyt_-s",
        "DIb_W7__9gwk",
        "dfTaSYJuyRhW",
        "tGflFDiyeT9P",
        "uY6Ui5v-Cy27",
        "XLhx7YnwvJ_4",
        "FW0eaun_bRHk",
        "mC2fPbM1pRTw",
        "ydDxJlvA53dw",
        "E1UuxaWEbpbk",
        "t6mEs7cHcx51",
        "VzviYSH_pGYW",
        "IjGwyEOAnulm",
        "nXWygaeMj5Xu",
        "lnII2YqMdQ9c",
        "sCjc3rNjj8V6",
        "xgkH34eHj-JQ"
      ],
      "provenance": [],
      "gpuType": "T4",
      "authorship_tag": "ABX9TyPhnYp15GrZJP/exPBnr3Pt",
      "include_colab_link": true
    },
    "kernelspec": {
      "display_name": "Python 3",
      "name": "python3"
    },
    "language_info": {
      "name": "python"
    },
    "accelerator": "GPU"
  },
  "nbformat": 4,
  "nbformat_minor": 0
}