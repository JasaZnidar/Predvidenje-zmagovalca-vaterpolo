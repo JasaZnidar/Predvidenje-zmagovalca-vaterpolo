{
  "cells": [
    {
      "cell_type": "markdown",
      "metadata": {
        "id": "view-in-github",
        "colab_type": "text"
      },
      "source": [
        "<a href=\"https://colab.research.google.com/github/JasaZnidar/Predvidenje-zmagovalca-vaterpolo/blob/homogen-classification-GCN-Mk.-1/Diplomska_naloga.ipynb\" target=\"_parent\"><img src=\"https://colab.research.google.com/assets/colab-badge.svg\" alt=\"Open In Colab\"/></a>"
      ]
    },
    {
      "cell_type": "markdown",
      "source": [
        "In this model, the data surrounds team A and B, where A always wins.\n",
        "\n",
        "The data is stored in a Heterogeneus graph.\n",
        "A node is a team and it's feature is it's past win/loss ratio.\n",
        "An edge represents a match. For each match there are 2 edges. It represents the result, from the originating node teams point of view. Meaning that if the number is negative, they lost. The absolute value is the difference in gols.\n",
        "\n",
        "To predict the result, we use a GCN evalueate all teams, concatinate these evaluations in acordance with the edge we are trying to predict (originating node team is first) and then do a linear regression to get a single value, which is the result."
      ],
      "metadata": {
        "id": "2aNEtxPn5-Q7"
      }
    },
    {
      "cell_type": "markdown",
      "metadata": {
        "id": "VBFEUPjNChfb"
      },
      "source": [
        "# Setup"
      ]
    },
    {
      "cell_type": "code",
      "execution_count": 1,
      "metadata": {
        "id": "3qckgRTSCkiJ",
        "colab": {
          "base_uri": "https://localhost:8080/"
        },
        "outputId": "490ac8e3-7691-4bb8-fa70-f2dd8f4ac85c"
      },
      "outputs": [
        {
          "output_type": "stream",
          "name": "stdout",
          "text": [
            "\u001b[2K   \u001b[90m━━━━━━━━━━━━━━━━━━━━━━━━━━━━━━━━━━━━━━━━\u001b[0m \u001b[32m797.2/797.2 MB\u001b[0m \u001b[31m1.9 MB/s\u001b[0m eta \u001b[36m0:00:00\u001b[0m\n",
            "\u001b[2K   \u001b[90m━━━━━━━━━━━━━━━━━━━━━━━━━━━━━━━━━━━━━━━━\u001b[0m \u001b[32m410.6/410.6 MB\u001b[0m \u001b[31m3.1 MB/s\u001b[0m eta \u001b[36m0:00:00\u001b[0m\n",
            "\u001b[2K   \u001b[90m━━━━━━━━━━━━━━━━━━━━━━━━━━━━━━━━━━━━━━━━\u001b[0m \u001b[32m14.1/14.1 MB\u001b[0m \u001b[31m62.2 MB/s\u001b[0m eta \u001b[36m0:00:00\u001b[0m\n",
            "\u001b[2K   \u001b[90m━━━━━━━━━━━━━━━━━━━━━━━━━━━━━━━━━━━━━━━━\u001b[0m \u001b[32m23.7/23.7 MB\u001b[0m \u001b[31m19.0 MB/s\u001b[0m eta \u001b[36m0:00:00\u001b[0m\n",
            "\u001b[2K   \u001b[90m━━━━━━━━━━━━━━━━━━━━━━━━━━━━━━━━━━━━━━━━\u001b[0m \u001b[32m823.6/823.6 kB\u001b[0m \u001b[31m25.7 MB/s\u001b[0m eta \u001b[36m0:00:00\u001b[0m\n",
            "\u001b[2K   \u001b[90m━━━━━━━━━━━━━━━━━━━━━━━━━━━━━━━━━━━━━━━━\u001b[0m \u001b[32m664.8/664.8 MB\u001b[0m \u001b[31m2.6 MB/s\u001b[0m eta \u001b[36m0:00:00\u001b[0m\n",
            "\u001b[2K   \u001b[90m━━━━━━━━━━━━━━━━━━━━━━━━━━━━━━━━━━━━━━━━\u001b[0m \u001b[32m121.6/121.6 MB\u001b[0m \u001b[31m8.3 MB/s\u001b[0m eta \u001b[36m0:00:00\u001b[0m\n",
            "\u001b[2K   \u001b[90m━━━━━━━━━━━━━━━━━━━━━━━━━━━━━━━━━━━━━━━━\u001b[0m \u001b[32m56.5/56.5 MB\u001b[0m \u001b[31m15.6 MB/s\u001b[0m eta \u001b[36m0:00:00\u001b[0m\n",
            "\u001b[2K   \u001b[90m━━━━━━━━━━━━━━━━━━━━━━━━━━━━━━━━━━━━━━━━\u001b[0m \u001b[32m124.2/124.2 MB\u001b[0m \u001b[31m8.0 MB/s\u001b[0m eta \u001b[36m0:00:00\u001b[0m\n",
            "\u001b[2K   \u001b[90m━━━━━━━━━━━━━━━━━━━━━━━━━━━━━━━━━━━━━━━━\u001b[0m \u001b[32m196.0/196.0 MB\u001b[0m \u001b[31m6.2 MB/s\u001b[0m eta \u001b[36m0:00:00\u001b[0m\n",
            "\u001b[2K   \u001b[90m━━━━━━━━━━━━━━━━━━━━━━━━━━━━━━━━━━━━━━━━\u001b[0m \u001b[32m176.2/176.2 MB\u001b[0m \u001b[31m6.3 MB/s\u001b[0m eta \u001b[36m0:00:00\u001b[0m\n",
            "\u001b[2K   \u001b[90m━━━━━━━━━━━━━━━━━━━━━━━━━━━━━━━━━━━━━━━━\u001b[0m \u001b[32m99.1/99.1 kB\u001b[0m \u001b[31m9.1 MB/s\u001b[0m eta \u001b[36m0:00:00\u001b[0m\n",
            "\u001b[2K   \u001b[90m━━━━━━━━━━━━━━━━━━━━━━━━━━━━━━━━━━━━━━━━\u001b[0m \u001b[32m209.4/209.4 MB\u001b[0m \u001b[31m6.5 MB/s\u001b[0m eta \u001b[36m0:00:00\u001b[0m\n",
            "\u001b[?25h\u001b[31mERROR: pip's dependency resolver does not currently take into account all the packages that are installed. This behaviour is the source of the following dependency conflicts.\n",
            "torchaudio 2.4.1+cu121 requires torch==2.4.1, but you have torch 2.4.0 which is incompatible.\n",
            "torchvision 0.19.1+cu121 requires torch==2.4.1, but you have torch 2.4.0 which is incompatible.\u001b[0m\u001b[31m\n",
            "\u001b[2K     \u001b[90m━━━━━━━━━━━━━━━━━━━━━━━━━━━━━━━━━━━━━━━━\u001b[0m \u001b[32m2.5/2.5 MB\u001b[0m \u001b[31m15.5 MB/s\u001b[0m eta \u001b[36m0:00:00\u001b[0m\n",
            "\u001b[2K     \u001b[90m━━━━━━━━━━━━━━━━━━━━━━━━━━━━━━━━━━━━━━━━\u001b[0m \u001b[32m63.1/63.1 kB\u001b[0m \u001b[31m3.0 MB/s\u001b[0m eta \u001b[36m0:00:00\u001b[0m\n",
            "\u001b[2K   \u001b[90m━━━━━━━━━━━━━━━━━━━━━━━━━━━━━━━━━━━━━━━━\u001b[0m \u001b[32m1.1/1.1 MB\u001b[0m \u001b[31m31.1 MB/s\u001b[0m eta \u001b[36m0:00:00\u001b[0m\n",
            "\u001b[2K     \u001b[90m━━━━━━━━━━━━━━━━━━━━━━━━━━━━━━━━━━━━━━━━\u001b[0m \u001b[32m10.9/10.9 MB\u001b[0m \u001b[31m56.9 MB/s\u001b[0m eta \u001b[36m0:00:00\u001b[0m\n",
            "\u001b[2K     \u001b[90m━━━━━━━━━━━━━━━━━━━━━━━━━━━━━━━━━━━━━━━━\u001b[0m \u001b[32m5.1/5.1 MB\u001b[0m \u001b[31m22.2 MB/s\u001b[0m eta \u001b[36m0:00:00\u001b[0m\n",
            "\u001b[2K     \u001b[90m━━━━━━━━━━━━━━━━━━━━━━━━━━━━━━━━━━━━━━━━\u001b[0m \u001b[32m3.4/3.4 MB\u001b[0m \u001b[31m19.5 MB/s\u001b[0m eta \u001b[36m0:00:00\u001b[0m\n",
            "\u001b[2K     \u001b[90m━━━━━━━━━━━━━━━━━━━━━━━━━━━━━━━━━━━━━━━━\u001b[0m \u001b[32m986.2/986.2 kB\u001b[0m \u001b[31m7.4 MB/s\u001b[0m eta \u001b[36m0:00:00\u001b[0m\n",
            "\u001b[2K   \u001b[90m━━━━━━━━━━━━━━━━━━━━━━━━━━━━━━━━━━━━━━━━\u001b[0m \u001b[32m179.2/179.2 kB\u001b[0m \u001b[31m4.6 MB/s\u001b[0m eta \u001b[36m0:00:00\u001b[0m\n",
            "\u001b[?25h"
          ]
        }
      ],
      "source": [
        "!pip install -q torch==2.4.0\n",
        "\n",
        "import os\n",
        "import torch\n",
        "\n",
        "os.environ['TORCH'] = torch.__version__\n",
        "\n",
        "!pip install -q pyg_lib -f https://data.pyg.org/whl/torch-${TORCH}.html\n",
        "!pip install -q torch_geometric -f https://data.pyg.org/whl/torch-${TORCH}.html\n",
        "!pip install -q torch_scatter -f https://data.pyg.org/whl/torch-${TORCH}.html\n",
        "!pip install -q torch_sparse -f https://data.pyg.org/whl/torch-${TORCH}.html\n",
        "!pip install -q torch_cluster -f https://data.pyg.org/whl/torch-${TORCH}.html\n",
        "!pip install -q torch_spline_conv -f https://data.pyg.org/whl/torch-${TORCH}.html\n",
        "!pip install -q torcheval\n",
        "!pip install -q scikit-plot"
      ]
    },
    {
      "cell_type": "markdown",
      "metadata": {
        "id": "Z_bTeA4IClUF"
      },
      "source": [
        "# Imports"
      ]
    },
    {
      "cell_type": "code",
      "execution_count": 2,
      "metadata": {
        "id": "pQMPL8B7EWKB"
      },
      "outputs": [],
      "source": [
        "import json\n",
        "import networkx as nx\n",
        "import torch\n",
        "import torch.nn.functional as F\n",
        "import torch_geometric\n",
        "from torch_geometric.utils.convert import from_networkx\n",
        "from torch_geometric import nn, sampler\n",
        "from torch_geometric.data import HeteroData, Data\n",
        "from torch_geometric import transforms as T\n",
        "from torch_geometric import loader\n",
        "from torcheval import metrics as M\n",
        "from torcheval.metrics import R2Score, MeanSquaredError\n",
        "import tqdm\n",
        "from sklearn.metrics import roc_auc_score, roc_curve\n",
        "import matplotlib.pyplot as plt\n",
        "import requests\n",
        "from zipfile import ZipFile\n",
        "%matplotlib inline"
      ]
    },
    {
      "cell_type": "markdown",
      "metadata": {
        "id": "xRyuNWZAFELV"
      },
      "source": [
        "# Data definition"
      ]
    },
    {
      "cell_type": "code",
      "execution_count": 3,
      "metadata": {
        "id": "k7WoWjMJFGVT"
      },
      "outputs": [],
      "source": [
        "device = 'cuda' if torch.cuda.is_available() else 'cpu'\n",
        "\n",
        "win_value = 1.0\n",
        "loss_value = -1.0\n",
        "tie_value = (win_value + loss_value)/2\n",
        "\n",
        "numTrainMatches = 700\n",
        "numValMatches = 300"
      ]
    },
    {
      "cell_type": "markdown",
      "metadata": {
        "id": "dLoR1c-2GGun"
      },
      "source": [
        "# Learning"
      ]
    },
    {
      "cell_type": "code",
      "execution_count": 4,
      "metadata": {
        "id": "v857MBSRGIAP"
      },
      "outputs": [],
      "source": [
        "epochs = 150\n",
        "\n",
        "lr = 0.001\n",
        "dropout_p = 0.0\n",
        "Diff = True\n",
        "Tie = True\n",
        "crit = torch.nn.MSELoss()"
      ]
    },
    {
      "cell_type": "markdown",
      "metadata": {
        "id": "rQFhdJpZxlIV"
      },
      "source": [
        "# Data: team A always wins"
      ]
    },
    {
      "cell_type": "code",
      "execution_count": 5,
      "metadata": {
        "id": "st4LyWyGxpzS"
      },
      "outputs": [],
      "source": [
        "data = Data()\n",
        "data.x = torch.Tensor(\n",
        "    [[1.0],\n",
        "     [0.0]]\n",
        ")\n",
        "data.edge_index = torch.Tensor(\n",
        "    [[0, 1]*(numTrainMatches + numValMatches),\n",
        "     [1, 0]*(numTrainMatches + numValMatches)]\n",
        ").type(torch.long)\n",
        "data.edge_attr = torch.Tensor(\n",
        "    [[win_value, loss_value]*(numTrainMatches + numValMatches)]\n",
        ")\n",
        "data.edge_weight = torch.Tensor(\n",
        "    [1, 1]*(numTrainMatches + numValMatches)\n",
        ")\n",
        "\n",
        "data.train_mask = torch.Tensor(\n",
        "    [[True]*2*numTrainMatches + [False]*2*numValMatches]\n",
        ").type(torch.bool)\n",
        "data.val_mask = torch.Tensor(\n",
        "    [[False]*2*numTrainMatches + [True]*2*numValMatches]\n",
        ").type(torch.bool)"
      ]
    },
    {
      "cell_type": "code",
      "source": [
        "def plotLoss(loss_data: list[float]):\n",
        "  plt.plot(range(len(loss_data)), loss_data)\n",
        "  plt.show()"
      ],
      "metadata": {
        "id": "36F8aAumY6F6"
      },
      "execution_count": 6,
      "outputs": []
    },
    {
      "cell_type": "markdown",
      "source": [
        "# Model"
      ],
      "metadata": {
        "id": "94X-Ci-Lfrel"
      }
    },
    {
      "cell_type": "code",
      "source": [
        "class model(torch.nn.Module):\n",
        "  def __init__(self, channels: list[int], device: str='cpu', dropout: float=0.0):\n",
        "    assert len(channels) >= 2\n",
        "\n",
        "    super().__init__()\n",
        "\n",
        "    self.device = device\n",
        "    self.dropout = dropout\n",
        "\n",
        "    self.gcn = torch.nn.ModuleList()\n",
        "    for i in range(len(channels) - 1):\n",
        "      self.gcn.append(nn.GCNConv(channels[i], channels[i+1], add_self_loops=False))\n",
        "    self.gcn.to(self.device)\n",
        "\n",
        "    self.lin = torch.nn.Linear(channels[-1]*2, 1).to(self.device)\n",
        "\n",
        "  def forward(self, x: torch.Tensor, edge_index: torch.Tensor, edge_weight: torch.Tensor) -> torch.Tensor:\n",
        "    # move data to device\n",
        "    x = x.to(self.device)\n",
        "    edge_index = edge_index.to(self.device)\n",
        "    edge_weight = edge_weight.to(self.device)\n",
        "\n",
        "    # calculate values for each team\n",
        "    for module in self.gcn:\n",
        "      x = module(x, edge_index, edge_weight)\n",
        "      x = x.relu()\n",
        "      x = F.dropout(x, p=self.dropout, training=self.training)\n",
        "\n",
        "    # create match vectors by combining teams that played\n",
        "    x_1st = x[edge_index[0]]\n",
        "    x_2nd = x[edge_index[1]]\n",
        "    lin_input = torch.cat((x_1st, x_2nd), dim=1)\n",
        "\n",
        "    # calculate result from match vector\n",
        "    x = self.lin(lin_input)\n",
        "\n",
        "    return x.T"
      ],
      "metadata": {
        "id": "Sw1X3q0scwes"
      },
      "execution_count": 7,
      "outputs": []
    },
    {
      "cell_type": "markdown",
      "source": [
        "# Learn"
      ],
      "metadata": {
        "id": "9k_Z3obnmvU3"
      }
    },
    {
      "cell_type": "code",
      "source": [
        "gcn = model([1] + [32]*5 + [16], device=device, dropout=dropout_p)\n",
        "gcn.to(device)\n",
        "optimizer = torch.optim.Adam(gcn.parameters(), lr=lr)\n",
        "\n",
        "loss_values = []\n",
        "\n",
        "for epoch in range(epochs):\n",
        "  # prepare model for training\n",
        "  gcn.train()\n",
        "  optimizer.zero_grad()\n",
        "\n",
        "  # prepare train data\n",
        "  train_mask = torch.reshape(data.train_mask, (-1,))\n",
        "  x = data.x\n",
        "  edge_index = data.edge_index[:, train_mask]\n",
        "  edge_weight = data.edge_weight[train_mask]\n",
        "\n",
        "  # train\n",
        "  pred = gcn(x, edge_index, edge_weight).to(device)\n",
        "\n",
        "  # prepare validation data\n",
        "  ground_truth = data.edge_attr[:, train_mask].to(device)\n",
        "  ground_truth.requires_grad = True\n",
        "\n",
        "  # calculate loss\n",
        "  loss = crit(pred, ground_truth)\n",
        "  loss_values.append(loss.item())\n",
        "  loss.backward()\n",
        "  optimizer.step()\n",
        "\n",
        "# draw loss\n",
        "plotLoss(loss_values)"
      ],
      "metadata": {
        "id": "20HVifqKmyFA",
        "colab": {
          "base_uri": "https://localhost:8080/",
          "height": 430
        },
        "outputId": "fde97e66-05c8-4086-8670-e57d02645bc5"
      },
      "execution_count": 8,
      "outputs": [
        {
          "output_type": "display_data",
          "data": {
            "text/plain": [
              "<Figure size 640x480 with 1 Axes>"
            ],
            "image/png": "[encoded data removed]"
          },
          "metadata": {}
        }
      ]
    },
    {
      "cell_type": "markdown",
      "source": [
        "# Evaluate"
      ],
      "metadata": {
        "id": "AsC5qrgejlUs"
      }
    },
    {
      "cell_type": "code",
      "source": [
        "gcn.eval()\n",
        "\n",
        "val_mask = torch.reshape(data.val_mask, (-1,))\n",
        "x = data.x\n",
        "edge_index = data.edge_index[:, val_mask]\n",
        "edge_weight = data.edge_weight[val_mask]\n",
        "\n",
        "pred = gcn(x, edge_index, edge_weight).to(device).T\n",
        "class_pred = (torch.where(pred >= tie_value, win_value, loss_value) + 1)/2\n",
        "\n",
        "ground_truth = data.edge_attr[:, val_mask].to(device).T\n",
        "ground_truth.requires_grad = True\n",
        "class_ground_truth = (ground_truth + 1)/2\n",
        "\n",
        "R2 = M.R2Score()\n",
        "R2.to(device)\n",
        "R2.update(pred, ground_truth)\n",
        "print(f\"R2: {R2.compute()}\")\n",
        "\n",
        "MSE = M.MeanSquaredError()\n",
        "MSE.to(device)\n",
        "MSE.update(pred, ground_truth)\n",
        "print(f\"MSE: {MSE.compute()}\")\n",
        "\n",
        "BiAcc = M.BinaryAccuracy()\n",
        "BiAcc.to(device)\n",
        "BiAcc.update(torch.reshape(class_pred, (-1,)), torch.reshape(class_ground_truth, (-1,)))\n",
        "print(f\"BiAcc: {BiAcc.compute()}\")"
      ],
      "metadata": {
        "colab": {
          "base_uri": "https://localhost:8080/"
        },
        "id": "tGOp9d8njnSf",
        "outputId": "fc02c778-40d3-4048-a872-a4be2f52cd49"
      },
      "execution_count": 18,
      "outputs": [
        {
          "output_type": "stream",
          "name": "stdout",
          "text": [
            "R2: 0.9999992847442627\n",
            "MSE: 7.054595698718913e-07\n",
            "BiAcc: 1.0\n"
          ]
        }
      ]
    }
  ],
  "metadata": {
    "accelerator": "GPU",
    "colab": {
      "gpuType": "T4",
      "provenance": [],
      "collapsed_sections": [
        "VBFEUPjNChfb",
        "Z_bTeA4IClUF",
        "xRyuNWZAFELV",
        "dLoR1c-2GGun",
        "rQFhdJpZxlIV",
        "94X-Ci-Lfrel",
        "9k_Z3obnmvU3"
      ],
      "authorship_tag": "ABX9TyMmf+VnWRniipaiDykW/g0u",
      "include_colab_link": true
    },
    "kernelspec": {
      "display_name": "Python 3",
      "name": "python3"
    },
    "language_info": {
      "name": "python"
    }
  },
  "nbformat": 4,
  "nbformat_minor": 0
}