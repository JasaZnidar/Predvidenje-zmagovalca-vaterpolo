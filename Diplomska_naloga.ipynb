{
  "cells": [
    {
      "cell_type": "markdown",
      "metadata": {
        "id": "view-in-github",
        "colab_type": "text"
      },
      "source": [
        "<a href=\"https://colab.research.google.com/github/JasaZnidar/Predvidenje-zmagovalca-vaterpolo/blob/homogen-classification-GCN-Mk.-3/Diplomska_naloga.ipynb\" target=\"_parent\"><img src=\"https://colab.research.google.com/assets/colab-badge.svg\" alt=\"Open In Colab\"/></a>"
      ]
    },
    {
      "cell_type": "markdown",
      "source": [
        "In this model, the data surrounds N number of teams, where team with the lower index always wins.\n",
        "\n",
        "The data is stored in a Heterogeneus graph.\n",
        "A node is a team and it's feature is the average team statistic, which will be used in the complete model (shots, goals,...) - the statistic that will be used here is goals, shots, shots saved\n",
        "\n",
        "The stats for each team will be calculated as follows:\n",
        "\n",
        "  * Shots: Values will be linearly disperst on the following scale: [log_1.05(number of teams), 5]\n",
        "\n",
        "  * Goals: Goals are calculated by using a linear scale of [0.9, 0.1] to represent the percantage of successfull shots (calculated by using the teams shots)\n",
        "\n",
        "  * Saves: Saves are calculated by using a linear scale of [0.9, 0.1] to represent the percantage of the average shots made\n",
        "\n",
        "An edge represents a match. For each match there are 2 edges. It represents the result, from the originating node teams point of view. Meaning that if the number is negative, they lost. The absolute value is the difference in gols. This value is also used as a weight for the edges during learning.\n",
        "\n",
        "To predict the result, we use a GCN evalueate all teams, concatinate these evaluations in acordance with the edge we are trying to predict (originating node team is first) and then do a linear regression to get a single value, which is the result."
      ],
      "metadata": {
        "id": "2aNEtxPn5-Q7"
      }
    },
    {
      "cell_type": "markdown",
      "metadata": {
        "id": "VBFEUPjNChfb"
      },
      "source": [
        "# Setup"
      ]
    },
    {
      "cell_type": "markdown",
      "source": [
        "## Download whl-s and requirements"
      ],
      "metadata": {
        "id": "nM7frj8XaSse"
      }
    },
    {
      "cell_type": "code",
      "source": [
        "import urllib.request\n",
        "\n",
        "urllib.request.urlretrieve(\"https://raw.githubusercontent.com/JasaZnidar/Predvidenje-zmagovalca-vaterpolo/refs/heads/main/requirements.txt\", \"requirements.txt\")"
      ],
      "metadata": {
        "colab": {
          "base_uri": "https://localhost:8080/"
        },
        "id": "_Cnao2nAaXvB",
        "outputId": "a3e264bc-7190-43d5-b77f-a0dda3a7329a"
      },
      "execution_count": null,
      "outputs": [
        {
          "output_type": "execute_result",
          "data": {
            "text/plain": [
              "('requirements.txt', <http.client.HTTPMessage at 0x7b8751c03d60>)"
            ]
          },
          "metadata": {},
          "execution_count": 1
        }
      ]
    },
    {
      "cell_type": "markdown",
      "source": [
        "## pip"
      ],
      "metadata": {
        "id": "cd3gwsyZaX96"
      }
    },
    {
      "cell_type": "code",
      "source": [
        "!sudo apt-get install libcairo2-dev pkg-config python3-dev\n",
        "!pip install --upgrade pip\n",
        "!pip install --force-reinstall --no-cache-dir pycairo\n",
        "\n",
        "!pip install -q -r requirements.txt"
      ],
      "metadata": {
        "colab": {
          "base_uri": "https://localhost:8080/"
        },
        "id": "iKNhmjC3bfDw",
        "outputId": "9e467b2e-ea46-4c3a-c01f-0d2c968a7720"
      },
      "execution_count": null,
      "outputs": [
        {
          "output_type": "stream",
          "name": "stdout",
          "text": [
            "Reading package lists... Done\n",
            "Building dependency tree... Done\n",
            "Reading state information... Done\n",
            "libcairo2-dev is already the newest version (1.16.0-5ubuntu2).\n",
            "pkg-config is already the newest version (0.29.2-1ubuntu3).\n",
            "python3-dev is already the newest version (3.10.6-1~22.04.1).\n",
            "The following packages were automatically installed and are no longer required:\n",
            "  libbz2-dev libpkgconf3 libreadline-dev\n",
            "Use 'sudo apt autoremove' to remove them.\n",
            "0 upgraded, 0 newly installed, 0 to remove and 47 not upgraded.\n",
            "Requirement already satisfied: pip in /usr/local/lib/python3.10/dist-packages (24.3.1)\n",
            "Collecting pycairo\n",
            "  Downloading pycairo-1.27.0.tar.gz (661 kB)\n",
            "\u001b[2K     \u001b[90m━━━━━━━━━━━━━━━━━━━━━━━━━━━━━━━━━━━━━━━━\u001b[0m \u001b[32m661.5/661.5 kB\u001b[0m \u001b[31m182.4 MB/s\u001b[0m eta \u001b[36m0:00:00\u001b[0m\n",
            "\u001b[?25h  Installing build dependencies ... \u001b[?25l\u001b[?25hdone\n",
            "  Getting requirements to build wheel ... \u001b[?25l\u001b[?25hdone\n",
            "  Installing backend dependencies ... \u001b[?25l\u001b[?25hdone\n",
            "  Preparing metadata (pyproject.toml) ... \u001b[?25l\u001b[?25hdone\n",
            "Building wheels for collected packages: pycairo\n",
            "  Building wheel for pycairo (pyproject.toml) ... \u001b[?25l\u001b[?25hdone\n",
            "  Created wheel for pycairo: filename=pycairo-1.27.0-cp310-cp310-linux_x86_64.whl size=128157 sha256=54091d3056fb58dbda96549c035e8b325b74832592c1c6660d633a228b9b6614\n",
            "  Stored in directory: /tmp/pip-ephem-wheel-cache-ay41dym2/wheels/c3/76/e4/134a2e849a3082926653cb544793d9642aed12399436f422d1\n",
            "Successfully built pycairo\n",
            "Installing collected packages: pycairo\n",
            "  Attempting uninstall: pycairo\n",
            "    Found existing installation: pycairo 1.27.0\n",
            "    Uninstalling pycairo-1.27.0:\n",
            "      Successfully uninstalled pycairo-1.27.0\n",
            "Successfully installed pycairo-1.27.0\n",
            "\u001b[2K     \u001b[90m━━━━━━━━━━━━━━━━━━━━━━━━━━━━━━━━━━━━━━━━\u001b[0m \u001b[32m12.8/12.8 MB\u001b[0m \u001b[31m117.6 MB/s\u001b[0m eta \u001b[36m0:00:00\u001b[0m\n",
            "\u001b[?25h"
          ]
        }
      ]
    },
    {
      "cell_type": "markdown",
      "metadata": {
        "id": "Z_bTeA4IClUF"
      },
      "source": [
        "# Imports"
      ]
    },
    {
      "cell_type": "code",
      "execution_count": null,
      "metadata": {
        "id": "pQMPL8B7EWKB"
      },
      "outputs": [],
      "source": [
        "import json\n",
        "import networkx as nx\n",
        "import torch\n",
        "import torch.nn.functional as F\n",
        "import torch_geometric\n",
        "from torch_geometric.utils.convert import from_networkx\n",
        "from torch_geometric import nn, sampler\n",
        "from torch_geometric.data import HeteroData, Data\n",
        "from torch_geometric import transforms as T\n",
        "from torch_geometric import loader\n",
        "from torcheval import metrics as M\n",
        "from torcheval.metrics import R2Score, MeanSquaredError\n",
        "import tqdm\n",
        "from sklearn.metrics import roc_auc_score, roc_curve\n",
        "import matplotlib.pyplot as plt\n",
        "import requests\n",
        "from zipfile import ZipFile\n",
        "from math import log\n",
        "%matplotlib inline"
      ]
    },
    {
      "cell_type": "markdown",
      "metadata": {
        "id": "xRyuNWZAFELV"
      },
      "source": [
        "# Data definition"
      ]
    },
    {
      "cell_type": "code",
      "execution_count": null,
      "metadata": {
        "id": "k7WoWjMJFGVT"
      },
      "outputs": [],
      "source": [
        "device = 'cuda' if torch.cuda.is_available() else 'cpu'\n",
        "\n",
        "win_value = 1.0\n",
        "loss_value = -1.0\n",
        "tie_value = (win_value + loss_value)/2\n",
        "\n",
        "numTrainMatchCycles = 10\n",
        "numValMatchCycles = 3\n",
        "numOfTeams = 25\n",
        "cycleSize = int((numOfTeams*(numOfTeams - 1))/2)\n",
        "\n",
        "max_shots = log(numOfTeams, 1.05)\n",
        "min_shots = 5\n",
        "\n",
        "def shots(X: int) -> float:\n",
        "  x = float(X)\n",
        "\n",
        "  return ((min_shots - max_shots)/(numOfTeams - 1))*x + max_shots\n",
        "\n",
        "def goals(X: int) -> float:\n",
        "  x = float(X)\n",
        "  rate = (-0.8/(numOfTeams - 1))*x + 0.9\n",
        "  shot = shots(X)\n",
        "\n",
        "  return rate * shot\n",
        "\n",
        "def saves(X: int) -> float:\n",
        "  x = float(X)\n",
        "  rate = (-0.8/(numOfTeams - 1))*x + 0.9\n",
        "  shot = (max_shots + min_shots)/2\n",
        "\n",
        "  return rate * shot\n",
        "\n",
        "cycle = [\n",
        "    [],\n",
        "    []\n",
        "]\n",
        "result = []\n",
        "\n",
        "for i in range(numOfTeams):\n",
        "  for j in range(i+1, numOfTeams):\n",
        "    cycle[0].append(i)\n",
        "    cycle[0].append(j)\n",
        "    result.append(goals(j) - goals(i))\n",
        "    cycle[1].append(j)\n",
        "    cycle[1].append(i)\n",
        "    result.append(goals(i) - goals(j))"
      ]
    },
    {
      "cell_type": "markdown",
      "metadata": {
        "id": "dLoR1c-2GGun"
      },
      "source": [
        "# Learning"
      ]
    },
    {
      "cell_type": "code",
      "execution_count": null,
      "metadata": {
        "id": "v857MBSRGIAP"
      },
      "outputs": [],
      "source": [
        "epochs = 500\n",
        "\n",
        "lr = 0.01\n",
        "dropout_p = 0.0\n",
        "Diff = True\n",
        "Tie = True\n",
        "crit = torch.nn.MSELoss()"
      ]
    },
    {
      "cell_type": "markdown",
      "metadata": {
        "id": "rQFhdJpZxlIV"
      },
      "source": [
        "# Data: team A always wins"
      ]
    },
    {
      "cell_type": "code",
      "execution_count": null,
      "metadata": {
        "id": "st4LyWyGxpzS"
      },
      "outputs": [],
      "source": [
        "data = Data()\n",
        "data.x = torch.Tensor(\n",
        "    [[shots(i), goals(i), saves(i)] for i in range(numOfTeams)]\n",
        ")\n",
        "data.edge_index = torch.Tensor(\n",
        "    [cycle[0]*(numTrainMatchCycles + numValMatchCycles),\n",
        "     cycle[1]*(numTrainMatchCycles + numValMatchCycles)]\n",
        ").type(torch.long)\n",
        "data.edge_attr = torch.Tensor(\n",
        "    [[win_value, loss_value]*cycleSize*(numTrainMatchCycles + numValMatchCycles)]\n",
        ")\n",
        "data.edge_weight = torch.abs(torch.Tensor(\n",
        "    result*(numTrainMatchCycles + numValMatchCycles)\n",
        "))\n",
        "\n",
        "data.train_mask = torch.Tensor(\n",
        "    [[True]*2*cycleSize*numTrainMatchCycles + [False]*2*cycleSize*numValMatchCycles]\n",
        ").type(torch.bool)\n",
        "data.val_mask = torch.Tensor(\n",
        "    [[False]*2*cycleSize*numTrainMatchCycles + [True]*2*cycleSize*numValMatchCycles]\n",
        ").type(torch.bool)"
      ]
    },
    {
      "cell_type": "code",
      "source": [
        "def plotLoss(loss_data: list[float]):\n",
        "  plt.plot(range(len(loss_data)), loss_data)\n",
        "  plt.show()"
      ],
      "metadata": {
        "id": "36F8aAumY6F6"
      },
      "execution_count": null,
      "outputs": []
    },
    {
      "cell_type": "markdown",
      "source": [
        "# Model"
      ],
      "metadata": {
        "id": "94X-Ci-Lfrel"
      }
    },
    {
      "cell_type": "code",
      "source": [
        "class model(torch.nn.Module):\n",
        "  def __init__(self, channels: list[int], device: str='cpu', dropout: float=0.0):\n",
        "    assert len(channels) >= 2\n",
        "\n",
        "    super().__init__()\n",
        "\n",
        "    self.device = device\n",
        "    self.dropout = dropout\n",
        "\n",
        "    self.gcn = torch.nn.ModuleList()\n",
        "    for i in range(len(channels) - 1):\n",
        "      self.gcn.append(nn.GCNConv(channels[i], channels[i+1], add_self_loops=False))\n",
        "    self.gcn.to(self.device)\n",
        "\n",
        "    self.lin = torch.nn.Linear(channels[-1]*2, 1).to(self.device)\n",
        "\n",
        "  def forward(self, x: torch.Tensor, edge_index: torch.Tensor, edge_weight: torch.Tensor) -> torch.Tensor:\n",
        "    # move data to device\n",
        "    x = x.to(self.device)\n",
        "    edge_index = edge_index.to(self.device)\n",
        "    edge_weight = edge_weight.to(self.device)\n",
        "\n",
        "    # calculate values for each team\n",
        "    for module in self.gcn:\n",
        "      x = module(x, edge_index, edge_weight)\n",
        "      x = x.relu()\n",
        "      x = F.dropout(x, p=self.dropout, training=self.training)\n",
        "\n",
        "    # create match vectors by combining teams that played\n",
        "    x_1st = x[edge_index[0]]\n",
        "    x_2nd = x[edge_index[1]]\n",
        "    lin_input = torch.cat((x_1st, x_2nd), dim=1)\n",
        "\n",
        "    # calculate result from match vector\n",
        "    x = self.lin(lin_input)\n",
        "\n",
        "    return x.T"
      ],
      "metadata": {
        "id": "Sw1X3q0scwes"
      },
      "execution_count": null,
      "outputs": []
    },
    {
      "cell_type": "markdown",
      "source": [
        "# Learn"
      ],
      "metadata": {
        "id": "9k_Z3obnmvU3"
      }
    },
    {
      "cell_type": "code",
      "source": [
        "gcn = model([3] + [numOfTeams*2]*1 + [numOfTeams*1], device=device, dropout=dropout_p)\n",
        "gcn.to(device)\n",
        "optimizer = torch.optim.Adam(gcn.parameters(), lr=lr)\n",
        "\n",
        "loss_values = []\n",
        "\n",
        "for epoch in range(epochs):\n",
        "  # prepare model for training\n",
        "  gcn.train()\n",
        "  optimizer.zero_grad()\n",
        "\n",
        "  # prepare train data\n",
        "  train_mask = torch.reshape(data.train_mask, (-1,))\n",
        "  x = data.x\n",
        "  edge_index = data.edge_index[:, train_mask]\n",
        "  edge_weight = data.edge_weight[train_mask]\n",
        "\n",
        "  # train\n",
        "  pred = gcn(x, edge_index, edge_weight).to(device)\n",
        "\n",
        "  # prepare validation data\n",
        "  ground_truth = data.edge_attr[:, train_mask].to(device)\n",
        "  ground_truth.requires_grad = True\n",
        "\n",
        "  # calculate loss\n",
        "  loss = crit(pred, ground_truth)\n",
        "  loss_values.append(loss.item())\n",
        "  loss.backward()\n",
        "  optimizer.step()\n",
        "\n",
        "# draw loss\n",
        "plotLoss(loss_values)"
      ],
      "metadata": {
        "id": "20HVifqKmyFA",
        "colab": {
          "base_uri": "https://localhost:8080/",
          "height": 430
        },
        "outputId": "5199e2ff-5888-4eac-95c8-1b15de3fb4ed"
      },
      "execution_count": null,
      "outputs": [
        {
          "output_type": "display_data",
          "data": {
            "text/plain": [
              "<Figure size 640x480 with 1 Axes>"
            ],
            "image/png": "[encoded data removed]"
          },
          "metadata": {}
        }
      ]
    },
    {
      "cell_type": "markdown",
      "source": [
        "# Evaluate"
      ],
      "metadata": {
        "id": "AsC5qrgejlUs"
      }
    },
    {
      "cell_type": "code",
      "source": [
        "gcn.eval()\n",
        "\n",
        "val_mask = torch.reshape(data.val_mask, (-1,))\n",
        "x = data.x\n",
        "edge_index = data.edge_index[:, val_mask]\n",
        "edge_weight = data.edge_weight[val_mask]\n",
        "\n",
        "pred = gcn(x, edge_index, edge_weight).to(device).T\n",
        "class_pred = (torch.where(pred >= tie_value, win_value, loss_value) + 1)/2\n",
        "\n",
        "ground_truth = data.edge_attr[:, val_mask].to(device).T\n",
        "ground_truth.requires_grad = True\n",
        "class_ground_truth = (ground_truth + 1)/2\n",
        "\n",
        "R2 = M.R2Score()\n",
        "R2.to(device)\n",
        "R2.update(pred, ground_truth)\n",
        "print(f\"R2: {R2.compute()}\")\n",
        "\n",
        "MSE = M.MeanSquaredError()\n",
        "MSE.to(device)\n",
        "MSE.update(pred, ground_truth)\n",
        "print(f\"MSE: {MSE.compute()}\")\n",
        "\n",
        "BiAcc = M.BinaryAccuracy()\n",
        "BiAcc.to(device)\n",
        "BiAcc.update(torch.reshape(class_pred, (-1,)), torch.reshape(class_ground_truth, (-1,)))\n",
        "print(f\"BiAcc: {BiAcc.compute()}\")"
      ],
      "metadata": {
        "id": "tGOp9d8njnSf",
        "colab": {
          "base_uri": "https://localhost:8080/"
        },
        "outputId": "b3e1eddd-cfb6-4e66-b72c-1e249dbc635f"
      },
      "execution_count": null,
      "outputs": [
        {
          "output_type": "stream",
          "name": "stdout",
          "text": [
            "R2: 0.6436153054237366\n",
            "MSE: 0.3563846945762634\n",
            "BiAcc: 0.9599999785423279\n"
          ]
        }
      ]
    }
  ],
  "metadata": {
    "accelerator": "GPU",
    "colab": {
      "gpuType": "T4",
      "provenance": [],
      "collapsed_sections": [
        "VBFEUPjNChfb",
        "nM7frj8XaSse",
        "cd3gwsyZaX96",
        "Z_bTeA4IClUF",
        "94X-Ci-Lfrel"
      ],
      "authorship_tag": "ABX9TyOvVHAIHKP47wCs2zp+q4I/",
      "include_colab_link": true
    },
    "kernelspec": {
      "display_name": "Python 3",
      "name": "python3"
    },
    "language_info": {
      "name": "python"
    }
  },
  "nbformat": 4,
  "nbformat_minor": 0
}