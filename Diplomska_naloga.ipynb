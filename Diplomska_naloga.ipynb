{
  "cells": [
    {
      "cell_type": "markdown",
      "metadata": {
        "id": "view-in-github",
        "colab_type": "text"
      },
      "source": [
        "<a href=\"https://colab.research.google.com/github/JasaZnidar/Predvidenje-zmagovalca-vaterpolo/blob/homogen-classification-GCN-Mk.-4/Diplomska_naloga.ipynb\" target=\"_parent\"><img src=\"https://colab.research.google.com/assets/colab-badge.svg\" alt=\"Open In Colab\"/></a>"
      ]
    },
    {
      "cell_type": "markdown",
      "source": [
        "In this model, real data is used to construct the model.\n",
        "\n",
        "The data is stored in a Heterogeneus graph.\n",
        "A node is a team and it's feature is the average team statistic.\n",
        "\n",
        "An edge represents a match. For each match there are 2 edges. It represents the result, from the originating node teams point of view. Meaning that if the number is negative, they lost. The absolute value is the difference in gols. This value is also used as a weight for the edges during learning.\n",
        "\n",
        "To predict the result, we use a GCN evalueate all teams, concatinate these evaluations in acordance with the edge we are trying to predict (originating node team is first) and then do a linear regression to get a single value, which is the result.\n",
        "\n",
        "We also filter out matches that result in a tie."
      ],
      "metadata": {
        "id": "2aNEtxPn5-Q7"
      }
    },
    {
      "cell_type": "markdown",
      "metadata": {
        "id": "VBFEUPjNChfb"
      },
      "source": [
        "# Setup"
      ]
    },
    {
      "cell_type": "markdown",
      "source": [
        "## Download whl-s and requirements"
      ],
      "metadata": {
        "id": "nM7frj8XaSse"
      }
    },
    {
      "cell_type": "code",
      "source": [
        "import urllib.request\n",
        "\n",
        "urllib.request.urlretrieve(\"https://raw.githubusercontent.com/JasaZnidar/Predvidenje-zmagovalca-vaterpolo/refs/heads/main/requirements.txt\", \"requirements.txt\")"
      ],
      "metadata": {
        "colab": {
          "base_uri": "https://localhost:8080/"
        },
        "id": "_Cnao2nAaXvB",
        "outputId": "2ab9e702-67b1-4763-fe74-de25c8adc727"
      },
      "execution_count": 1,
      "outputs": [
        {
          "output_type": "execute_result",
          "data": {
            "text/plain": [
              "('requirements.txt', <http.client.HTTPMessage at 0x7cfefa08d9c0>)"
            ]
          },
          "metadata": {},
          "execution_count": 1
        }
      ]
    },
    {
      "cell_type": "markdown",
      "source": [
        "## pip"
      ],
      "metadata": {
        "id": "cd3gwsyZaX96"
      }
    },
    {
      "cell_type": "code",
      "source": [
        "!sudo apt-get install libcairo2-dev pkg-config python3-dev\n",
        "!pip install --upgrade pip\n",
        "!pip install --force-reinstall --no-cache-dir pycairo\n",
        "\n",
        "!pip install -r requirements.txt"
      ],
      "metadata": {
        "colab": {
          "base_uri": "https://localhost:8080/"
        },
        "id": "iKNhmjC3bfDw",
        "outputId": "0ea909a0-188a-4bd6-e688-9e08bcd014f5"
      },
      "execution_count": 2,
      "outputs": [
        {
          "output_type": "stream",
          "name": "stdout",
          "text": [
            "Reading package lists... Done\n",
            "Building dependency tree... Done\n",
            "Reading state information... Done\n",
            "libcairo2-dev is already the newest version (1.16.0-5ubuntu2).\n",
            "pkg-config is already the newest version (0.29.2-1ubuntu3).\n",
            "python3-dev is already the newest version (3.10.6-1~22.04.1).\n",
            "The following packages were automatically installed and are no longer required:\n",
            "  libbz2-dev libpkgconf3 libreadline-dev\n",
            "Use 'sudo apt autoremove' to remove them.\n",
            "0 upgraded, 0 newly installed, 0 to remove and 47 not upgraded.\n",
            "Requirement already satisfied: pip in /usr/local/lib/python3.10/dist-packages (24.3.1)\n",
            "Collecting pycairo\n",
            "  Downloading pycairo-1.27.0.tar.gz (661 kB)\n",
            "\u001b[2K     \u001b[90m━━━━━━━━━━━━━━━━━━━━━━━━━━━━━━━━━━━━━━━━\u001b[0m \u001b[32m661.5/661.5 kB\u001b[0m \u001b[31m185.1 MB/s\u001b[0m eta \u001b[36m0:00:00\u001b[0m\n",
            "\u001b[?25h  Installing build dependencies ... \u001b[?25l\u001b[?25hdone\n",
            "  Getting requirements to build wheel ... \u001b[?25l\u001b[?25hdone\n",
            "  Installing backend dependencies ... \u001b[?25l\u001b[?25hdone\n",
            "  Preparing metadata (pyproject.toml) ... \u001b[?25l\u001b[?25hdone\n",
            "Building wheels for collected packages: pycairo\n",
            "  Building wheel for pycairo (pyproject.toml) ... \u001b[?25l\u001b[?25hdone\n",
            "  Created wheel for pycairo: filename=pycairo-1.27.0-cp310-cp310-linux_x86_64.whl size=128157 sha256=981b9d7e9df15f8813225ab70d83b68d611c98cdfd377c2ee248226e0006f2bb\n",
            "  Stored in directory: /tmp/pip-ephem-wheel-cache-kcsn5g_l/wheels/c3/76/e4/134a2e849a3082926653cb544793d9642aed12399436f422d1\n",
            "Successfully built pycairo\n",
            "Installing collected packages: pycairo\n",
            "  Attempting uninstall: pycairo\n",
            "    Found existing installation: pycairo 1.27.0\n",
            "    Uninstalling pycairo-1.27.0:\n",
            "      Successfully uninstalled pycairo-1.27.0\n",
            "Successfully installed pycairo-1.27.0\n",
            "Collecting cudf-cu12@ https://pypi.nvidia.com/cudf-cu12/cudf_cu12-24.10.1-cp310-cp310-manylinux_2_24_x86_64.manylinux_2_28_x86_64.whl (from -r requirements.txt (line 60))\n",
            "  Using cached https://pypi.nvidia.com/cudf-cu12/cudf_cu12-24.10.1-cp310-cp310-manylinux_2_24_x86_64.manylinux_2_28_x86_64.whl (24.9 MB)\n",
            "Collecting en-core-web-sm@ https://github.com/explosion/spacy-models/releases/download/en_core_web_sm-3.7.1/en_core_web_sm-3.7.1-py3-none-any.whl#sha256=86cc141f63942d4b2c5fcee06630fd6f904788d2f0ab005cce45aadb8fb73889 (from -r requirements.txt (line 91))\n",
            "  Downloading https://github.com/explosion/spacy-models/releases/download/en_core_web_sm-3.7.1/en_core_web_sm-3.7.1-py3-none-any.whl (12.8 MB)\n",
            "\u001b[2K     \u001b[90m━━━━━━━━━━━━━━━━━━━━━━━━━━━━━━━━━━━━━━━━\u001b[0m \u001b[32m12.8/12.8 MB\u001b[0m \u001b[31m80.1 MB/s\u001b[0m eta \u001b[36m0:00:00\u001b[0m\n",
            "\u001b[?25hCollecting libcudf-cu12@ https://pypi.nvidia.com/libcudf-cu12/libcudf_cu12-24.10.1-py3-none-manylinux_2_28_x86_64.whl (from -r requirements.txt (line 232))\n",
            "  Using cached https://pypi.nvidia.com/libcudf-cu12/libcudf_cu12-24.10.1-py3-none-manylinux_2_28_x86_64.whl (515.1 MB)\n",
            "Collecting nx-cugraph-cu12@ https://pypi.nvidia.com/nx-cugraph-cu12/nx_cugraph_cu12-24.10.0-py3-none-any.whl (from -r requirements.txt (line 294))\n",
            "  Using cached https://pypi.nvidia.com/nx-cugraph-cu12/nx_cugraph_cu12-24.10.0-py3-none-any.whl (149 kB)\n",
            "Collecting pyg-lib@ https://github.com/JasaZnidar/Predvidenje-zmagovalca-vaterpolo/raw/refs/heads/main/whls/pyg_lib-0.4.0+pt24cu121-cp310-cp310-linux_x86_64.whl (from -r requirements.txt (line 363))\n",
            "  Using cached https://github.com/JasaZnidar/Predvidenje-zmagovalca-vaterpolo/raw/refs/heads/main/whls/pyg_lib-0.4.0+pt24cu121-cp310-cp310-linux_x86_64.whl (2.5 MB)\n",
            "Collecting pylibcudf-cu12@ https://pypi.nvidia.com/pylibcudf-cu12/pylibcudf_cu12-24.10.1-cp310-cp310-manylinux_2_24_x86_64.manylinux_2_28_x86_64.whl (from -r requirements.txt (line 369))\n",
            "  Using cached https://pypi.nvidia.com/pylibcudf-cu12/pylibcudf_cu12-24.10.1-cp310-cp310-manylinux_2_24_x86_64.manylinux_2_28_x86_64.whl (20.5 MB)\n",
            "Collecting torch-cluster@ https://github.com/JasaZnidar/Predvidenje-zmagovalca-vaterpolo/raw/refs/heads/main/whls/torch_cluster-1.6.3+pt24cu121-cp310-cp310-linux_x86_64.whl (from -r requirements.txt (line 481))\n",
            "  Using cached https://github.com/JasaZnidar/Predvidenje-zmagovalca-vaterpolo/raw/refs/heads/main/whls/torch_cluster-1.6.3+pt24cu121-cp310-cp310-linux_x86_64.whl (3.4 MB)\n",
            "Collecting torch-scatter@ https://github.com/JasaZnidar/Predvidenje-zmagovalca-vaterpolo/raw/refs/heads/main/whls/torch_scatter-2.1.2+pt24cu121-cp310-cp310-linux_x86_64.whl (from -r requirements.txt (line 485))\n",
            "  Using cached https://github.com/JasaZnidar/Predvidenje-zmagovalca-vaterpolo/raw/refs/heads/main/whls/torch_scatter-2.1.2+pt24cu121-cp310-cp310-linux_x86_64.whl (10.9 MB)\n",
            "Collecting torch-sparse@ https://github.com/JasaZnidar/Predvidenje-zmagovalca-vaterpolo/raw/refs/heads/main/whls/torch_sparse-0.6.18+pt24cu121-cp310-cp310-linux_x86_64.whl (from -r requirements.txt (line 486))\n",
            "  Using cached https://github.com/JasaZnidar/Predvidenje-zmagovalca-vaterpolo/raw/refs/heads/main/whls/torch_sparse-0.6.18+pt24cu121-cp310-cp310-linux_x86_64.whl (5.1 MB)\n",
            "Collecting torch-spline-conv@ https://github.com/JasaZnidar/Predvidenje-zmagovalca-vaterpolo/raw/refs/heads/main/whls/torch_spline_conv-1.2.2+pt24cu121-cp310-cp310-linux_x86_64.whl (from -r requirements.txt (line 487))\n",
            "  Using cached https://github.com/JasaZnidar/Predvidenje-zmagovalca-vaterpolo/raw/refs/heads/main/whls/torch_spline_conv-1.2.2+pt24cu121-cp310-cp310-linux_x86_64.whl (986 kB)\n",
            "Requirement already satisfied: absl-py==1.4.0 in /usr/local/lib/python3.10/dist-packages (from -r requirements.txt (line 1)) (1.4.0)\n",
            "Requirement already satisfied: accelerate==0.34.2 in /usr/local/lib/python3.10/dist-packages (from -r requirements.txt (line 2)) (0.34.2)\n",
            "Requirement already satisfied: aiohappyeyeballs==2.4.3 in /usr/local/lib/python3.10/dist-packages (from -r requirements.txt (line 3)) (2.4.3)\n",
            "Requirement already satisfied: aiohttp==3.10.10 in /usr/local/lib/python3.10/dist-packages (from -r requirements.txt (line 4)) (3.10.10)\n",
            "Requirement already satisfied: aiosignal==1.3.1 in /usr/local/lib/python3.10/dist-packages (from -r requirements.txt (line 5)) (1.3.1)\n",
            "Requirement already satisfied: alabaster==0.7.16 in /usr/local/lib/python3.10/dist-packages (from -r requirements.txt (line 6)) (0.7.16)\n",
            "Requirement already satisfied: albucore==0.0.16 in /usr/local/lib/python3.10/dist-packages (from -r requirements.txt (line 7)) (0.0.16)\n",
            "Requirement already satisfied: albumentations==1.4.15 in /usr/local/lib/python3.10/dist-packages (from -r requirements.txt (line 8)) (1.4.15)\n",
            "Requirement already satisfied: altair==4.2.2 in /usr/local/lib/python3.10/dist-packages (from -r requirements.txt (line 9)) (4.2.2)\n",
            "Requirement already satisfied: annotated-types==0.7.0 in /usr/local/lib/python3.10/dist-packages (from -r requirements.txt (line 10)) (0.7.0)\n",
            "Requirement already satisfied: anyio==3.7.1 in /usr/local/lib/python3.10/dist-packages (from -r requirements.txt (line 11)) (3.7.1)\n",
            "Requirement already satisfied: argon2-cffi==23.1.0 in /usr/local/lib/python3.10/dist-packages (from -r requirements.txt (line 12)) (23.1.0)\n",
            "Requirement already satisfied: argon2-cffi-bindings==21.2.0 in /usr/local/lib/python3.10/dist-packages (from -r requirements.txt (line 13)) (21.2.0)\n",
            "Requirement already satisfied: array_record==0.5.1 in /usr/local/lib/python3.10/dist-packages (from -r requirements.txt (line 14)) (0.5.1)\n",
            "Requirement already satisfied: arviz==0.19.0 in /usr/local/lib/python3.10/dist-packages (from -r requirements.txt (line 15)) (0.19.0)\n",
            "Requirement already satisfied: astropy==6.1.4 in /usr/local/lib/python3.10/dist-packages (from -r requirements.txt (line 16)) (6.1.4)\n",
            "Requirement already satisfied: astropy-iers-data==0.2024.10.21.0.33.21 in /usr/local/lib/python3.10/dist-packages (from -r requirements.txt (line 17)) (0.2024.10.21.0.33.21)\n",
            "Requirement already satisfied: astunparse==1.6.3 in /usr/local/lib/python3.10/dist-packages (from -r requirements.txt (line 18)) (1.6.3)\n",
            "Requirement already satisfied: async-timeout==4.0.3 in /usr/local/lib/python3.10/dist-packages (from -r requirements.txt (line 19)) (4.0.3)\n",
            "Requirement already satisfied: atpublic==4.1.0 in /usr/local/lib/python3.10/dist-packages (from -r requirements.txt (line 20)) (4.1.0)\n",
            "Requirement already satisfied: attrs==24.2.0 in /usr/local/lib/python3.10/dist-packages (from -r requirements.txt (line 21)) (24.2.0)\n",
            "Requirement already satisfied: audioread==3.0.1 in /usr/local/lib/python3.10/dist-packages (from -r requirements.txt (line 22)) (3.0.1)\n",
            "Requirement already satisfied: autograd==1.7.0 in /usr/local/lib/python3.10/dist-packages (from -r requirements.txt (line 23)) (1.7.0)\n",
            "Requirement already satisfied: babel==2.16.0 in /usr/local/lib/python3.10/dist-packages (from -r requirements.txt (line 24)) (2.16.0)\n",
            "Requirement already satisfied: backcall==0.2.0 in /usr/local/lib/python3.10/dist-packages (from -r requirements.txt (line 25)) (0.2.0)\n",
            "Requirement already satisfied: beautifulsoup4==4.12.3 in /usr/local/lib/python3.10/dist-packages (from -r requirements.txt (line 26)) (4.12.3)\n",
            "Requirement already satisfied: bigframes==1.22.0 in /usr/local/lib/python3.10/dist-packages (from -r requirements.txt (line 27)) (1.22.0)\n",
            "Requirement already satisfied: bigquery-magics==0.4.0 in /usr/local/lib/python3.10/dist-packages (from -r requirements.txt (line 28)) (0.4.0)\n",
            "Requirement already satisfied: bleach==6.1.0 in /usr/local/lib/python3.10/dist-packages (from -r requirements.txt (line 29)) (6.1.0)\n",
            "Requirement already satisfied: blinker==1.4 in /usr/local/lib/python3.10/dist-packages (from -r requirements.txt (line 30)) (1.4)\n",
            "Requirement already satisfied: blis==0.7.11 in /usr/local/lib/python3.10/dist-packages (from -r requirements.txt (line 31)) (0.7.11)\n",
            "Requirement already satisfied: blosc2==2.0.0 in /usr/local/lib/python3.10/dist-packages (from -r requirements.txt (line 32)) (2.0.0)\n",
            "Requirement already satisfied: bokeh==3.4.3 in /usr/local/lib/python3.10/dist-packages (from -r requirements.txt (line 33)) (3.4.3)\n",
            "Requirement already satisfied: Bottleneck==1.4.2 in /usr/local/lib/python3.10/dist-packages (from -r requirements.txt (line 34)) (1.4.2)\n",
            "Requirement already satisfied: bqplot==0.12.43 in /usr/local/lib/python3.10/dist-packages (from -r requirements.txt (line 35)) (0.12.43)\n",
            "Requirement already satisfied: branca==0.8.0 in /usr/local/lib/python3.10/dist-packages (from -r requirements.txt (line 36)) (0.8.0)\n",
            "Requirement already satisfied: CacheControl==0.14.0 in /usr/local/lib/python3.10/dist-packages (from -r requirements.txt (line 37)) (0.14.0)\n",
            "Requirement already satisfied: cachetools==5.5.0 in /usr/local/lib/python3.10/dist-packages (from -r requirements.txt (line 38)) (5.5.0)\n",
            "Requirement already satisfied: catalogue==2.0.10 in /usr/local/lib/python3.10/dist-packages (from -r requirements.txt (line 39)) (2.0.10)\n",
            "Requirement already satisfied: certifi==2024.8.30 in /usr/local/lib/python3.10/dist-packages (from -r requirements.txt (line 40)) (2024.8.30)\n",
            "Requirement already satisfied: cffi==1.17.1 in /usr/local/lib/python3.10/dist-packages (from -r requirements.txt (line 41)) (1.17.1)\n",
            "Requirement already satisfied: chardet==5.2.0 in /usr/local/lib/python3.10/dist-packages (from -r requirements.txt (line 42)) (5.2.0)\n",
            "Requirement already satisfied: charset-normalizer==3.4.0 in /usr/local/lib/python3.10/dist-packages (from -r requirements.txt (line 43)) (3.4.0)\n",
            "Requirement already satisfied: chex==0.1.87 in /usr/local/lib/python3.10/dist-packages (from -r requirements.txt (line 44)) (0.1.87)\n",
            "Requirement already satisfied: clarabel==0.9.0 in /usr/local/lib/python3.10/dist-packages (from -r requirements.txt (line 45)) (0.9.0)\n",
            "Requirement already satisfied: click==8.1.7 in /usr/local/lib/python3.10/dist-packages (from -r requirements.txt (line 46)) (8.1.7)\n",
            "Requirement already satisfied: cloudpathlib==0.20.0 in /usr/local/lib/python3.10/dist-packages (from -r requirements.txt (line 47)) (0.20.0)\n",
            "Requirement already satisfied: cloudpickle==3.1.0 in /usr/local/lib/python3.10/dist-packages (from -r requirements.txt (line 48)) (3.1.0)\n",
            "Requirement already satisfied: cmake==3.30.5 in /usr/local/lib/python3.10/dist-packages (from -r requirements.txt (line 49)) (3.30.5)\n",
            "Requirement already satisfied: cmdstanpy==1.2.4 in /usr/local/lib/python3.10/dist-packages (from -r requirements.txt (line 50)) (1.2.4)\n",
            "Requirement already satisfied: colorcet==3.1.0 in /usr/local/lib/python3.10/dist-packages (from -r requirements.txt (line 51)) (3.1.0)\n",
            "Requirement already satisfied: colorlover==0.3.0 in /usr/local/lib/python3.10/dist-packages (from -r requirements.txt (line 52)) (0.3.0)\n",
            "Requirement already satisfied: colour==0.1.5 in /usr/local/lib/python3.10/dist-packages (from -r requirements.txt (line 53)) (0.1.5)\n",
            "Requirement already satisfied: community==1.0.0b1 in /usr/local/lib/python3.10/dist-packages (from -r requirements.txt (line 54)) (1.0.0b1)\n",
            "Requirement already satisfied: confection==0.1.5 in /usr/local/lib/python3.10/dist-packages (from -r requirements.txt (line 55)) (0.1.5)\n",
            "Requirement already satisfied: cons==0.4.6 in /usr/local/lib/python3.10/dist-packages (from -r requirements.txt (line 56)) (0.4.6)\n",
            "Requirement already satisfied: contourpy==1.3.0 in /usr/local/lib/python3.10/dist-packages (from -r requirements.txt (line 57)) (1.3.0)\n",
            "Requirement already satisfied: cryptography==43.0.3 in /usr/local/lib/python3.10/dist-packages (from -r requirements.txt (line 58)) (43.0.3)\n",
            "Requirement already satisfied: cuda-python==12.2.1 in /usr/local/lib/python3.10/dist-packages (from -r requirements.txt (line 59)) (12.2.1)\n",
            "Requirement already satisfied: cufflinks==0.17.3 in /usr/local/lib/python3.10/dist-packages (from -r requirements.txt (line 61)) (0.17.3)\n",
            "Requirement already satisfied: cupy-cuda12x==12.2.0 in /usr/local/lib/python3.10/dist-packages (from -r requirements.txt (line 62)) (12.2.0)\n",
            "Requirement already satisfied: cvxopt==1.3.2 in /usr/local/lib/python3.10/dist-packages (from -r requirements.txt (line 63)) (1.3.2)\n",
            "Requirement already satisfied: cvxpy==1.5.3 in /usr/local/lib/python3.10/dist-packages (from -r requirements.txt (line 64)) (1.5.3)\n",
            "Requirement already satisfied: cycler==0.12.1 in /usr/local/lib/python3.10/dist-packages (from -r requirements.txt (line 65)) (0.12.1)\n",
            "Requirement already satisfied: cymem==2.0.8 in /usr/local/lib/python3.10/dist-packages (from -r requirements.txt (line 66)) (2.0.8)\n",
            "Requirement already satisfied: Cython==3.0.11 in /usr/local/lib/python3.10/dist-packages (from -r requirements.txt (line 67)) (3.0.11)\n",
            "Requirement already satisfied: dask==2024.8.2 in /usr/local/lib/python3.10/dist-packages (from -r requirements.txt (line 68)) (2024.8.2)\n",
            "Requirement already satisfied: datascience==0.17.6 in /usr/local/lib/python3.10/dist-packages (from -r requirements.txt (line 69)) (0.17.6)\n",
            "Requirement already satisfied: db-dtypes==1.3.0 in /usr/local/lib/python3.10/dist-packages (from -r requirements.txt (line 70)) (1.3.0)\n",
            "Requirement already satisfied: dbus-python==1.2.18 in /usr/lib/python3/dist-packages (from -r requirements.txt (line 71)) (1.2.18)\n",
            "Requirement already satisfied: debugpy==1.6.6 in /usr/local/lib/python3.10/dist-packages (from -r requirements.txt (line 72)) (1.6.6)\n",
            "Requirement already satisfied: decorator==4.4.2 in /usr/local/lib/python3.10/dist-packages (from -r requirements.txt (line 73)) (4.4.2)\n",
            "Requirement already satisfied: defusedxml==0.7.1 in /usr/local/lib/python3.10/dist-packages (from -r requirements.txt (line 74)) (0.7.1)\n",
            "Requirement already satisfied: Deprecated==1.2.14 in /usr/local/lib/python3.10/dist-packages (from -r requirements.txt (line 75)) (1.2.14)\n",
            "Requirement already satisfied: diffusers==0.30.3 in /usr/local/lib/python3.10/dist-packages (from -r requirements.txt (line 76)) (0.30.3)\n",
            "Requirement already satisfied: distro==1.7.0 in /usr/local/lib/python3.10/dist-packages (from -r requirements.txt (line 77)) (1.7.0)\n",
            "Requirement already satisfied: dlib==19.24.2 in /usr/local/lib/python3.10/dist-packages (from -r requirements.txt (line 78)) (19.24.2)\n",
            "Requirement already satisfied: dm-tree==0.1.8 in /usr/local/lib/python3.10/dist-packages (from -r requirements.txt (line 79)) (0.1.8)\n",
            "Requirement already satisfied: docker-pycreds==0.4.0 in /usr/local/lib/python3.10/dist-packages (from -r requirements.txt (line 80)) (0.4.0)\n",
            "Requirement already satisfied: docstring_parser==0.16 in /usr/local/lib/python3.10/dist-packages (from -r requirements.txt (line 81)) (0.16)\n",
            "Requirement already satisfied: docutils==0.18.1 in /usr/local/lib/python3.10/dist-packages (from -r requirements.txt (line 82)) (0.18.1)\n",
            "Requirement already satisfied: dopamine_rl==4.0.9 in /usr/local/lib/python3.10/dist-packages (from -r requirements.txt (line 83)) (4.0.9)\n",
            "Requirement already satisfied: duckdb==1.1.2 in /usr/local/lib/python3.10/dist-packages (from -r requirements.txt (line 84)) (1.1.2)\n",
            "Requirement already satisfied: earthengine-api==1.0.0 in /usr/local/lib/python3.10/dist-packages (from -r requirements.txt (line 85)) (1.0.0)\n",
            "Requirement already satisfied: easydict==1.13 in /usr/local/lib/python3.10/dist-packages (from -r requirements.txt (line 86)) (1.13)\n",
            "Requirement already satisfied: ecos==2.0.14 in /usr/local/lib/python3.10/dist-packages (from -r requirements.txt (line 87)) (2.0.14)\n",
            "Requirement already satisfied: editdistance==0.8.1 in /usr/local/lib/python3.10/dist-packages (from -r requirements.txt (line 88)) (0.8.1)\n",
            "Requirement already satisfied: eerepr==0.0.4 in /usr/local/lib/python3.10/dist-packages (from -r requirements.txt (line 89)) (0.0.4)\n",
            "Requirement already satisfied: einops==0.8.0 in /usr/local/lib/python3.10/dist-packages (from -r requirements.txt (line 90)) (0.8.0)\n",
            "Requirement already satisfied: entrypoints==0.4 in /usr/local/lib/python3.10/dist-packages (from -r requirements.txt (line 92)) (0.4)\n",
            "Requirement already satisfied: et-xmlfile==1.1.0 in /usr/local/lib/python3.10/dist-packages (from -r requirements.txt (line 93)) (1.1.0)\n",
            "Requirement already satisfied: etils==1.10.0 in /usr/local/lib/python3.10/dist-packages (from -r requirements.txt (line 94)) (1.10.0)\n",
            "Requirement already satisfied: etuples==0.3.9 in /usr/local/lib/python3.10/dist-packages (from -r requirements.txt (line 95)) (0.3.9)\n",
            "Requirement already satisfied: eval_type_backport==0.2.0 in /usr/local/lib/python3.10/dist-packages (from -r requirements.txt (line 96)) (0.2.0)\n",
            "Requirement already satisfied: exceptiongroup==1.2.2 in /usr/local/lib/python3.10/dist-packages (from -r requirements.txt (line 97)) (1.2.2)\n",
            "Requirement already satisfied: fastcore==1.7.19 in /usr/local/lib/python3.10/dist-packages (from -r requirements.txt (line 98)) (1.7.19)\n",
            "Requirement already satisfied: fastdownload==0.0.7 in /usr/local/lib/python3.10/dist-packages (from -r requirements.txt (line 99)) (0.0.7)\n",
            "Requirement already satisfied: fastjsonschema==2.20.0 in /usr/local/lib/python3.10/dist-packages (from -r requirements.txt (line 100)) (2.20.0)\n",
            "Requirement already satisfied: fastprogress==1.0.3 in /usr/local/lib/python3.10/dist-packages (from -r requirements.txt (line 101)) (1.0.3)\n",
            "Requirement already satisfied: fastrlock==0.8.2 in /usr/local/lib/python3.10/dist-packages (from -r requirements.txt (line 102)) (0.8.2)\n",
            "Requirement already satisfied: filelock==3.16.1 in /usr/local/lib/python3.10/dist-packages (from -r requirements.txt (line 103)) (3.16.1)\n",
            "Requirement already satisfied: firebase-admin==6.5.0 in /usr/local/lib/python3.10/dist-packages (from -r requirements.txt (line 104)) (6.5.0)\n",
            "Requirement already satisfied: Flask==2.2.5 in /usr/local/lib/python3.10/dist-packages (from -r requirements.txt (line 105)) (2.2.5)\n",
            "Requirement already satisfied: flatbuffers==24.3.25 in /usr/local/lib/python3.10/dist-packages (from -r requirements.txt (line 106)) (24.3.25)\n",
            "Requirement already satisfied: flax==0.8.5 in /usr/local/lib/python3.10/dist-packages (from -r requirements.txt (line 107)) (0.8.5)\n",
            "Requirement already satisfied: folium==0.17.0 in /usr/local/lib/python3.10/dist-packages (from -r requirements.txt (line 108)) (0.17.0)\n",
            "Requirement already satisfied: fonttools==4.54.1 in /usr/local/lib/python3.10/dist-packages (from -r requirements.txt (line 109)) (4.54.1)\n",
            "Requirement already satisfied: frozendict==2.4.6 in /usr/local/lib/python3.10/dist-packages (from -r requirements.txt (line 110)) (2.4.6)\n",
            "Requirement already satisfied: frozenlist==1.4.1 in /usr/local/lib/python3.10/dist-packages (from -r requirements.txt (line 111)) (1.4.1)\n",
            "Requirement already satisfied: fsspec==2024.6.1 in /usr/local/lib/python3.10/dist-packages (from -r requirements.txt (line 112)) (2024.6.1)\n",
            "Requirement already satisfied: future==1.0.0 in /usr/local/lib/python3.10/dist-packages (from -r requirements.txt (line 113)) (1.0.0)\n",
            "Requirement already satisfied: gast==0.6.0 in /usr/local/lib/python3.10/dist-packages (from -r requirements.txt (line 114)) (0.6.0)\n",
            "Requirement already satisfied: gcsfs==2024.6.1 in /usr/local/lib/python3.10/dist-packages (from -r requirements.txt (line 115)) (2024.6.1)\n",
            "Requirement already satisfied: GDAL==3.6.4 in /usr/local/lib/python3.10/dist-packages (from -r requirements.txt (line 116)) (3.6.4)\n",
            "Requirement already satisfied: gdown==5.2.0 in /usr/local/lib/python3.10/dist-packages (from -r requirements.txt (line 117)) (5.2.0)\n",
            "Requirement already satisfied: geemap==0.34.5 in /usr/local/lib/python3.10/dist-packages (from -r requirements.txt (line 118)) (0.34.5)\n",
            "Requirement already satisfied: gensim==4.3.3 in /usr/local/lib/python3.10/dist-packages (from -r requirements.txt (line 119)) (4.3.3)\n",
            "Requirement already satisfied: geocoder==1.38.1 in /usr/local/lib/python3.10/dist-packages (from -r requirements.txt (line 120)) (1.38.1)\n",
            "Requirement already satisfied: geographiclib==2.0 in /usr/local/lib/python3.10/dist-packages (from -r requirements.txt (line 121)) (2.0)\n",
            "Requirement already satisfied: geopandas==1.0.1 in /usr/local/lib/python3.10/dist-packages (from -r requirements.txt (line 122)) (1.0.1)\n",
            "Requirement already satisfied: geopy==2.4.1 in /usr/local/lib/python3.10/dist-packages (from -r requirements.txt (line 123)) (2.4.1)\n",
            "Requirement already satisfied: gin-config==0.5.0 in /usr/local/lib/python3.10/dist-packages (from -r requirements.txt (line 124)) (0.5.0)\n",
            "Requirement already satisfied: gitdb==4.0.11 in /usr/local/lib/python3.10/dist-packages (from -r requirements.txt (line 125)) (4.0.11)\n",
            "Requirement already satisfied: GitPython==3.1.43 in /usr/local/lib/python3.10/dist-packages (from -r requirements.txt (line 126)) (3.1.43)\n",
            "Requirement already satisfied: glob2==0.7 in /usr/local/lib/python3.10/dist-packages (from -r requirements.txt (line 127)) (0.7)\n",
            "Requirement already satisfied: google==2.0.3 in /usr/local/lib/python3.10/dist-packages (from -r requirements.txt (line 128)) (2.0.3)\n",
            "Requirement already satisfied: google-ai-generativelanguage==0.6.10 in /usr/local/lib/python3.10/dist-packages (from -r requirements.txt (line 129)) (0.6.10)\n",
            "Requirement already satisfied: google-api-core==2.19.2 in /usr/local/lib/python3.10/dist-packages (from -r requirements.txt (line 130)) (2.19.2)\n",
            "Requirement already satisfied: google-api-python-client==2.137.0 in /usr/local/lib/python3.10/dist-packages (from -r requirements.txt (line 131)) (2.137.0)\n",
            "Requirement already satisfied: google-auth==2.27.0 in /usr/local/lib/python3.10/dist-packages (from -r requirements.txt (line 132)) (2.27.0)\n",
            "Requirement already satisfied: google-auth-httplib2==0.2.0 in /usr/local/lib/python3.10/dist-packages (from -r requirements.txt (line 133)) (0.2.0)\n",
            "Requirement already satisfied: google-auth-oauthlib==1.2.1 in /usr/local/lib/python3.10/dist-packages (from -r requirements.txt (line 134)) (1.2.1)\n",
            "Requirement already satisfied: google-cloud-aiplatform==1.70.0 in /usr/local/lib/python3.10/dist-packages (from -r requirements.txt (line 135)) (1.70.0)\n",
            "Requirement already satisfied: google-cloud-bigquery==3.25.0 in /usr/local/lib/python3.10/dist-packages (from -r requirements.txt (line 136)) (3.25.0)\n",
            "Requirement already satisfied: google-cloud-bigquery-connection==1.15.5 in /usr/local/lib/python3.10/dist-packages (from -r requirements.txt (line 137)) (1.15.5)\n",
            "Requirement already satisfied: google-cloud-bigquery-storage==2.27.0 in /usr/local/lib/python3.10/dist-packages (from -r requirements.txt (line 138)) (2.27.0)\n",
            "Requirement already satisfied: google-cloud-bigtable==2.26.0 in /usr/local/lib/python3.10/dist-packages (from -r requirements.txt (line 139)) (2.26.0)\n",
            "Requirement already satisfied: google-cloud-core==2.4.1 in /usr/local/lib/python3.10/dist-packages (from -r requirements.txt (line 140)) (2.4.1)\n",
            "Requirement already satisfied: google-cloud-datastore==2.19.0 in /usr/local/lib/python3.10/dist-packages (from -r requirements.txt (line 141)) (2.19.0)\n",
            "Requirement already satisfied: google-cloud-firestore==2.16.1 in /usr/local/lib/python3.10/dist-packages (from -r requirements.txt (line 142)) (2.16.1)\n",
            "Requirement already satisfied: google-cloud-functions==1.16.5 in /usr/local/lib/python3.10/dist-packages (from -r requirements.txt (line 143)) (1.16.5)\n",
            "Requirement already satisfied: google-cloud-iam==2.15.2 in /usr/local/lib/python3.10/dist-packages (from -r requirements.txt (line 144)) (2.15.2)\n",
            "Requirement already satisfied: google-cloud-language==2.13.4 in /usr/local/lib/python3.10/dist-packages (from -r requirements.txt (line 145)) (2.13.4)\n",
            "Requirement already satisfied: google-cloud-pubsub==2.25.0 in /usr/local/lib/python3.10/dist-packages (from -r requirements.txt (line 146)) (2.25.0)\n",
            "Requirement already satisfied: google-cloud-resource-manager==1.12.5 in /usr/local/lib/python3.10/dist-packages (from -r requirements.txt (line 147)) (1.12.5)\n",
            "Requirement already satisfied: google-cloud-storage==2.8.0 in /usr/local/lib/python3.10/dist-packages (from -r requirements.txt (line 148)) (2.8.0)\n",
            "Requirement already satisfied: google-cloud-translate==3.15.5 in /usr/local/lib/python3.10/dist-packages (from -r requirements.txt (line 149)) (3.15.5)\n",
            "Requirement already satisfied: google-crc32c==1.6.0 in /usr/local/lib/python3.10/dist-packages (from -r requirements.txt (line 150)) (1.6.0)\n",
            "Requirement already satisfied: google-generativeai==0.8.3 in /usr/local/lib/python3.10/dist-packages (from -r requirements.txt (line 151)) (0.8.3)\n",
            "Requirement already satisfied: google-pasta==0.2.0 in /usr/local/lib/python3.10/dist-packages (from -r requirements.txt (line 152)) (0.2.0)\n",
            "Requirement already satisfied: google-resumable-media==2.7.2 in /usr/local/lib/python3.10/dist-packages (from -r requirements.txt (line 153)) (2.7.2)\n",
            "Requirement already satisfied: googleapis-common-protos==1.65.0 in /usr/local/lib/python3.10/dist-packages (from -r requirements.txt (line 154)) (1.65.0)\n",
            "Requirement already satisfied: googledrivedownloader==0.4 in /usr/local/lib/python3.10/dist-packages (from -r requirements.txt (line 155)) (0.4)\n",
            "Requirement already satisfied: graphviz==0.20.3 in /usr/local/lib/python3.10/dist-packages (from -r requirements.txt (line 156)) (0.20.3)\n",
            "Requirement already satisfied: greenlet==3.1.1 in /usr/local/lib/python3.10/dist-packages (from -r requirements.txt (line 157)) (3.1.1)\n",
            "Requirement already satisfied: grpc-google-iam-v1==0.13.1 in /usr/local/lib/python3.10/dist-packages (from -r requirements.txt (line 158)) (0.13.1)\n",
            "Requirement already satisfied: grpcio==1.64.1 in /usr/local/lib/python3.10/dist-packages (from -r requirements.txt (line 159)) (1.64.1)\n",
            "Requirement already satisfied: grpcio-status==1.48.2 in /usr/local/lib/python3.10/dist-packages (from -r requirements.txt (line 160)) (1.48.2)\n",
            "Requirement already satisfied: gspread==6.0.2 in /usr/local/lib/python3.10/dist-packages (from -r requirements.txt (line 161)) (6.0.2)\n",
            "Requirement already satisfied: gspread-dataframe==3.3.1 in /usr/local/lib/python3.10/dist-packages (from -r requirements.txt (line 162)) (3.3.1)\n",
            "Requirement already satisfied: gym==0.25.2 in /usr/local/lib/python3.10/dist-packages (from -r requirements.txt (line 163)) (0.25.2)\n",
            "Requirement already satisfied: gym-notices==0.0.8 in /usr/local/lib/python3.10/dist-packages (from -r requirements.txt (line 164)) (0.0.8)\n",
            "Requirement already satisfied: h5netcdf==1.4.0 in /usr/local/lib/python3.10/dist-packages (from -r requirements.txt (line 165)) (1.4.0)\n",
            "Requirement already satisfied: h5py==3.11.0 in /usr/local/lib/python3.10/dist-packages (from -r requirements.txt (line 166)) (3.11.0)\n",
            "Requirement already satisfied: holidays==0.59 in /usr/local/lib/python3.10/dist-packages (from -r requirements.txt (line 167)) (0.59)\n",
            "Requirement already satisfied: holoviews==1.19.1 in /usr/local/lib/python3.10/dist-packages (from -r requirements.txt (line 168)) (1.19.1)\n",
            "Requirement already satisfied: html5lib==1.1 in /usr/local/lib/python3.10/dist-packages (from -r requirements.txt (line 169)) (1.1)\n",
            "Requirement already satisfied: httpimport==1.4.0 in /usr/local/lib/python3.10/dist-packages (from -r requirements.txt (line 170)) (1.4.0)\n",
            "Requirement already satisfied: httplib2==0.22.0 in /usr/local/lib/python3.10/dist-packages (from -r requirements.txt (line 171)) (0.22.0)\n",
            "Requirement already satisfied: huggingface-hub==0.24.7 in /usr/local/lib/python3.10/dist-packages (from -r requirements.txt (line 172)) (0.24.7)\n",
            "Requirement already satisfied: humanize==4.10.0 in /usr/local/lib/python3.10/dist-packages (from -r requirements.txt (line 173)) (4.10.0)\n",
            "Requirement already satisfied: hyperopt==0.2.7 in /usr/local/lib/python3.10/dist-packages (from -r requirements.txt (line 174)) (0.2.7)\n",
            "Requirement already satisfied: ibis-framework==9.2.0 in /usr/local/lib/python3.10/dist-packages (from -r requirements.txt (line 175)) (9.2.0)\n",
            "Requirement already satisfied: idna==3.10 in /usr/local/lib/python3.10/dist-packages (from -r requirements.txt (line 176)) (3.10)\n",
            "Requirement already satisfied: imageio==2.35.1 in /usr/local/lib/python3.10/dist-packages (from -r requirements.txt (line 177)) (2.35.1)\n",
            "Requirement already satisfied: imageio-ffmpeg==0.5.1 in /usr/local/lib/python3.10/dist-packages (from -r requirements.txt (line 178)) (0.5.1)\n",
            "Requirement already satisfied: imagesize==1.4.1 in /usr/local/lib/python3.10/dist-packages (from -r requirements.txt (line 179)) (1.4.1)\n",
            "Requirement already satisfied: imbalanced-learn==0.12.4 in /usr/local/lib/python3.10/dist-packages (from -r requirements.txt (line 180)) (0.12.4)\n",
            "Requirement already satisfied: imgaug==0.4.0 in /usr/local/lib/python3.10/dist-packages (from -r requirements.txt (line 181)) (0.4.0)\n",
            "Requirement already satisfied: immutabledict==4.2.0 in /usr/local/lib/python3.10/dist-packages (from -r requirements.txt (line 182)) (4.2.0)\n",
            "Requirement already satisfied: importlib_metadata==8.5.0 in /usr/local/lib/python3.10/dist-packages (from -r requirements.txt (line 183)) (8.5.0)\n",
            "Requirement already satisfied: importlib_resources==6.4.5 in /usr/local/lib/python3.10/dist-packages (from -r requirements.txt (line 184)) (6.4.5)\n",
            "Requirement already satisfied: imutils==0.5.4 in /usr/local/lib/python3.10/dist-packages (from -r requirements.txt (line 185)) (0.5.4)\n",
            "Requirement already satisfied: inflect==7.4.0 in /usr/local/lib/python3.10/dist-packages (from -r requirements.txt (line 186)) (7.4.0)\n",
            "Requirement already satisfied: iniconfig==2.0.0 in /usr/local/lib/python3.10/dist-packages (from -r requirements.txt (line 187)) (2.0.0)\n",
            "Requirement already satisfied: intel-cmplr-lib-ur==2024.2.1 in /usr/local/lib/python3.10/dist-packages (from -r requirements.txt (line 188)) (2024.2.1)\n",
            "Requirement already satisfied: intel-openmp==2024.2.1 in /usr/local/lib/python3.10/dist-packages (from -r requirements.txt (line 189)) (2024.2.1)\n",
            "Requirement already satisfied: ipyevents==2.0.2 in /usr/local/lib/python3.10/dist-packages (from -r requirements.txt (line 190)) (2.0.2)\n",
            "Requirement already satisfied: ipyfilechooser==0.6.0 in /usr/local/lib/python3.10/dist-packages (from -r requirements.txt (line 191)) (0.6.0)\n",
            "Requirement already satisfied: ipykernel==5.5.6 in /usr/local/lib/python3.10/dist-packages (from -r requirements.txt (line 192)) (5.5.6)\n",
            "Requirement already satisfied: ipyleaflet==0.19.2 in /usr/local/lib/python3.10/dist-packages (from -r requirements.txt (line 193)) (0.19.2)\n",
            "Requirement already satisfied: ipyparallel==8.8.0 in /usr/local/lib/python3.10/dist-packages (from -r requirements.txt (line 194)) (8.8.0)\n",
            "Requirement already satisfied: ipython==7.34.0 in /usr/local/lib/python3.10/dist-packages (from -r requirements.txt (line 195)) (7.34.0)\n",
            "Requirement already satisfied: ipython-genutils==0.2.0 in /usr/local/lib/python3.10/dist-packages (from -r requirements.txt (line 196)) (0.2.0)\n",
            "Requirement already satisfied: ipython-sql==0.5.0 in /usr/local/lib/python3.10/dist-packages (from -r requirements.txt (line 197)) (0.5.0)\n",
            "Requirement already satisfied: ipytree==0.2.2 in /usr/local/lib/python3.10/dist-packages (from -r requirements.txt (line 198)) (0.2.2)\n",
            "Requirement already satisfied: ipywidgets==7.7.1 in /usr/local/lib/python3.10/dist-packages (from -r requirements.txt (line 199)) (7.7.1)\n",
            "Requirement already satisfied: itsdangerous==2.2.0 in /usr/local/lib/python3.10/dist-packages (from -r requirements.txt (line 200)) (2.2.0)\n",
            "Requirement already satisfied: jax==0.4.33 in /usr/local/lib/python3.10/dist-packages (from -r requirements.txt (line 201)) (0.4.33)\n",
            "Requirement already satisfied: jax-cuda12-pjrt==0.4.33 in /usr/local/lib/python3.10/dist-packages (from -r requirements.txt (line 202)) (0.4.33)\n",
            "Requirement already satisfied: jax-cuda12-plugin==0.4.33 in /usr/local/lib/python3.10/dist-packages (from -r requirements.txt (line 203)) (0.4.33)\n",
            "Requirement already satisfied: jaxlib==0.4.33 in /usr/local/lib/python3.10/dist-packages (from -r requirements.txt (line 204)) (0.4.33)\n",
            "Requirement already satisfied: jeepney==0.7.1 in /usr/lib/python3/dist-packages (from -r requirements.txt (line 205)) (0.7.1)\n",
            "Requirement already satisfied: jellyfish==1.1.0 in /usr/local/lib/python3.10/dist-packages (from -r requirements.txt (line 206)) (1.1.0)\n",
            "Requirement already satisfied: jieba==0.42.1 in /usr/local/lib/python3.10/dist-packages (from -r requirements.txt (line 207)) (0.42.1)\n",
            "Requirement already satisfied: Jinja2==3.1.4 in /usr/local/lib/python3.10/dist-packages (from -r requirements.txt (line 208)) (3.1.4)\n",
            "Requirement already satisfied: joblib==1.4.2 in /usr/local/lib/python3.10/dist-packages (from -r requirements.txt (line 209)) (1.4.2)\n",
            "Requirement already satisfied: jsonpickle==3.3.0 in /usr/local/lib/python3.10/dist-packages (from -r requirements.txt (line 210)) (3.3.0)\n",
            "Requirement already satisfied: jsonschema==4.23.0 in /usr/local/lib/python3.10/dist-packages (from -r requirements.txt (line 211)) (4.23.0)\n",
            "Requirement already satisfied: jsonschema-specifications==2024.10.1 in /usr/local/lib/python3.10/dist-packages (from -r requirements.txt (line 212)) (2024.10.1)\n",
            "Requirement already satisfied: jupyter-client==6.1.12 in /usr/local/lib/python3.10/dist-packages (from -r requirements.txt (line 213)) (6.1.12)\n",
            "Requirement already satisfied: jupyter-console==6.1.0 in /usr/local/lib/python3.10/dist-packages (from -r requirements.txt (line 214)) (6.1.0)\n",
            "Requirement already satisfied: jupyter-leaflet==0.19.2 in /usr/local/lib/python3.10/dist-packages (from -r requirements.txt (line 215)) (0.19.2)\n",
            "Requirement already satisfied: jupyter-server==1.24.0 in /usr/local/lib/python3.10/dist-packages (from -r requirements.txt (line 216)) (1.24.0)\n",
            "Requirement already satisfied: jupyter_core==5.7.2 in /usr/local/lib/python3.10/dist-packages (from -r requirements.txt (line 217)) (5.7.2)\n",
            "Requirement already satisfied: jupyterlab_pygments==0.3.0 in /usr/local/lib/python3.10/dist-packages (from -r requirements.txt (line 218)) (0.3.0)\n",
            "Requirement already satisfied: jupyterlab_widgets==3.0.13 in /usr/local/lib/python3.10/dist-packages (from -r requirements.txt (line 219)) (3.0.13)\n",
            "Requirement already satisfied: kaggle==1.6.17 in /usr/local/lib/python3.10/dist-packages (from -r requirements.txt (line 220)) (1.6.17)\n",
            "Requirement already satisfied: kagglehub==0.3.3 in /usr/local/lib/python3.10/dist-packages (from -r requirements.txt (line 221)) (0.3.3)\n",
            "Requirement already satisfied: keras==3.4.1 in /usr/local/lib/python3.10/dist-packages (from -r requirements.txt (line 222)) (3.4.1)\n",
            "Requirement already satisfied: keyring==23.5.0 in /usr/lib/python3/dist-packages (from -r requirements.txt (line 223)) (23.5.0)\n",
            "Requirement already satisfied: kiwisolver==1.4.7 in /usr/local/lib/python3.10/dist-packages (from -r requirements.txt (line 224)) (1.4.7)\n",
            "Requirement already satisfied: langcodes==3.4.1 in /usr/local/lib/python3.10/dist-packages (from -r requirements.txt (line 225)) (3.4.1)\n",
            "Requirement already satisfied: language_data==1.2.0 in /usr/local/lib/python3.10/dist-packages (from -r requirements.txt (line 226)) (1.2.0)\n",
            "Requirement already satisfied: launchpadlib==1.10.16 in /usr/lib/python3/dist-packages (from -r requirements.txt (line 227)) (1.10.16)\n",
            "Requirement already satisfied: lazr.restfulclient==0.14.4 in /usr/lib/python3/dist-packages (from -r requirements.txt (line 228)) (0.14.4)\n",
            "Requirement already satisfied: lazr.uri==1.0.6 in /usr/lib/python3/dist-packages (from -r requirements.txt (line 229)) (1.0.6)\n",
            "Requirement already satisfied: lazy_loader==0.4 in /usr/local/lib/python3.10/dist-packages (from -r requirements.txt (line 230)) (0.4)\n",
            "Requirement already satisfied: libclang==18.1.1 in /usr/local/lib/python3.10/dist-packages (from -r requirements.txt (line 231)) (18.1.1)\n",
            "Requirement already satisfied: librosa==0.10.2.post1 in /usr/local/lib/python3.10/dist-packages (from -r requirements.txt (line 233)) (0.10.2.post1)\n",
            "Requirement already satisfied: lightgbm==4.5.0 in /usr/local/lib/python3.10/dist-packages (from -r requirements.txt (line 234)) (4.5.0)\n",
            "Requirement already satisfied: linkify-it-py==2.0.3 in /usr/local/lib/python3.10/dist-packages (from -r requirements.txt (line 235)) (2.0.3)\n",
            "Requirement already satisfied: llvmlite==0.43.0 in /usr/local/lib/python3.10/dist-packages (from -r requirements.txt (line 236)) (0.43.0)\n",
            "Requirement already satisfied: locket==1.0.0 in /usr/local/lib/python3.10/dist-packages (from -r requirements.txt (line 237)) (1.0.0)\n",
            "Requirement already satisfied: logical-unification==0.4.6 in /usr/local/lib/python3.10/dist-packages (from -r requirements.txt (line 238)) (0.4.6)\n",
            "Requirement already satisfied: lxml==4.9.4 in /usr/local/lib/python3.10/dist-packages (from -r requirements.txt (line 239)) (4.9.4)\n",
            "Requirement already satisfied: marisa-trie==1.2.1 in /usr/local/lib/python3.10/dist-packages (from -r requirements.txt (line 240)) (1.2.1)\n",
            "Requirement already satisfied: Markdown==3.7 in /usr/local/lib/python3.10/dist-packages (from -r requirements.txt (line 241)) (3.7)\n",
            "Requirement already satisfied: markdown-it-py==3.0.0 in /usr/local/lib/python3.10/dist-packages (from -r requirements.txt (line 242)) (3.0.0)\n",
            "Requirement already satisfied: MarkupSafe==3.0.2 in /usr/local/lib/python3.10/dist-packages (from -r requirements.txt (line 243)) (3.0.2)\n",
            "Requirement already satisfied: matplotlib==3.7.1 in /usr/local/lib/python3.10/dist-packages (from -r requirements.txt (line 244)) (3.7.1)\n",
            "Requirement already satisfied: matplotlib-inline==0.1.7 in /usr/local/lib/python3.10/dist-packages (from -r requirements.txt (line 245)) (0.1.7)\n",
            "Requirement already satisfied: matplotlib-venn==1.1.1 in /usr/local/lib/python3.10/dist-packages (from -r requirements.txt (line 246)) (1.1.1)\n",
            "Requirement already satisfied: mdit-py-plugins==0.4.2 in /usr/local/lib/python3.10/dist-packages (from -r requirements.txt (line 247)) (0.4.2)\n",
            "Requirement already satisfied: mdurl==0.1.2 in /usr/local/lib/python3.10/dist-packages (from -r requirements.txt (line 248)) (0.1.2)\n",
            "Requirement already satisfied: miniKanren==1.0.3 in /usr/local/lib/python3.10/dist-packages (from -r requirements.txt (line 249)) (1.0.3)\n",
            "Requirement already satisfied: missingno==0.5.2 in /usr/local/lib/python3.10/dist-packages (from -r requirements.txt (line 250)) (0.5.2)\n",
            "Requirement already satisfied: mistune==0.8.4 in /usr/local/lib/python3.10/dist-packages (from -r requirements.txt (line 251)) (0.8.4)\n",
            "Requirement already satisfied: mizani==0.11.4 in /usr/local/lib/python3.10/dist-packages (from -r requirements.txt (line 252)) (0.11.4)\n",
            "Requirement already satisfied: mkl==2024.2.2 in /usr/local/lib/python3.10/dist-packages (from -r requirements.txt (line 253)) (2024.2.2)\n",
            "Requirement already satisfied: ml-dtypes==0.4.1 in /usr/local/lib/python3.10/dist-packages (from -r requirements.txt (line 254)) (0.4.1)\n",
            "Requirement already satisfied: mlxtend==0.23.1 in /usr/local/lib/python3.10/dist-packages (from -r requirements.txt (line 255)) (0.23.1)\n",
            "Requirement already satisfied: more-itertools==10.5.0 in /usr/local/lib/python3.10/dist-packages (from -r requirements.txt (line 256)) (10.5.0)\n",
            "Requirement already satisfied: moviepy==1.0.3 in /usr/local/lib/python3.10/dist-packages (from -r requirements.txt (line 257)) (1.0.3)\n",
            "Requirement already satisfied: mpmath==1.3.0 in /usr/local/lib/python3.10/dist-packages (from -r requirements.txt (line 258)) (1.3.0)\n",
            "Requirement already satisfied: msgpack==1.1.0 in /usr/local/lib/python3.10/dist-packages (from -r requirements.txt (line 259)) (1.1.0)\n",
            "Requirement already satisfied: multidict==6.1.0 in /usr/local/lib/python3.10/dist-packages (from -r requirements.txt (line 260)) (6.1.0)\n",
            "Requirement already satisfied: multipledispatch==1.0.0 in /usr/local/lib/python3.10/dist-packages (from -r requirements.txt (line 261)) (1.0.0)\n",
            "Requirement already satisfied: multitasking==0.0.11 in /usr/local/lib/python3.10/dist-packages (from -r requirements.txt (line 262)) (0.0.11)\n",
            "Requirement already satisfied: murmurhash==1.0.10 in /usr/local/lib/python3.10/dist-packages (from -r requirements.txt (line 263)) (1.0.10)\n",
            "Requirement already satisfied: music21==9.1.0 in /usr/local/lib/python3.10/dist-packages (from -r requirements.txt (line 264)) (9.1.0)\n",
            "Requirement already satisfied: namex==0.0.8 in /usr/local/lib/python3.10/dist-packages (from -r requirements.txt (line 265)) (0.0.8)\n",
            "Requirement already satisfied: natsort==8.4.0 in /usr/local/lib/python3.10/dist-packages (from -r requirements.txt (line 266)) (8.4.0)\n",
            "Requirement already satisfied: nbclassic==1.1.0 in /usr/local/lib/python3.10/dist-packages (from -r requirements.txt (line 267)) (1.1.0)\n",
            "Requirement already satisfied: nbclient==0.10.0 in /usr/local/lib/python3.10/dist-packages (from -r requirements.txt (line 268)) (0.10.0)\n",
            "Requirement already satisfied: nbconvert==6.5.4 in /usr/local/lib/python3.10/dist-packages (from -r requirements.txt (line 269)) (6.5.4)\n",
            "Requirement already satisfied: nbformat==5.10.4 in /usr/local/lib/python3.10/dist-packages (from -r requirements.txt (line 270)) (5.10.4)\n",
            "Requirement already satisfied: nest-asyncio==1.6.0 in /usr/local/lib/python3.10/dist-packages (from -r requirements.txt (line 271)) (1.6.0)\n",
            "Requirement already satisfied: networkx==3.4.2 in /usr/local/lib/python3.10/dist-packages (from -r requirements.txt (line 272)) (3.4.2)\n",
            "Requirement already satisfied: nibabel==5.2.1 in /usr/local/lib/python3.10/dist-packages (from -r requirements.txt (line 273)) (5.2.1)\n",
            "Requirement already satisfied: nltk==3.8.1 in /usr/local/lib/python3.10/dist-packages (from -r requirements.txt (line 274)) (3.8.1)\n",
            "Requirement already satisfied: notebook==6.5.5 in /usr/local/lib/python3.10/dist-packages (from -r requirements.txt (line 275)) (6.5.5)\n",
            "Requirement already satisfied: notebook_shim==0.2.4 in /usr/local/lib/python3.10/dist-packages (from -r requirements.txt (line 276)) (0.2.4)\n",
            "Requirement already satisfied: numba==0.60.0 in /usr/local/lib/python3.10/dist-packages (from -r requirements.txt (line 277)) (0.60.0)\n",
            "Requirement already satisfied: numexpr==2.10.1 in /usr/local/lib/python3.10/dist-packages (from -r requirements.txt (line 278)) (2.10.1)\n",
            "Requirement already satisfied: numpy==1.26.4 in /usr/local/lib/python3.10/dist-packages (from -r requirements.txt (line 279)) (1.26.4)\n",
            "Requirement already satisfied: nvidia-cublas-cu12==12.1.3.1 in /usr/local/lib/python3.10/dist-packages (from -r requirements.txt (line 280)) (12.1.3.1)\n",
            "Requirement already satisfied: nvidia-cuda-cupti-cu12==12.1.105 in /usr/local/lib/python3.10/dist-packages (from -r requirements.txt (line 281)) (12.1.105)\n",
            "Requirement already satisfied: nvidia-cuda-nvcc-cu12==12.6.77 in /usr/local/lib/python3.10/dist-packages (from -r requirements.txt (line 282)) (12.6.77)\n",
            "Requirement already satisfied: nvidia-cuda-nvrtc-cu12==12.1.105 in /usr/local/lib/python3.10/dist-packages (from -r requirements.txt (line 283)) (12.1.105)\n",
            "Requirement already satisfied: nvidia-cuda-runtime-cu12==12.1.105 in /usr/local/lib/python3.10/dist-packages (from -r requirements.txt (line 284)) (12.1.105)\n",
            "Requirement already satisfied: nvidia-cudnn-cu12==9.1.0.70 in /usr/local/lib/python3.10/dist-packages (from -r requirements.txt (line 285)) (9.1.0.70)\n",
            "Requirement already satisfied: nvidia-cufft-cu12==11.0.2.54 in /usr/local/lib/python3.10/dist-packages (from -r requirements.txt (line 286)) (11.0.2.54)\n",
            "Requirement already satisfied: nvidia-curand-cu12==10.3.2.106 in /usr/local/lib/python3.10/dist-packages (from -r requirements.txt (line 287)) (10.3.2.106)\n",
            "Requirement already satisfied: nvidia-cusolver-cu12==11.4.5.107 in /usr/local/lib/python3.10/dist-packages (from -r requirements.txt (line 288)) (11.4.5.107)\n",
            "Requirement already satisfied: nvidia-cusparse-cu12==12.1.0.106 in /usr/local/lib/python3.10/dist-packages (from -r requirements.txt (line 289)) (12.1.0.106)\n",
            "Requirement already satisfied: nvidia-nccl-cu12==2.20.5 in /usr/local/lib/python3.10/dist-packages (from -r requirements.txt (line 290)) (2.20.5)\n",
            "Requirement already satisfied: nvidia-nvjitlink-cu12==12.4.127 in /usr/local/lib/python3.10/dist-packages (from -r requirements.txt (line 291)) (12.4.127)\n",
            "Requirement already satisfied: nvidia-nvtx-cu12==12.1.105 in /usr/local/lib/python3.10/dist-packages (from -r requirements.txt (line 292)) (12.1.105)\n",
            "Requirement already satisfied: nvtx==0.2.10 in /usr/local/lib/python3.10/dist-packages (from -r requirements.txt (line 293)) (0.2.10)\n",
            "Requirement already satisfied: oauth2client==4.1.3 in /usr/local/lib/python3.10/dist-packages (from -r requirements.txt (line 295)) (4.1.3)\n",
            "Requirement already satisfied: oauthlib==3.2.2 in /usr/local/lib/python3.10/dist-packages (from -r requirements.txt (line 296)) (3.2.2)\n",
            "Requirement already satisfied: opencv-contrib-python==4.10.0.84 in /usr/local/lib/python3.10/dist-packages (from -r requirements.txt (line 297)) (4.10.0.84)\n",
            "Requirement already satisfied: opencv-python==4.10.0.84 in /usr/local/lib/python3.10/dist-packages (from -r requirements.txt (line 298)) (4.10.0.84)\n",
            "Requirement already satisfied: opencv-python-headless==4.10.0.84 in /usr/local/lib/python3.10/dist-packages (from -r requirements.txt (line 299)) (4.10.0.84)\n",
            "Requirement already satisfied: openpyxl==3.1.5 in /usr/local/lib/python3.10/dist-packages (from -r requirements.txt (line 300)) (3.1.5)\n",
            "Requirement already satisfied: opentelemetry-api==1.16.0 in /usr/local/lib/python3.10/dist-packages (from -r requirements.txt (line 301)) (1.16.0)\n",
            "Requirement already satisfied: opentelemetry-sdk==1.16.0 in /usr/local/lib/python3.10/dist-packages (from -r requirements.txt (line 302)) (1.16.0)\n",
            "Requirement already satisfied: opentelemetry-semantic-conventions==0.37b0 in /usr/local/lib/python3.10/dist-packages (from -r requirements.txt (line 303)) (0.37b0)\n",
            "Requirement already satisfied: opt_einsum==3.4.0 in /usr/local/lib/python3.10/dist-packages (from -r requirements.txt (line 304)) (3.4.0)\n",
            "Requirement already satisfied: optax==0.2.3 in /usr/local/lib/python3.10/dist-packages (from -r requirements.txt (line 305)) (0.2.3)\n",
            "Requirement already satisfied: optree==0.13.0 in /usr/local/lib/python3.10/dist-packages (from -r requirements.txt (line 306)) (0.13.0)\n",
            "Requirement already satisfied: orbax-checkpoint==0.6.4 in /usr/local/lib/python3.10/dist-packages (from -r requirements.txt (line 307)) (0.6.4)\n",
            "Requirement already satisfied: osqp==0.6.7.post3 in /usr/local/lib/python3.10/dist-packages (from -r requirements.txt (line 308)) (0.6.7.post3)\n",
            "Requirement already satisfied: packaging==24.1 in /usr/local/lib/python3.10/dist-packages (from -r requirements.txt (line 309)) (24.1)\n",
            "Requirement already satisfied: pandas==2.2.2 in /usr/local/lib/python3.10/dist-packages (from -r requirements.txt (line 310)) (2.2.2)\n",
            "Requirement already satisfied: pandas-datareader==0.10.0 in /usr/local/lib/python3.10/dist-packages (from -r requirements.txt (line 311)) (0.10.0)\n",
            "Requirement already satisfied: pandas-gbq==0.23.2 in /usr/local/lib/python3.10/dist-packages (from -r requirements.txt (line 312)) (0.23.2)\n",
            "Requirement already satisfied: pandas-stubs==2.2.2.240909 in /usr/local/lib/python3.10/dist-packages (from -r requirements.txt (line 313)) (2.2.2.240909)\n",
            "Requirement already satisfied: pandocfilters==1.5.1 in /usr/local/lib/python3.10/dist-packages (from -r requirements.txt (line 314)) (1.5.1)\n",
            "Requirement already satisfied: panel==1.4.5 in /usr/local/lib/python3.10/dist-packages (from -r requirements.txt (line 315)) (1.4.5)\n",
            "Requirement already satisfied: param==2.1.1 in /usr/local/lib/python3.10/dist-packages (from -r requirements.txt (line 316)) (2.1.1)\n",
            "Requirement already satisfied: parso==0.8.4 in /usr/local/lib/python3.10/dist-packages (from -r requirements.txt (line 317)) (0.8.4)\n",
            "Requirement already satisfied: parsy==2.1 in /usr/local/lib/python3.10/dist-packages (from -r requirements.txt (line 318)) (2.1)\n",
            "Requirement already satisfied: partd==1.4.2 in /usr/local/lib/python3.10/dist-packages (from -r requirements.txt (line 319)) (1.4.2)\n",
            "Requirement already satisfied: pathlib==1.0.1 in /usr/local/lib/python3.10/dist-packages (from -r requirements.txt (line 320)) (1.0.1)\n",
            "Requirement already satisfied: patsy==0.5.6 in /usr/local/lib/python3.10/dist-packages (from -r requirements.txt (line 321)) (0.5.6)\n",
            "Requirement already satisfied: peewee==3.17.7 in /usr/local/lib/python3.10/dist-packages (from -r requirements.txt (line 322)) (3.17.7)\n",
            "Requirement already satisfied: pexpect==4.9.0 in /usr/local/lib/python3.10/dist-packages (from -r requirements.txt (line 323)) (4.9.0)\n",
            "Requirement already satisfied: pickleshare==0.7.5 in /usr/local/lib/python3.10/dist-packages (from -r requirements.txt (line 324)) (0.7.5)\n",
            "Requirement already satisfied: pillow==10.4.0 in /usr/local/lib/python3.10/dist-packages (from -r requirements.txt (line 325)) (10.4.0)\n",
            "Requirement already satisfied: platformdirs==4.3.6 in /usr/local/lib/python3.10/dist-packages (from -r requirements.txt (line 326)) (4.3.6)\n",
            "Requirement already satisfied: plotly==5.24.1 in /usr/local/lib/python3.10/dist-packages (from -r requirements.txt (line 327)) (5.24.1)\n",
            "Requirement already satisfied: plotnine==0.13.6 in /usr/local/lib/python3.10/dist-packages (from -r requirements.txt (line 328)) (0.13.6)\n",
            "Requirement already satisfied: pluggy==1.5.0 in /usr/local/lib/python3.10/dist-packages (from -r requirements.txt (line 329)) (1.5.0)\n",
            "Requirement already satisfied: polars==1.7.1 in /usr/local/lib/python3.10/dist-packages (from -r requirements.txt (line 330)) (1.7.1)\n",
            "Requirement already satisfied: pooch==1.8.2 in /usr/local/lib/python3.10/dist-packages (from -r requirements.txt (line 331)) (1.8.2)\n",
            "Requirement already satisfied: portpicker==1.5.2 in /usr/local/lib/python3.10/dist-packages (from -r requirements.txt (line 332)) (1.5.2)\n",
            "Requirement already satisfied: preshed==3.0.9 in /usr/local/lib/python3.10/dist-packages (from -r requirements.txt (line 333)) (3.0.9)\n",
            "Requirement already satisfied: prettytable==3.11.0 in /usr/local/lib/python3.10/dist-packages (from -r requirements.txt (line 334)) (3.11.0)\n",
            "Requirement already satisfied: proglog==0.1.10 in /usr/local/lib/python3.10/dist-packages (from -r requirements.txt (line 335)) (0.1.10)\n",
            "Requirement already satisfied: progressbar2==4.5.0 in /usr/local/lib/python3.10/dist-packages (from -r requirements.txt (line 336)) (4.5.0)\n",
            "Requirement already satisfied: prometheus_client==0.21.0 in /usr/local/lib/python3.10/dist-packages (from -r requirements.txt (line 337)) (0.21.0)\n",
            "Requirement already satisfied: promise==2.3 in /usr/local/lib/python3.10/dist-packages (from -r requirements.txt (line 338)) (2.3)\n",
            "Requirement already satisfied: prompt_toolkit==3.0.48 in /usr/local/lib/python3.10/dist-packages (from -r requirements.txt (line 339)) (3.0.48)\n",
            "Requirement already satisfied: propcache==0.2.0 in /usr/local/lib/python3.10/dist-packages (from -r requirements.txt (line 340)) (0.2.0)\n",
            "Requirement already satisfied: prophet==1.1.6 in /usr/local/lib/python3.10/dist-packages (from -r requirements.txt (line 341)) (1.1.6)\n",
            "Requirement already satisfied: proto-plus==1.24.0 in /usr/local/lib/python3.10/dist-packages (from -r requirements.txt (line 342)) (1.24.0)\n",
            "Requirement already satisfied: protobuf==3.20.3 in /usr/local/lib/python3.10/dist-packages (from -r requirements.txt (line 343)) (3.20.3)\n",
            "Requirement already satisfied: psutil==5.9.5 in /usr/local/lib/python3.10/dist-packages (from -r requirements.txt (line 344)) (5.9.5)\n",
            "Requirement already satisfied: psycopg2==2.9.10 in /usr/local/lib/python3.10/dist-packages (from -r requirements.txt (line 345)) (2.9.10)\n",
            "Requirement already satisfied: ptyprocess==0.7.0 in /usr/local/lib/python3.10/dist-packages (from -r requirements.txt (line 346)) (0.7.0)\n",
            "Requirement already satisfied: py-cpuinfo==9.0.0 in /usr/local/lib/python3.10/dist-packages (from -r requirements.txt (line 347)) (9.0.0)\n",
            "Requirement already satisfied: py4j==0.10.9.7 in /usr/local/lib/python3.10/dist-packages (from -r requirements.txt (line 348)) (0.10.9.7)\n",
            "Requirement already satisfied: pyarrow==16.1.0 in /usr/local/lib/python3.10/dist-packages (from -r requirements.txt (line 349)) (16.1.0)\n",
            "Requirement already satisfied: pyarrow-hotfix==0.6 in /usr/local/lib/python3.10/dist-packages (from -r requirements.txt (line 350)) (0.6)\n",
            "Requirement already satisfied: pyasn1==0.6.1 in /usr/local/lib/python3.10/dist-packages (from -r requirements.txt (line 351)) (0.6.1)\n",
            "Requirement already satisfied: pyasn1_modules==0.4.1 in /usr/local/lib/python3.10/dist-packages (from -r requirements.txt (line 352)) (0.4.1)\n",
            "Requirement already satisfied: pycocotools==2.0.8 in /usr/local/lib/python3.10/dist-packages (from -r requirements.txt (line 353)) (2.0.8)\n",
            "Requirement already satisfied: pycparser==2.22 in /usr/local/lib/python3.10/dist-packages (from -r requirements.txt (line 354)) (2.22)\n",
            "Requirement already satisfied: pydantic==2.9.2 in /usr/local/lib/python3.10/dist-packages (from -r requirements.txt (line 355)) (2.9.2)\n",
            "Requirement already satisfied: pydantic_core==2.23.4 in /usr/local/lib/python3.10/dist-packages (from -r requirements.txt (line 356)) (2.23.4)\n",
            "Requirement already satisfied: pydata-google-auth==1.8.2 in /usr/local/lib/python3.10/dist-packages (from -r requirements.txt (line 357)) (1.8.2)\n",
            "Requirement already satisfied: pydot==3.0.2 in /usr/local/lib/python3.10/dist-packages (from -r requirements.txt (line 358)) (3.0.2)\n",
            "Requirement already satisfied: pydotplus==2.0.2 in /usr/local/lib/python3.10/dist-packages (from -r requirements.txt (line 359)) (2.0.2)\n",
            "Requirement already satisfied: PyDrive==1.3.1 in /usr/local/lib/python3.10/dist-packages (from -r requirements.txt (line 360)) (1.3.1)\n",
            "Requirement already satisfied: PyDrive2==1.20.0 in /usr/local/lib/python3.10/dist-packages (from -r requirements.txt (line 361)) (1.20.0)\n",
            "Requirement already satisfied: pyerfa==2.0.1.4 in /usr/local/lib/python3.10/dist-packages (from -r requirements.txt (line 362)) (2.0.1.4)\n",
            "Requirement already satisfied: pygame==2.6.1 in /usr/local/lib/python3.10/dist-packages (from -r requirements.txt (line 364)) (2.6.1)\n",
            "Requirement already satisfied: pygit2==1.15.1 in /usr/local/lib/python3.10/dist-packages (from -r requirements.txt (line 365)) (1.15.1)\n",
            "Requirement already satisfied: Pygments==2.18.0 in /usr/local/lib/python3.10/dist-packages (from -r requirements.txt (line 366)) (2.18.0)\n",
            "Requirement already satisfied: PyGObject==3.42.1 in /usr/lib/python3/dist-packages (from -r requirements.txt (line 367)) (3.42.1)\n",
            "Requirement already satisfied: PyJWT==2.9.0 in /usr/local/lib/python3.10/dist-packages (from -r requirements.txt (line 368)) (2.9.0)\n",
            "Requirement already satisfied: pylibcugraph-cu12==24.10.0 in /usr/local/lib/python3.10/dist-packages (from -r requirements.txt (line 370)) (24.10.0)\n",
            "Requirement already satisfied: pylibraft-cu12==24.10.0 in /usr/local/lib/python3.10/dist-packages (from -r requirements.txt (line 371)) (24.10.0)\n",
            "Requirement already satisfied: pymc==5.16.2 in /usr/local/lib/python3.10/dist-packages (from -r requirements.txt (line 372)) (5.16.2)\n",
            "Requirement already satisfied: pymystem3==0.2.0 in /usr/local/lib/python3.10/dist-packages (from -r requirements.txt (line 373)) (0.2.0)\n",
            "Requirement already satisfied: pynvjitlink-cu12==0.3.0 in /usr/local/lib/python3.10/dist-packages (from -r requirements.txt (line 374)) (0.3.0)\n",
            "Requirement already satisfied: pyogrio==0.10.0 in /usr/local/lib/python3.10/dist-packages (from -r requirements.txt (line 375)) (0.10.0)\n",
            "Requirement already satisfied: PyOpenGL==3.1.7 in /usr/local/lib/python3.10/dist-packages (from -r requirements.txt (line 376)) (3.1.7)\n",
            "Requirement already satisfied: pyOpenSSL==24.2.1 in /usr/local/lib/python3.10/dist-packages (from -r requirements.txt (line 377)) (24.2.1)\n",
            "Requirement already satisfied: pyparsing==3.2.0 in /usr/local/lib/python3.10/dist-packages (from -r requirements.txt (line 378)) (3.2.0)\n",
            "Requirement already satisfied: pyperclip==1.9.0 in /usr/local/lib/python3.10/dist-packages (from -r requirements.txt (line 379)) (1.9.0)\n",
            "Requirement already satisfied: pyproj==3.7.0 in /usr/local/lib/python3.10/dist-packages (from -r requirements.txt (line 380)) (3.7.0)\n",
            "Requirement already satisfied: pyshp==2.3.1 in /usr/local/lib/python3.10/dist-packages (from -r requirements.txt (line 381)) (2.3.1)\n",
            "Requirement already satisfied: PySocks==1.7.1 in /usr/local/lib/python3.10/dist-packages (from -r requirements.txt (line 382)) (1.7.1)\n",
            "Requirement already satisfied: pyspark==3.5.3 in /usr/local/lib/python3.10/dist-packages (from -r requirements.txt (line 383)) (3.5.3)\n",
            "Requirement already satisfied: pytensor==2.25.5 in /usr/local/lib/python3.10/dist-packages (from -r requirements.txt (line 384)) (2.25.5)\n",
            "Requirement already satisfied: pytest==7.4.4 in /usr/local/lib/python3.10/dist-packages (from -r requirements.txt (line 385)) (7.4.4)\n",
            "Requirement already satisfied: python-apt==0.0.0 in /usr/local/lib/python3.10/dist-packages (from -r requirements.txt (line 386)) (0.0.0)\n",
            "Requirement already satisfied: python-box==7.2.0 in /usr/local/lib/python3.10/dist-packages (from -r requirements.txt (line 387)) (7.2.0)\n",
            "Requirement already satisfied: python-dateutil==2.8.2 in /usr/local/lib/python3.10/dist-packages (from -r requirements.txt (line 388)) (2.8.2)\n",
            "Requirement already satisfied: python-louvain==0.16 in /usr/local/lib/python3.10/dist-packages (from -r requirements.txt (line 389)) (0.16)\n",
            "Requirement already satisfied: python-slugify==8.0.4 in /usr/local/lib/python3.10/dist-packages (from -r requirements.txt (line 390)) (8.0.4)\n",
            "Requirement already satisfied: python-utils==3.9.0 in /usr/local/lib/python3.10/dist-packages (from -r requirements.txt (line 391)) (3.9.0)\n",
            "Requirement already satisfied: pytz==2024.2 in /usr/local/lib/python3.10/dist-packages (from -r requirements.txt (line 392)) (2024.2)\n",
            "Requirement already satisfied: pyviz_comms==3.0.3 in /usr/local/lib/python3.10/dist-packages (from -r requirements.txt (line 393)) (3.0.3)\n",
            "Requirement already satisfied: PyYAML==6.0.2 in /usr/local/lib/python3.10/dist-packages (from -r requirements.txt (line 394)) (6.0.2)\n",
            "Requirement already satisfied: pyzmq==24.0.1 in /usr/local/lib/python3.10/dist-packages (from -r requirements.txt (line 395)) (24.0.1)\n",
            "Requirement already satisfied: qdldl==0.1.7.post4 in /usr/local/lib/python3.10/dist-packages (from -r requirements.txt (line 396)) (0.1.7.post4)\n",
            "Requirement already satisfied: ratelim==0.1.6 in /usr/local/lib/python3.10/dist-packages (from -r requirements.txt (line 397)) (0.1.6)\n",
            "Requirement already satisfied: referencing==0.35.1 in /usr/local/lib/python3.10/dist-packages (from -r requirements.txt (line 398)) (0.35.1)\n",
            "Requirement already satisfied: regex==2024.9.11 in /usr/local/lib/python3.10/dist-packages (from -r requirements.txt (line 399)) (2024.9.11)\n",
            "Requirement already satisfied: requests==2.32.3 in /usr/local/lib/python3.10/dist-packages (from -r requirements.txt (line 400)) (2.32.3)\n",
            "Requirement already satisfied: requests-oauthlib==1.3.1 in /usr/local/lib/python3.10/dist-packages (from -r requirements.txt (line 401)) (1.3.1)\n",
            "Requirement already satisfied: requirements-parser==0.9.0 in /usr/local/lib/python3.10/dist-packages (from -r requirements.txt (line 402)) (0.9.0)\n",
            "Requirement already satisfied: rich==13.9.3 in /usr/local/lib/python3.10/dist-packages (from -r requirements.txt (line 403)) (13.9.3)\n",
            "Requirement already satisfied: rmm-cu12==24.10.0 in /usr/local/lib/python3.10/dist-packages (from -r requirements.txt (line 404)) (24.10.0)\n",
            "Requirement already satisfied: rpds-py==0.20.0 in /usr/local/lib/python3.10/dist-packages (from -r requirements.txt (line 405)) (0.20.0)\n",
            "Requirement already satisfied: rpy2==3.4.2 in /usr/local/lib/python3.10/dist-packages (from -r requirements.txt (line 406)) (3.4.2)\n",
            "Requirement already satisfied: rsa==4.9 in /usr/local/lib/python3.10/dist-packages (from -r requirements.txt (line 407)) (4.9)\n",
            "Requirement already satisfied: safetensors==0.4.5 in /usr/local/lib/python3.10/dist-packages (from -r requirements.txt (line 408)) (0.4.5)\n",
            "Requirement already satisfied: scikit-image==0.24.0 in /usr/local/lib/python3.10/dist-packages (from -r requirements.txt (line 409)) (0.24.0)\n",
            "Requirement already satisfied: scikit-learn==1.5.2 in /usr/local/lib/python3.10/dist-packages (from -r requirements.txt (line 410)) (1.5.2)\n",
            "Requirement already satisfied: scikit-plot==0.3.7 in /usr/local/lib/python3.10/dist-packages (from -r requirements.txt (line 411)) (0.3.7)\n",
            "Requirement already satisfied: scipy==1.13.1 in /usr/local/lib/python3.10/dist-packages (from -r requirements.txt (line 412)) (1.13.1)\n",
            "Requirement already satisfied: scooby==0.10.0 in /usr/local/lib/python3.10/dist-packages (from -r requirements.txt (line 413)) (0.10.0)\n",
            "Requirement already satisfied: scs==3.2.7 in /usr/local/lib/python3.10/dist-packages (from -r requirements.txt (line 414)) (3.2.7)\n",
            "Requirement already satisfied: seaborn==0.13.2 in /usr/local/lib/python3.10/dist-packages (from -r requirements.txt (line 415)) (0.13.2)\n",
            "Requirement already satisfied: SecretStorage==3.3.1 in /usr/lib/python3/dist-packages (from -r requirements.txt (line 416)) (3.3.1)\n",
            "Requirement already satisfied: Send2Trash==1.8.3 in /usr/local/lib/python3.10/dist-packages (from -r requirements.txt (line 417)) (1.8.3)\n",
            "Requirement already satisfied: sentencepiece==0.2.0 in /usr/local/lib/python3.10/dist-packages (from -r requirements.txt (line 418)) (0.2.0)\n",
            "Requirement already satisfied: sentry-sdk==2.17.0 in /usr/local/lib/python3.10/dist-packages (from -r requirements.txt (line 419)) (2.17.0)\n",
            "Requirement already satisfied: setproctitle==1.3.3 in /usr/local/lib/python3.10/dist-packages (from -r requirements.txt (line 420)) (1.3.3)\n",
            "Requirement already satisfied: shap==0.46.0 in /usr/local/lib/python3.10/dist-packages (from -r requirements.txt (line 421)) (0.46.0)\n",
            "Requirement already satisfied: shapely==2.0.6 in /usr/local/lib/python3.10/dist-packages (from -r requirements.txt (line 422)) (2.0.6)\n",
            "Requirement already satisfied: shellingham==1.5.4 in /usr/local/lib/python3.10/dist-packages (from -r requirements.txt (line 423)) (1.5.4)\n",
            "Requirement already satisfied: simple-parsing==0.1.6 in /usr/local/lib/python3.10/dist-packages (from -r requirements.txt (line 424)) (0.1.6)\n",
            "Requirement already satisfied: six==1.16.0 in /usr/local/lib/python3.10/dist-packages (from -r requirements.txt (line 425)) (1.16.0)\n",
            "Requirement already satisfied: sklearn-pandas==2.2.0 in /usr/local/lib/python3.10/dist-packages (from -r requirements.txt (line 426)) (2.2.0)\n",
            "Requirement already satisfied: slicer==0.0.8 in /usr/local/lib/python3.10/dist-packages (from -r requirements.txt (line 427)) (0.0.8)\n",
            "Requirement already satisfied: smart-open==7.0.5 in /usr/local/lib/python3.10/dist-packages (from -r requirements.txt (line 428)) (7.0.5)\n",
            "Requirement already satisfied: smmap==5.0.1 in /usr/local/lib/python3.10/dist-packages (from -r requirements.txt (line 429)) (5.0.1)\n",
            "Requirement already satisfied: sniffio==1.3.1 in /usr/local/lib/python3.10/dist-packages (from -r requirements.txt (line 430)) (1.3.1)\n",
            "Requirement already satisfied: snowballstemmer==2.2.0 in /usr/local/lib/python3.10/dist-packages (from -r requirements.txt (line 431)) (2.2.0)\n",
            "Requirement already satisfied: soundfile==0.12.1 in /usr/local/lib/python3.10/dist-packages (from -r requirements.txt (line 432)) (0.12.1)\n",
            "Requirement already satisfied: soupsieve==2.6 in /usr/local/lib/python3.10/dist-packages (from -r requirements.txt (line 433)) (2.6)\n",
            "Requirement already satisfied: soxr==0.5.0.post1 in /usr/local/lib/python3.10/dist-packages (from -r requirements.txt (line 434)) (0.5.0.post1)\n",
            "Requirement already satisfied: spacy==3.7.5 in /usr/local/lib/python3.10/dist-packages (from -r requirements.txt (line 435)) (3.7.5)\n",
            "Requirement already satisfied: spacy-legacy==3.0.12 in /usr/local/lib/python3.10/dist-packages (from -r requirements.txt (line 436)) (3.0.12)\n",
            "Requirement already satisfied: spacy-loggers==1.0.5 in /usr/local/lib/python3.10/dist-packages (from -r requirements.txt (line 437)) (1.0.5)\n",
            "Requirement already satisfied: Sphinx==5.0.2 in /usr/local/lib/python3.10/dist-packages (from -r requirements.txt (line 438)) (5.0.2)\n",
            "Requirement already satisfied: sphinxcontrib-applehelp==2.0.0 in /usr/local/lib/python3.10/dist-packages (from -r requirements.txt (line 439)) (2.0.0)\n",
            "Requirement already satisfied: sphinxcontrib-devhelp==2.0.0 in /usr/local/lib/python3.10/dist-packages (from -r requirements.txt (line 440)) (2.0.0)\n",
            "Requirement already satisfied: sphinxcontrib-htmlhelp==2.1.0 in /usr/local/lib/python3.10/dist-packages (from -r requirements.txt (line 441)) (2.1.0)\n",
            "Requirement already satisfied: sphinxcontrib-jsmath==1.0.1 in /usr/local/lib/python3.10/dist-packages (from -r requirements.txt (line 442)) (1.0.1)\n",
            "Requirement already satisfied: sphinxcontrib-qthelp==2.0.0 in /usr/local/lib/python3.10/dist-packages (from -r requirements.txt (line 443)) (2.0.0)\n",
            "Requirement already satisfied: sphinxcontrib-serializinghtml==2.0.0 in /usr/local/lib/python3.10/dist-packages (from -r requirements.txt (line 444)) (2.0.0)\n",
            "Requirement already satisfied: SQLAlchemy==2.0.36 in /usr/local/lib/python3.10/dist-packages (from -r requirements.txt (line 445)) (2.0.36)\n",
            "Requirement already satisfied: sqlglot==25.1.0 in /usr/local/lib/python3.10/dist-packages (from -r requirements.txt (line 446)) (25.1.0)\n",
            "Requirement already satisfied: sqlparse==0.5.1 in /usr/local/lib/python3.10/dist-packages (from -r requirements.txt (line 447)) (0.5.1)\n",
            "Requirement already satisfied: srsly==2.4.8 in /usr/local/lib/python3.10/dist-packages (from -r requirements.txt (line 448)) (2.4.8)\n",
            "Requirement already satisfied: stanio==0.5.1 in /usr/local/lib/python3.10/dist-packages (from -r requirements.txt (line 449)) (0.5.1)\n",
            "Requirement already satisfied: statsmodels==0.14.4 in /usr/local/lib/python3.10/dist-packages (from -r requirements.txt (line 450)) (0.14.4)\n",
            "Requirement already satisfied: StrEnum==0.4.15 in /usr/local/lib/python3.10/dist-packages (from -r requirements.txt (line 451)) (0.4.15)\n",
            "Requirement already satisfied: sympy==1.13.1 in /usr/local/lib/python3.10/dist-packages (from -r requirements.txt (line 452)) (1.13.1)\n",
            "Requirement already satisfied: tables==3.8.0 in /usr/local/lib/python3.10/dist-packages (from -r requirements.txt (line 453)) (3.8.0)\n",
            "Requirement already satisfied: tabulate==0.9.0 in /usr/local/lib/python3.10/dist-packages (from -r requirements.txt (line 454)) (0.9.0)\n",
            "Requirement already satisfied: tbb==2021.13.1 in /usr/local/lib/python3.10/dist-packages (from -r requirements.txt (line 455)) (2021.13.1)\n",
            "Requirement already satisfied: tenacity==9.0.0 in /usr/local/lib/python3.10/dist-packages (from -r requirements.txt (line 456)) (9.0.0)\n",
            "Requirement already satisfied: tensorboard==2.17.0 in /usr/local/lib/python3.10/dist-packages (from -r requirements.txt (line 457)) (2.17.0)\n",
            "Requirement already satisfied: tensorboard-data-server==0.7.2 in /usr/local/lib/python3.10/dist-packages (from -r requirements.txt (line 458)) (0.7.2)\n",
            "Requirement already satisfied: tensorflow==2.17.0 in /usr/local/lib/python3.10/dist-packages (from -r requirements.txt (line 459)) (2.17.0)\n",
            "Requirement already satisfied: tensorflow-datasets==4.9.6 in /usr/local/lib/python3.10/dist-packages (from -r requirements.txt (line 460)) (4.9.6)\n",
            "Requirement already satisfied: tensorflow-hub==0.16.1 in /usr/local/lib/python3.10/dist-packages (from -r requirements.txt (line 461)) (0.16.1)\n",
            "Requirement already satisfied: tensorflow-io-gcs-filesystem==0.37.1 in /usr/local/lib/python3.10/dist-packages (from -r requirements.txt (line 462)) (0.37.1)\n",
            "Requirement already satisfied: tensorflow-metadata==1.16.1 in /usr/local/lib/python3.10/dist-packages (from -r requirements.txt (line 463)) (1.16.1)\n",
            "Requirement already satisfied: tensorflow-probability==0.24.0 in /usr/local/lib/python3.10/dist-packages (from -r requirements.txt (line 464)) (0.24.0)\n",
            "Requirement already satisfied: tensorstore==0.1.66 in /usr/local/lib/python3.10/dist-packages (from -r requirements.txt (line 465)) (0.1.66)\n",
            "Requirement already satisfied: termcolor==2.5.0 in /usr/local/lib/python3.10/dist-packages (from -r requirements.txt (line 466)) (2.5.0)\n",
            "Requirement already satisfied: terminado==0.18.1 in /usr/local/lib/python3.10/dist-packages (from -r requirements.txt (line 467)) (0.18.1)\n",
            "Requirement already satisfied: text-unidecode==1.3 in /usr/local/lib/python3.10/dist-packages (from -r requirements.txt (line 468)) (1.3)\n",
            "Requirement already satisfied: textblob==0.17.1 in /usr/local/lib/python3.10/dist-packages (from -r requirements.txt (line 469)) (0.17.1)\n",
            "Requirement already satisfied: tf-slim==1.1.0 in /usr/local/lib/python3.10/dist-packages (from -r requirements.txt (line 470)) (1.1.0)\n",
            "Requirement already satisfied: tf_keras==2.17.0 in /usr/local/lib/python3.10/dist-packages (from -r requirements.txt (line 471)) (2.17.0)\n",
            "Requirement already satisfied: thinc==8.2.5 in /usr/local/lib/python3.10/dist-packages (from -r requirements.txt (line 472)) (8.2.5)\n",
            "Requirement already satisfied: threadpoolctl==3.5.0 in /usr/local/lib/python3.10/dist-packages (from -r requirements.txt (line 473)) (3.5.0)\n",
            "Requirement already satisfied: tifffile==2024.9.20 in /usr/local/lib/python3.10/dist-packages (from -r requirements.txt (line 474)) (2024.9.20)\n",
            "Requirement already satisfied: tinycss2==1.3.0 in /usr/local/lib/python3.10/dist-packages (from -r requirements.txt (line 475)) (1.3.0)\n",
            "Requirement already satisfied: tokenizers==0.19.1 in /usr/local/lib/python3.10/dist-packages (from -r requirements.txt (line 476)) (0.19.1)\n",
            "Requirement already satisfied: toml==0.10.2 in /usr/local/lib/python3.10/dist-packages (from -r requirements.txt (line 477)) (0.10.2)\n",
            "Requirement already satisfied: tomli==2.0.2 in /usr/local/lib/python3.10/dist-packages (from -r requirements.txt (line 478)) (2.0.2)\n",
            "Requirement already satisfied: toolz==0.12.1 in /usr/local/lib/python3.10/dist-packages (from -r requirements.txt (line 479)) (0.12.1)\n",
            "Requirement already satisfied: torch==2.4.1 in /usr/local/lib/python3.10/dist-packages (from -r requirements.txt (line 480)) (2.4.1)\n",
            "Requirement already satisfied: torch_geometric==2.4.0 in /usr/local/lib/python3.10/dist-packages (from -r requirements.txt (line 482)) (2.4.0)\n",
            "Requirement already satisfied: torchaudio==2.4.1 in /usr/local/lib/python3.10/dist-packages (from -r requirements.txt (line 483)) (2.4.1)\n",
            "Requirement already satisfied: torcheval==0.0.7 in /usr/local/lib/python3.10/dist-packages (from -r requirements.txt (line 484)) (0.0.7)\n",
            "Requirement already satisfied: torchsummary==1.5.1 in /usr/local/lib/python3.10/dist-packages (from -r requirements.txt (line 488)) (1.5.1)\n",
            "Requirement already satisfied: torchvision==0.19.1 in /usr/local/lib/python3.10/dist-packages (from -r requirements.txt (line 489)) (0.19.1)\n",
            "Requirement already satisfied: tornado==6.3.3 in /usr/local/lib/python3.10/dist-packages (from -r requirements.txt (line 490)) (6.3.3)\n",
            "Requirement already satisfied: tqdm==4.66.5 in /usr/local/lib/python3.10/dist-packages (from -r requirements.txt (line 491)) (4.66.5)\n",
            "Requirement already satisfied: traitlets==5.7.1 in /usr/local/lib/python3.10/dist-packages (from -r requirements.txt (line 492)) (5.7.1)\n",
            "Requirement already satisfied: traittypes==0.2.1 in /usr/local/lib/python3.10/dist-packages (from -r requirements.txt (line 493)) (0.2.1)\n",
            "Requirement already satisfied: transformers==4.44.2 in /usr/local/lib/python3.10/dist-packages (from -r requirements.txt (line 494)) (4.44.2)\n",
            "Requirement already satisfied: triton==3.0.0 in /usr/local/lib/python3.10/dist-packages (from -r requirements.txt (line 495)) (3.0.0)\n",
            "Requirement already satisfied: tweepy==4.14.0 in /usr/local/lib/python3.10/dist-packages (from -r requirements.txt (line 496)) (4.14.0)\n",
            "Requirement already satisfied: typeguard==4.3.0 in /usr/local/lib/python3.10/dist-packages (from -r requirements.txt (line 497)) (4.3.0)\n",
            "Requirement already satisfied: typer==0.12.5 in /usr/local/lib/python3.10/dist-packages (from -r requirements.txt (line 498)) (0.12.5)\n",
            "Requirement already satisfied: types-pytz==2024.2.0.20241003 in /usr/local/lib/python3.10/dist-packages (from -r requirements.txt (line 499)) (2024.2.0.20241003)\n",
            "Requirement already satisfied: types-setuptools==75.2.0.20241019 in /usr/local/lib/python3.10/dist-packages (from -r requirements.txt (line 500)) (75.2.0.20241019)\n",
            "Requirement already satisfied: typing_extensions==4.12.2 in /usr/local/lib/python3.10/dist-packages (from -r requirements.txt (line 501)) (4.12.2)\n",
            "Requirement already satisfied: tzdata==2024.2 in /usr/local/lib/python3.10/dist-packages (from -r requirements.txt (line 502)) (2024.2)\n",
            "Requirement already satisfied: tzlocal==5.2 in /usr/local/lib/python3.10/dist-packages (from -r requirements.txt (line 503)) (5.2)\n",
            "Requirement already satisfied: uc-micro-py==1.0.3 in /usr/local/lib/python3.10/dist-packages (from -r requirements.txt (line 504)) (1.0.3)\n",
            "Requirement already satisfied: uritemplate==4.1.1 in /usr/local/lib/python3.10/dist-packages (from -r requirements.txt (line 505)) (4.1.1)\n",
            "Requirement already satisfied: urllib3==2.2.3 in /usr/local/lib/python3.10/dist-packages (from -r requirements.txt (line 506)) (2.2.3)\n",
            "Requirement already satisfied: vega-datasets==0.9.0 in /usr/local/lib/python3.10/dist-packages (from -r requirements.txt (line 507)) (0.9.0)\n",
            "Requirement already satisfied: wadllib==1.3.6 in /usr/lib/python3/dist-packages (from -r requirements.txt (line 508)) (1.3.6)\n",
            "Requirement already satisfied: wandb==0.18.5 in /usr/local/lib/python3.10/dist-packages (from -r requirements.txt (line 509)) (0.18.5)\n",
            "Requirement already satisfied: wasabi==1.1.3 in /usr/local/lib/python3.10/dist-packages (from -r requirements.txt (line 510)) (1.1.3)\n",
            "Requirement already satisfied: wcwidth==0.2.13 in /usr/local/lib/python3.10/dist-packages (from -r requirements.txt (line 511)) (0.2.13)\n",
            "Requirement already satisfied: weasel==0.4.1 in /usr/local/lib/python3.10/dist-packages (from -r requirements.txt (line 512)) (0.4.1)\n",
            "Requirement already satisfied: webcolors==24.8.0 in /usr/local/lib/python3.10/dist-packages (from -r requirements.txt (line 513)) (24.8.0)\n",
            "Requirement already satisfied: webencodings==0.5.1 in /usr/local/lib/python3.10/dist-packages (from -r requirements.txt (line 514)) (0.5.1)\n",
            "Requirement already satisfied: websocket-client==1.8.0 in /usr/local/lib/python3.10/dist-packages (from -r requirements.txt (line 515)) (1.8.0)\n",
            "Requirement already satisfied: Werkzeug==3.0.4 in /usr/local/lib/python3.10/dist-packages (from -r requirements.txt (line 516)) (3.0.4)\n",
            "Requirement already satisfied: widgetsnbextension==3.6.10 in /usr/local/lib/python3.10/dist-packages (from -r requirements.txt (line 517)) (3.6.10)\n",
            "Requirement already satisfied: wordcloud==1.9.3 in /usr/local/lib/python3.10/dist-packages (from -r requirements.txt (line 518)) (1.9.3)\n",
            "Requirement already satisfied: wrapt==1.16.0 in /usr/local/lib/python3.10/dist-packages (from -r requirements.txt (line 519)) (1.16.0)\n",
            "Requirement already satisfied: xarray==2024.9.0 in /usr/local/lib/python3.10/dist-packages (from -r requirements.txt (line 520)) (2024.9.0)\n",
            "Requirement already satisfied: xarray-einstats==0.8.0 in /usr/local/lib/python3.10/dist-packages (from -r requirements.txt (line 521)) (0.8.0)\n",
            "Requirement already satisfied: xgboost==2.1.1 in /usr/local/lib/python3.10/dist-packages (from -r requirements.txt (line 522)) (2.1.1)\n",
            "Requirement already satisfied: xlrd==2.0.1 in /usr/local/lib/python3.10/dist-packages (from -r requirements.txt (line 523)) (2.0.1)\n",
            "Requirement already satisfied: xyzservices==2024.9.0 in /usr/local/lib/python3.10/dist-packages (from -r requirements.txt (line 524)) (2024.9.0)\n",
            "Requirement already satisfied: yarl==1.16.0 in /usr/local/lib/python3.10/dist-packages (from -r requirements.txt (line 525)) (1.16.0)\n",
            "Requirement already satisfied: yellowbrick==1.5 in /usr/local/lib/python3.10/dist-packages (from -r requirements.txt (line 526)) (1.5)\n",
            "Requirement already satisfied: yfinance==0.2.46 in /usr/local/lib/python3.10/dist-packages (from -r requirements.txt (line 527)) (0.2.46)\n",
            "Requirement already satisfied: zipp==3.20.2 in /usr/local/lib/python3.10/dist-packages (from -r requirements.txt (line 528)) (3.20.2)\n",
            "Requirement already satisfied: setuptools>=60.0.0 in /usr/local/lib/python3.10/dist-packages (from arviz==0.19.0->-r requirements.txt (line 15)) (75.1.0)\n",
            "Requirement already satisfied: wheel<1.0,>=0.23.0 in /usr/local/lib/python3.10/dist-packages (from astunparse==1.6.3->-r requirements.txt (line 18)) (0.45.0)\n",
            "Requirement already satisfied: jedi>=0.16 in /usr/local/lib/python3.10/dist-packages (from ipython==7.34.0->-r requirements.txt (line 195)) (0.19.2)\n",
            "Requirement already satisfied: pycairo>=1.16.0 in /usr/local/lib/python3.10/dist-packages (from PyGObject==3.42.1->-r requirements.txt (line 367)) (1.27.0)\n"
          ]
        }
      ]
    },
    {
      "cell_type": "markdown",
      "metadata": {
        "id": "Z_bTeA4IClUF"
      },
      "source": [
        "# Imports"
      ]
    },
    {
      "cell_type": "code",
      "execution_count": 3,
      "metadata": {
        "id": "pQMPL8B7EWKB"
      },
      "outputs": [],
      "source": [
        "import json\n",
        "import networkx as nx\n",
        "import torch\n",
        "import torch.nn.functional as F\n",
        "import torch_geometric\n",
        "from torch_geometric.utils.convert import from_networkx\n",
        "from torch_geometric import nn, sampler\n",
        "from torch_geometric.data import HeteroData, Data\n",
        "from torch_geometric import transforms as T\n",
        "from torch_geometric import loader\n",
        "from torcheval import metrics as M\n",
        "from torcheval.metrics import R2Score, MeanSquaredError\n",
        "import tqdm\n",
        "from sklearn.metrics import roc_auc_score, roc_curve\n",
        "import matplotlib.pyplot as plt\n",
        "import requests\n",
        "from zipfile import ZipFile\n",
        "from math import log\n",
        "from io import BytesIO\n",
        "%matplotlib inline"
      ]
    },
    {
      "cell_type": "markdown",
      "metadata": {
        "id": "xRyuNWZAFELV"
      },
      "source": [
        "# Data definition"
      ]
    },
    {
      "cell_type": "code",
      "execution_count": 4,
      "metadata": {
        "id": "k7WoWjMJFGVT"
      },
      "outputs": [],
      "source": [
        "device = 'cuda' if torch.cuda.is_available() else 'cpu'\n",
        "\n",
        "win_value = 1.0\n",
        "loss_value = -1.0\n",
        "tie_value = (win_value + loss_value)/2\n",
        "\n",
        "data_file = \"test\"\n",
        "train_rate = 0.7\n",
        "val_rate = 1.0 - train_rate"
      ]
    },
    {
      "cell_type": "markdown",
      "source": [
        "## Get JSON data from github"
      ],
      "metadata": {
        "id": "f7r0Qb87JIoB"
      }
    },
    {
      "cell_type": "code",
      "source": [
        "with requests.get(f\"https://github.com/JasaZnidar/totalwaterpolo-web-scraper/raw/master/{data_file}.zip\", ) as r:\n",
        "  ZipFile(BytesIO(r.content), \"r\").extractall()"
      ],
      "metadata": {
        "id": "yAffGkJiJLXe"
      },
      "execution_count": 5,
      "outputs": []
    },
    {
      "cell_type": "markdown",
      "source": [
        "## Extract data to json object"
      ],
      "metadata": {
        "id": "AJ1bXZuhJn65"
      }
    },
    {
      "cell_type": "code",
      "source": [
        "with open(f\"/content/{data_file}.json\") as f:\n",
        "    scraped_data = json.load(f)"
      ],
      "metadata": {
        "id": "IVWhen3IJrf7"
      },
      "execution_count": 6,
      "outputs": []
    },
    {
      "cell_type": "markdown",
      "source": [
        "## Supporting functions"
      ],
      "metadata": {
        "id": "sICM1dnyKwVs"
      }
    },
    {
      "cell_type": "markdown",
      "source": [
        "### Event data to vector data"
      ],
      "metadata": {
        "id": "fD2yE6BRNDeF"
      }
    },
    {
      "cell_type": "code",
      "source": [
        "def eventToVector(event: dict) -> tuple[list[float], list[float]]:\n",
        "  player1Statistic = [0.0]*11\n",
        "  player2Statistic = [0.0]*11\n",
        "\n",
        "  if \"goal scored\" in event['action']:\n",
        "    # goals\n",
        "    player1Statistic[0] += 1\n",
        "    # shots\n",
        "    player1Statistic[1] += 1\n",
        "    # assists\n",
        "    player2Statistic[2] += 1\n",
        "\n",
        "  elif \"exclusion\" in event['action']:\n",
        "    # exclusion\n",
        "    player1Statistic[5] += 1\n",
        "\n",
        "  elif \"penalty foul\" in event['action']:\n",
        "    # penalty\n",
        "    player1Statistic[6] += 1\n",
        "\n",
        "  elif \"shot missed\" in event['action']:\n",
        "    # shots\n",
        "    player1Statistic[1] += 1\n",
        "\n",
        "  elif \"shot saved\" in event['action']:\n",
        "    # shots\n",
        "    player1Statistic[1] += 1\n",
        "\n",
        "  elif \"shot blocked\" in event['action']:\n",
        "    # shots\n",
        "    player1Statistic[1] += 1\n",
        "    # blocks\n",
        "    player2Statistic[3] += 1\n",
        "\n",
        "  elif \"suspention\" in event['action']:\n",
        "    # suspensions\n",
        "    player1Statistic[7] += 1\n",
        "\n",
        "  elif \"brutality\" in event['action']:\n",
        "    # brutalities\n",
        "    player1Statistic[8] += 1\n",
        "\n",
        "  elif \"sprint won\" in event['action']:\n",
        "    # sprint won\n",
        "    player1Statistic[9] += 1\n",
        "    # sprint\n",
        "    player1Statistic[10] += 1\n",
        "    # sprint\n",
        "    player2Statistic[10] += 1\n",
        "\n",
        "  return (player1Statistic, player2Statistic);"
      ],
      "metadata": {
        "id": "GzvDBWk8Kyxt"
      },
      "execution_count": 7,
      "outputs": []
    },
    {
      "cell_type": "markdown",
      "source": [
        "### Is second player ally"
      ],
      "metadata": {
        "id": "d9DL29iYRCjE"
      }
    },
    {
      "cell_type": "code",
      "source": [
        "def isAlly(event: dict) -> bool:\n",
        "  if 'goal scored' in event['action']:\n",
        "    return True\n",
        "  return False"
      ],
      "metadata": {
        "id": "JJZrjgyfRHgY"
      },
      "execution_count": 8,
      "outputs": []
    },
    {
      "cell_type": "markdown",
      "source": [
        "### Update list"
      ],
      "metadata": {
        "id": "ym-JP6OsMCQp"
      }
    },
    {
      "cell_type": "code",
      "source": [
        "def Update(original: list, update: list) -> list:\n",
        "  assert len(original) == len(update)\n",
        "\n",
        "  return[original[x] + update[x] for x in range(len(original))]"
      ],
      "metadata": {
        "id": "csl54nV8MJYg"
      },
      "execution_count": 9,
      "outputs": []
    },
    {
      "cell_type": "markdown",
      "source": [
        "## Gather match ids"
      ],
      "metadata": {
        "id": "thJWMu1_E6zt"
      }
    },
    {
      "cell_type": "code",
      "source": [
        "match_ids = [match_id for match_id in scraped_data['matches']]"
      ],
      "metadata": {
        "id": "vIp2SOg7KWij"
      },
      "execution_count": 10,
      "outputs": []
    },
    {
      "cell_type": "markdown",
      "source": [
        "## Data generation"
      ],
      "metadata": {
        "id": "JQkiQ9T8cd34"
      }
    },
    {
      "cell_type": "markdown",
      "source": [
        "### Team data gathering"
      ],
      "metadata": {
        "id": "UqKkkuS3KVAu"
      }
    },
    {
      "cell_type": "code",
      "source": [
        "match_list = match_ids\n",
        "results = {}\n",
        "team_data = {}\n",
        "\n",
        "for match_id in match_list:\n",
        "  #=============================================================================\n",
        "  # Collect match results\n",
        "  #=============================================================================\n",
        "  results[match_id] = scraped_data['matches'][match_id]['result']['away'] - scraped_data['matches'][match_id]['result']['home']\n",
        "  if results[match_id] == 0:\n",
        "    del results[match_id]\n",
        "    continue\n",
        "\n",
        "  #=============================================================================\n",
        "  # Prepare statistics dictionary for a teams players\n",
        "  #=============================================================================\n",
        "  statistics = {\n",
        "      'home': {int(x): [0.0]*11 for x in scraped_data['matches'][match_id]['lineup']['home']},\n",
        "      'away': {int(x): [0.0]*11 for x in scraped_data['matches'][match_id]['lineup']['away']}\n",
        "  }\n",
        "\n",
        "  if len(statistics['home']) < 7 or len(statistics['away']) < 7:\n",
        "    del results[match_id]\n",
        "    continue\n",
        "\n",
        "  #=============================================================================\n",
        "  # Calculate team statistics\n",
        "\n",
        "  #=============================================================================\n",
        "  # Add missing teams in team_data\n",
        "  #=============================================================================\n",
        "  for team in ['home', 'away']:\n",
        "    if not scraped_data['matches'][match_id]['name'][team] in team_data:\n",
        "      team_data[scraped_data['matches'][match_id]['name'][team]] = [[0.0]*11, 0]\n",
        "\n",
        "  #=============================================================================\n",
        "  # Loop through all events and update player statistics\n",
        "  #=============================================================================\n",
        "  for event in scraped_data['matches'][match_id]['plays']:\n",
        "    num_1 = event['player_1']\n",
        "    num_2 = event['player_2']\n",
        "    primary_team = event['team']\n",
        "    secondary_team = primary_team if isAlly(event) else 'away' if primary_team == 'home' else 'home'\n",
        "\n",
        "    # no player was recorded for this event\n",
        "    if num_1 == 0:\n",
        "      continue\n",
        "\n",
        "    # no secondary player was recorded for this event\n",
        "    elif num_2 == 0:\n",
        "      data_1, _ = eventToVector(event)\n",
        "      statistics[primary_team][num_1] = Update(statistics[primary_team][num_1], data_1)\n",
        "\n",
        "    # there are 2 players recorded for this event\n",
        "    else:\n",
        "      data_1, data_2 = eventToVector(event)\n",
        "      statistics[primary_team][num_1] = Update(statistics[primary_team][num_1], data_1)\n",
        "      statistics[secondary_team][num_2] = Update(statistics[secondary_team][num_2], data_2)\n",
        "\n",
        "  #=============================================================================\n",
        "  # Update team overall data\n",
        "  #=============================================================================\n",
        "  for team in ['home', 'away']:\n",
        "    team_name = scraped_data['matches'][match_id]['name'][team]\n",
        "\n",
        "    for player in statistics[team]:\n",
        "      team_data[team_name][0] = Update(team_data[team_name][0], statistics[team][player])\n",
        "      team_data[team_name][1] += 1"
      ],
      "metadata": {
        "id": "TAPQOXrFGYCM"
      },
      "execution_count": 11,
      "outputs": []
    },
    {
      "cell_type": "markdown",
      "source": [
        "### Calculate team statistics"
      ],
      "metadata": {
        "id": "-ssrNC0_bl6V"
      }
    },
    {
      "cell_type": "code",
      "source": [
        "team_statistics = { team: [x/team_data[team][1] for x in team_data[team][0]] for team in team_data }"
      ],
      "metadata": {
        "id": "mhqtGUY8brQN"
      },
      "execution_count": 12,
      "outputs": []
    },
    {
      "cell_type": "markdown",
      "source": [
        "### Dictionaries"
      ],
      "metadata": {
        "id": "XnhOB8lZcou4"
      }
    },
    {
      "cell_type": "code",
      "source": [
        "team_IdToIndex = { team: i for i, team in enumerate(team_statistics) }\n",
        "team_IndexToId = { i: team for i, team in enumerate(team_statistics) }"
      ],
      "metadata": {
        "id": "kt90DIKuc1pQ"
      },
      "execution_count": 13,
      "outputs": []
    },
    {
      "cell_type": "markdown",
      "source": [
        "### Create data matrices"
      ],
      "metadata": {
        "id": "c2Mtpni3enbA"
      }
    },
    {
      "cell_type": "code",
      "source": [
        "team_matrix = [team_statistics[team_IndexToId[i]] for i in team_IndexToId]\n",
        "\n",
        "edge_index = [[], []]\n",
        "edge_attr = [[]]\n",
        "edge_weight = []\n",
        "for result in results:\n",
        "  home_id = scraped_data['matches'][match_id]['name']['home']\n",
        "  away_id = scraped_data['matches'][match_id]['name']['away']\n",
        "\n",
        "  home_index = team_IdToIndex[scraped_data['matches'][match_id]['name']['home']]\n",
        "  away_index = team_IdToIndex[scraped_data['matches'][match_id]['name']['away']]\n",
        "\n",
        "  edge_index[0].append(home_index)\n",
        "  edge_index[1].append(away_index)\n",
        "  edge_attr[0].append(1 if results[match_id] > 0 else -1)\n",
        "  edge_weight.append(abs(results[match_id]))\n",
        "\n",
        "  edge_index[0].append(away_index)\n",
        "  edge_index[1].append(home_index)\n",
        "  edge_attr[0].append(-1 if results[match_id] < 0 else 1)\n",
        "  edge_weight.append(abs(results[match_id]))\n",
        "\n",
        "numOfTrain = int(len(edge_weight)*train_rate)\n",
        "numOfVal = len(edge_weight) - numOfTrain"
      ],
      "metadata": {
        "id": "pMZiSZ-meqBr"
      },
      "execution_count": 14,
      "outputs": []
    },
    {
      "cell_type": "markdown",
      "metadata": {
        "id": "dLoR1c-2GGun"
      },
      "source": [
        "# Learning"
      ]
    },
    {
      "cell_type": "code",
      "execution_count": 15,
      "metadata": {
        "id": "v857MBSRGIAP"
      },
      "outputs": [],
      "source": [
        "epochs = 100\n",
        "\n",
        "lr = 0.01\n",
        "dropout_p = 0.0\n",
        "Diff = True\n",
        "Tie = True\n",
        "crit = torch.nn.MSELoss()"
      ]
    },
    {
      "cell_type": "markdown",
      "metadata": {
        "id": "rQFhdJpZxlIV"
      },
      "source": [
        "# Data"
      ]
    },
    {
      "cell_type": "code",
      "execution_count": 16,
      "metadata": {
        "id": "st4LyWyGxpzS"
      },
      "outputs": [],
      "source": [
        "data = Data()\n",
        "data.x = torch.Tensor(\n",
        "    team_matrix\n",
        ")\n",
        "data.edge_index = torch.Tensor(\n",
        "    edge_index\n",
        ").type(torch.long)\n",
        "data.edge_attr = torch.Tensor(\n",
        "    edge_attr\n",
        ")\n",
        "data.edge_weight = torch.abs(torch.Tensor(\n",
        "    edge_weight\n",
        "))\n",
        "\n",
        "data.train_mask = torch.Tensor(\n",
        "    [[True]*numOfTrain + [False]*numOfVal]\n",
        ").type(torch.bool)\n",
        "data.val_mask = torch.Tensor(\n",
        "    [[False]*numOfTrain + [True]*numOfVal]\n",
        ").type(torch.bool)"
      ]
    },
    {
      "cell_type": "code",
      "source": [
        "def plotLoss(loss_data: list[float]):\n",
        "  plt.plot(range(len(loss_data)), loss_data)\n",
        "  plt.show()"
      ],
      "metadata": {
        "id": "36F8aAumY6F6"
      },
      "execution_count": 17,
      "outputs": []
    },
    {
      "cell_type": "markdown",
      "source": [
        "# Model"
      ],
      "metadata": {
        "id": "94X-Ci-Lfrel"
      }
    },
    {
      "cell_type": "code",
      "source": [
        "class model(torch.nn.Module):\n",
        "  def __init__(self, channels: list[int], device: str='cpu', dropout: float=0.0):\n",
        "    assert len(channels) >= 2\n",
        "\n",
        "    super().__init__()\n",
        "\n",
        "    self.device = device\n",
        "    self.dropout = dropout\n",
        "\n",
        "    self.gcn = torch.nn.ModuleList()\n",
        "    for i in range(len(channels) - 1):\n",
        "      self.gcn.append(nn.GCNConv(channels[i], channels[i+1], add_self_loops=False))\n",
        "    self.gcn.to(self.device)\n",
        "\n",
        "    self.lin = torch.nn.Linear(channels[-1]*2, 1).to(self.device)\n",
        "\n",
        "  def forward(self, x: torch.Tensor, edge_index: torch.Tensor, edge_weight: torch.Tensor) -> torch.Tensor:\n",
        "    # move data to device\n",
        "    x = x.to(self.device)\n",
        "    edge_index = edge_index.to(self.device)\n",
        "    edge_weight = edge_weight.to(self.device)\n",
        "\n",
        "    # calculate values for each team\n",
        "    for module in self.gcn:\n",
        "      x = module(x, edge_index, edge_weight)\n",
        "      x = x.relu()\n",
        "      x = F.dropout(x, p=self.dropout, training=self.training)\n",
        "\n",
        "    # create match vectors by combining teams that played\n",
        "    x_1st = x[edge_index[0]]\n",
        "    x_2nd = x[edge_index[1]]\n",
        "    lin_input = torch.cat((x_1st, x_2nd), dim=1)\n",
        "\n",
        "    # calculate result from match vector\n",
        "    x = self.lin(lin_input)\n",
        "\n",
        "    return x.T"
      ],
      "metadata": {
        "id": "Sw1X3q0scwes"
      },
      "execution_count": 18,
      "outputs": []
    },
    {
      "cell_type": "markdown",
      "source": [
        "# Learn"
      ],
      "metadata": {
        "id": "9k_Z3obnmvU3"
      }
    },
    {
      "cell_type": "code",
      "source": [
        "gcn = model([11] + [11*4]*5 + [11*2], device=device, dropout=dropout_p)\n",
        "gcn.to(device)\n",
        "optimizer = torch.optim.Adam(gcn.parameters(), lr=lr)\n",
        "\n",
        "loss_values = []\n",
        "\n",
        "for epoch in range(epochs):\n",
        "  # prepare model for training\n",
        "  gcn.train()\n",
        "  optimizer.zero_grad()\n",
        "\n",
        "  # prepare train data\n",
        "  train_mask = torch.reshape(data.train_mask, (-1,))\n",
        "  x = data.x\n",
        "  edge_index = data.edge_index[:, train_mask]\n",
        "  edge_weight = data.edge_weight[train_mask]\n",
        "\n",
        "  # train\n",
        "  pred = gcn(x, edge_index, edge_weight).to(device)\n",
        "\n",
        "  # prepare validation data\n",
        "  ground_truth = data.edge_attr[:, train_mask].to(device)\n",
        "  ground_truth.requires_grad = True\n",
        "\n",
        "  # calculate loss\n",
        "  loss = crit(pred, ground_truth)\n",
        "  loss_values.append(loss.item())\n",
        "  loss.backward()\n",
        "  optimizer.step()\n",
        "\n",
        "# draw loss\n",
        "plotLoss(loss_values)"
      ],
      "metadata": {
        "id": "20HVifqKmyFA",
        "colab": {
          "base_uri": "https://localhost:8080/",
          "height": 430
        },
        "outputId": "f731d264-fbde-4031-8fca-b6ff3999b6c1"
      },
      "execution_count": 19,
      "outputs": [
        {
          "output_type": "display_data",
          "data": {
            "text/plain": [
              "<Figure size 640x480 with 1 Axes>"
            ],
            "image/png": "[encoded data removed]"
          },
          "metadata": {}
        }
      ]
    },
    {
      "cell_type": "markdown",
      "source": [
        "# Evaluate"
      ],
      "metadata": {
        "id": "AsC5qrgejlUs"
      }
    },
    {
      "cell_type": "code",
      "source": [
        "gcn.eval()\n",
        "\n",
        "val_mask = torch.reshape(data.val_mask, (-1,))\n",
        "x = data.x\n",
        "edge_index = data.edge_index[:, val_mask]\n",
        "edge_weight = data.edge_weight[val_mask]\n",
        "\n",
        "pred = gcn(x, edge_index, edge_weight).to(device).T\n",
        "class_pred = (torch.where(pred >= tie_value, win_value, loss_value) + 1)/2\n",
        "\n",
        "ground_truth = data.edge_attr[:, val_mask].to(device).T\n",
        "ground_truth.requires_grad = True\n",
        "class_ground_truth = (ground_truth + 1)/2\n",
        "\n",
        "R2 = M.R2Score()\n",
        "R2.to(device)\n",
        "R2.update(pred, ground_truth)\n",
        "print(f\"R2: {R2.compute()}\")\n",
        "\n",
        "MSE = M.MeanSquaredError()\n",
        "MSE.to(device)\n",
        "MSE.update(pred, ground_truth)\n",
        "print(f\"MSE: {MSE.compute()}\")\n",
        "\n",
        "BiAcc = M.BinaryAccuracy()\n",
        "BiAcc.to(device)\n",
        "BiAcc.update(torch.reshape(class_pred, (-1,)), torch.reshape(class_ground_truth, (-1,)))\n",
        "print(f\"BiAcc: {BiAcc.compute()}\")"
      ],
      "metadata": {
        "id": "tGOp9d8njnSf",
        "colab": {
          "base_uri": "https://localhost:8080/"
        },
        "outputId": "596b33fb-d48d-4c0b-8f53-369779f7992a"
      },
      "execution_count": 20,
      "outputs": [
        {
          "output_type": "stream",
          "name": "stdout",
          "text": [
            "R2: -inf\n",
            "MSE: 2.062995918095112e-06\n",
            "BiAcc: 1.0\n"
          ]
        }
      ]
    }
  ],
  "metadata": {
    "accelerator": "GPU",
    "colab": {
      "gpuType": "T4",
      "provenance": [],
      "collapsed_sections": [
        "VBFEUPjNChfb",
        "nM7frj8XaSse",
        "cd3gwsyZaX96",
        "Z_bTeA4IClUF",
        "f7r0Qb87JIoB",
        "AJ1bXZuhJn65",
        "fD2yE6BRNDeF",
        "d9DL29iYRCjE",
        "ym-JP6OsMCQp",
        "-ssrNC0_bl6V",
        "XnhOB8lZcou4",
        "c2Mtpni3enbA",
        "94X-Ci-Lfrel"
      ],
      "authorship_tag": "ABX9TyOdbZDR8e2NroBRV1KJ1lS/",
      "include_colab_link": true
    },
    "kernelspec": {
      "display_name": "Python 3",
      "name": "python3"
    },
    "language_info": {
      "name": "python"
    }
  },
  "nbformat": 4,
  "nbformat_minor": 0
}